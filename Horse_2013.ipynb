{
 "cells": [
  {
   "cell_type": "code",
   "execution_count": 369,
   "metadata": {},
   "outputs": [],
   "source": [
    "import pandas as pd\n",
    "import numpy as np\n",
    "import seaborn as sns\n",
    "import matplotlib.pyplot as plt"
   ]
  },
  {
   "cell_type": "markdown",
   "metadata": {},
   "source": [
    "# Horse Data"
   ]
  },
  {
   "cell_type": "code",
   "execution_count": 370,
   "metadata": {},
   "outputs": [],
   "source": [
    "horse_data=pd.read_csv('HorseData2013.csv',encoding='latin-1')"
   ]
  },
  {
   "cell_type": "code",
   "execution_count": 371,
   "metadata": {},
   "outputs": [
    {
     "data": {
      "text/plain": [
       "(205661, 100)"
      ]
     },
     "execution_count": 371,
     "metadata": {},
     "output_type": "execute_result"
    }
   ],
   "source": [
    "horse_data.shape"
   ]
  },
  {
   "cell_type": "code",
   "execution_count": 372,
   "metadata": {
    "scrolled": false
   },
   "outputs": [
    {
     "name": "stdout",
     "output_type": "stream",
     "text": [
      "<class 'pandas.core.frame.DataFrame'>\n",
      "RangeIndex: 205661 entries, 0 to 205660\n",
      "Data columns (total 100 columns):\n",
      " #   Column       Non-Null Count   Dtype  \n",
      "---  ------       --------------   -----  \n",
      " 0   Unnamed: 0   205661 non-null  int64  \n",
      " 1   X.1          205661 non-null  int64  \n",
      " 2   X            205661 non-null  int64  \n",
      " 3   RNO          205661 non-null  int64  \n",
      " 4   TNO          205661 non-null  int64  \n",
      " 5   E            6393 non-null    object \n",
      " 6   FORM         194019 non-null  object \n",
      " 7   HORSE        205661 non-null  object \n",
      " 8   CTY          45451 non-null   object \n",
      " 9   BP           205661 non-null  int64  \n",
      " 10  JOCKEY       205605 non-null  object \n",
      " 11  ALL          205661 non-null  float64\n",
      " 12  WGT          205661 non-null  float64\n",
      " 13  STAKES       205661 non-null  int64  \n",
      " 14  AGE          205661 non-null  int64  \n",
      " 15  COL          205661 non-null  object \n",
      " 16  SEX          205661 non-null  object \n",
      " 17  TRAINER      205661 non-null  object \n",
      " 18  STABLES      205661 non-null  object \n",
      " 19  STARTS       205661 non-null  int64  \n",
      " 20  WINS         205661 non-null  int64  \n",
      " 21  PL2          205661 non-null  int64  \n",
      " 22  PL3          205661 non-null  int64  \n",
      " 23  TDS          205661 non-null  int64  \n",
      " 24  TDW          205661 non-null  int64  \n",
      " 25  TD2          205661 non-null  int64  \n",
      " 26  TD3          205661 non-null  int64  \n",
      " 27  TCS          205661 non-null  int64  \n",
      " 28  TCW          205661 non-null  int64  \n",
      " 29  TC2          205661 non-null  int64  \n",
      " 30  TC3          205661 non-null  int64  \n",
      " 31  FS           205661 non-null  int64  \n",
      " 32  FW           205661 non-null  int64  \n",
      " 33  F2           205661 non-null  int64  \n",
      " 34  F3           205661 non-null  int64  \n",
      " 35  GS           205661 non-null  int64  \n",
      " 36  GW           205661 non-null  int64  \n",
      " 37  G2           205661 non-null  int64  \n",
      " 38  G3           205661 non-null  int64  \n",
      " 39  DS           205661 non-null  int64  \n",
      " 40  DW           205661 non-null  int64  \n",
      " 41  D2           205661 non-null  int64  \n",
      " 42  D3           205661 non-null  int64  \n",
      " 43  SS           205661 non-null  int64  \n",
      " 44  SW           205661 non-null  int64  \n",
      " 45  S2           205661 non-null  int64  \n",
      " 46  S3           205661 non-null  int64  \n",
      " 47  HS           205661 non-null  int64  \n",
      " 48  HW           205661 non-null  int64  \n",
      " 49  H2           205661 non-null  int64  \n",
      " 50  H3           205661 non-null  int64  \n",
      " 51  FUS          205661 non-null  int64  \n",
      " 52  FUW          205661 non-null  int64  \n",
      " 53  FU2          205661 non-null  int64  \n",
      " 54  FU3          205661 non-null  int64  \n",
      " 55  DAYS         205661 non-null  int64  \n",
      " 56  RUNS         205661 non-null  int64  \n",
      " 57  DDIST        205661 non-null  int64  \n",
      " 58  DWGT         205661 non-null  float64\n",
      " 59  BREEDING     205661 non-null  object \n",
      " 60  OWNER        196511 non-null  object \n",
      " 61  SILKS        195898 non-null  object \n",
      " 62  DISTWINS     135614 non-null  object \n",
      " 63  TBASE        205661 non-null  float64\n",
      " 64  XPEAK        205661 non-null  float64\n",
      " 65  PRICE        205661 non-null  float64\n",
      " 66  LBD          205661 non-null  int64  \n",
      " 67  SCR          205661 non-null  object \n",
      " 68  DOK          197963 non-null  object \n",
      " 69  FOK          120863 non-null  object \n",
      " 70  IMP          56050 non-null   object \n",
      " 71  LEN          205661 non-null  float64\n",
      " 72  FNO          205661 non-null  int64  \n",
      " 73  FRT          205661 non-null  int64  \n",
      " 74  WNF          182272 non-null  object \n",
      " 75  POS          205661 non-null  int64  \n",
      " 76  WET          140719 non-null  object \n",
      " 77  JRT          205661 non-null  int64  \n",
      " 78  DS1          194019 non-null  object \n",
      " 79  DS2          183008 non-null  object \n",
      " 80  DS3          172688 non-null  object \n",
      " 81  RS1          205661 non-null  float64\n",
      " 82  RS2          205661 non-null  float64\n",
      " 83  RS3          205661 non-null  float64\n",
      " 84  BPRICE       205661 non-null  int64  \n",
      " 85  CPRICE       205661 non-null  float64\n",
      " 86  TS1          205661 non-null  object \n",
      " 87  TS2          205661 non-null  object \n",
      " 88  TS3          205661 non-null  object \n",
      " 89  COMMENT      51057 non-null   object \n",
      " 90  FNAME        205661 non-null  object \n",
      " 91  FDATE        205661 non-null  object \n",
      " 92  VCODE        205661 non-null  object \n",
      " 93  RACEID       205661 non-null  object \n",
      " 94  HORSEID      205661 non-null  object \n",
      " 95  MTYPE        205661 non-null  object \n",
      " 96  JockeyWinP   205661 non-null  float64\n",
      " 97  JockeyRATE   205661 non-null  float64\n",
      " 98  TrainerWinP  205661 non-null  float64\n",
      " 99  TrainerRATE  205661 non-null  float64\n",
      "dtypes: float64(15), int64(53), object(32)\n",
      "memory usage: 156.9+ MB\n"
     ]
    }
   ],
   "source": [
    "horse_data.info()"
   ]
  },
  {
   "cell_type": "markdown",
   "metadata": {},
   "source": [
    "# Jockey Data"
   ]
  },
  {
   "cell_type": "code",
   "execution_count": 373,
   "metadata": {},
   "outputs": [],
   "source": [
    "jockey_stats=pd.read_csv('Jockey_Stats_2013.csv')"
   ]
  },
  {
   "cell_type": "code",
   "execution_count": 374,
   "metadata": {},
   "outputs": [
    {
     "data": {
      "text/plain": [
       "(1534, 9)"
      ]
     },
     "execution_count": 374,
     "metadata": {},
     "output_type": "execute_result"
    }
   ],
   "source": [
    "jockey_stats.shape"
   ]
  },
  {
   "cell_type": "code",
   "execution_count": 375,
   "metadata": {
    "scrolled": false
   },
   "outputs": [
    {
     "name": "stdout",
     "output_type": "stream",
     "text": [
      "<class 'pandas.core.frame.DataFrame'>\n",
      "RangeIndex: 1534 entries, 0 to 1533\n",
      "Data columns (total 9 columns):\n",
      " #   Column   Non-Null Count  Dtype  \n",
      "---  ------   --------------  -----  \n",
      " 0   JOCKEY   1534 non-null   object \n",
      " 1   Bets     1534 non-null   int64  \n",
      " 2   Wins     1534 non-null   int64  \n",
      " 3   $Return  1534 non-null   float64\n",
      " 4   Outs     1534 non-null   int64  \n",
      " 5   %SR      1534 non-null   float64\n",
      " 6   $Profit  1534 non-null   float64\n",
      " 7   %POT     1534 non-null   float64\n",
      " 8   RATE     1534 non-null   float64\n",
      "dtypes: float64(5), int64(3), object(1)\n",
      "memory usage: 108.0+ KB\n"
     ]
    }
   ],
   "source": [
    "jockey_stats.info()"
   ]
  },
  {
   "cell_type": "markdown",
   "metadata": {},
   "source": [
    "# Race Data"
   ]
  },
  {
   "cell_type": "code",
   "execution_count": 376,
   "metadata": {},
   "outputs": [],
   "source": [
    "race_data=pd.read_csv('RaceData2013.csv')"
   ]
  },
  {
   "cell_type": "code",
   "execution_count": 377,
   "metadata": {},
   "outputs": [
    {
     "data": {
      "text/plain": [
       "(20149, 33)"
      ]
     },
     "execution_count": 377,
     "metadata": {},
     "output_type": "execute_result"
    }
   ],
   "source": [
    "race_data.shape"
   ]
  },
  {
   "cell_type": "code",
   "execution_count": 378,
   "metadata": {
    "scrolled": false
   },
   "outputs": [
    {
     "name": "stdout",
     "output_type": "stream",
     "text": [
      "<class 'pandas.core.frame.DataFrame'>\n",
      "RangeIndex: 20149 entries, 0 to 20148\n",
      "Data columns (total 33 columns):\n",
      " #   Column      Non-Null Count  Dtype  \n",
      "---  ------      --------------  -----  \n",
      " 0   Unnamed: 0  20149 non-null  int64  \n",
      " 1   X           20149 non-null  int64  \n",
      " 2   RNO         20149 non-null  int64  \n",
      " 3   RACENAME    20149 non-null  object \n",
      " 4   DIST        20149 non-null  int64  \n",
      " 5   JUMP        20149 non-null  object \n",
      " 6   CLASS       20149 non-null  object \n",
      " 7   STAKES      20149 non-null  int64  \n",
      " 8   AGE         7930 non-null   object \n",
      " 9   REST        2275 non-null   object \n",
      " 10  CLAIM       20149 non-null  object \n",
      " 11  WEIGHTS     20149 non-null  object \n",
      " 12  LIMIT       20149 non-null  float64\n",
      " 13  NREC        20149 non-null  int64  \n",
      " 14  GOING       20149 non-null  object \n",
      " 15  T1          20149 non-null  int64  \n",
      " 16  T2          20149 non-null  int64  \n",
      " 17  T3          20149 non-null  int64  \n",
      " 18  WN          20149 non-null  float64\n",
      " 19  QN          20149 non-null  float64\n",
      " 20  EX          20149 non-null  float64\n",
      " 21  TT          20149 non-null  float64\n",
      " 22  T4          20149 non-null  int64  \n",
      " 23  PD1         20149 non-null  float64\n",
      " 24  PD2         20149 non-null  float64\n",
      " 25  PD3         20149 non-null  float64\n",
      " 26  FF          20149 non-null  float64\n",
      " 27  SCRS        14809 non-null  object \n",
      " 28  FDATE       20149 non-null  object \n",
      " 29  VCODE       20149 non-null  object \n",
      " 30  RACEID      20149 non-null  object \n",
      " 31  MTYPE       20149 non-null  object \n",
      " 32  ADJ_JUMP    20149 non-null  object \n",
      "dtypes: float64(9), int64(10), object(14)\n",
      "memory usage: 5.1+ MB\n"
     ]
    }
   ],
   "source": [
    "race_data.info()"
   ]
  },
  {
   "cell_type": "markdown",
   "metadata": {},
   "source": [
    "# Past Performance"
   ]
  },
  {
   "cell_type": "code",
   "execution_count": 379,
   "metadata": {},
   "outputs": [],
   "source": [
    "past_perf=pd.read_csv('PastPerfData2013.csv')"
   ]
  },
  {
   "cell_type": "code",
   "execution_count": 380,
   "metadata": {},
   "outputs": [
    {
     "data": {
      "text/plain": [
       "(195493, 54)"
      ]
     },
     "execution_count": 380,
     "metadata": {},
     "output_type": "execute_result"
    }
   ],
   "source": [
    "past_perf.shape"
   ]
  },
  {
   "cell_type": "code",
   "execution_count": 381,
   "metadata": {
    "scrolled": true
   },
   "outputs": [
    {
     "name": "stdout",
     "output_type": "stream",
     "text": [
      "<class 'pandas.core.frame.DataFrame'>\n",
      "RangeIndex: 195493 entries, 0 to 195492\n",
      "Data columns (total 54 columns):\n",
      " #   Column      Non-Null Count   Dtype  \n",
      "---  ------      --------------   -----  \n",
      " 0   Unnamed: 0  195493 non-null  int64  \n",
      " 1   X.1         195493 non-null  int64  \n",
      " 2   X           195493 non-null  int64  \n",
      " 3   HORSE       195493 non-null  object \n",
      " 4   FIN         195493 non-null  int64  \n",
      " 5   STR         195493 non-null  int64  \n",
      " 6   MARG        195493 non-null  float64\n",
      " 7   DATE        195493 non-null  object \n",
      " 8   TRACK       195493 non-null  object \n",
      " 9   M           192966 non-null  object \n",
      " 10  RNO         195493 non-null  int64  \n",
      " 11  PRIZE       195493 non-null  float64\n",
      " 12  PRWIN       195493 non-null  float64\n",
      " 13  EVENT       195493 non-null  object \n",
      " 14  CLASS       195493 non-null  object \n",
      " 15  AGE         76618 non-null   object \n",
      " 16  REST        21660 non-null   object \n",
      " 17  G           195493 non-null  object \n",
      " 18  DIST        195493 non-null  int64  \n",
      " 19  TIME        195493 non-null  float64\n",
      " 20  SDIST       195493 non-null  int64  \n",
      " 21  STIME       195493 non-null  float64\n",
      " 22  OP          137922 non-null  object \n",
      " 23  MP          30682 non-null   object \n",
      " 24  SP          195493 non-null  object \n",
      " 25  WGT         195493 non-null  float64\n",
      " 26  ALL         195493 non-null  float64\n",
      " 27  LIM         195493 non-null  float64\n",
      " 28  JOCKEY      195493 non-null  object \n",
      " 29  BP          195493 non-null  int64  \n",
      " 30  SD          195493 non-null  int64  \n",
      " 31  TW          195493 non-null  int64  \n",
      " 32  EI          195493 non-null  int64  \n",
      " 33  FO          195493 non-null  int64  \n",
      " 34  F1          195493 non-null  int64  \n",
      " 35  OTHER1      195493 non-null  object \n",
      " 36  WGT1        195493 non-null  float64\n",
      " 37  F2          195491 non-null  float64\n",
      " 38  OTHER2      195491 non-null  object \n",
      " 39  WGT2        195493 non-null  float64\n",
      " 40  F3          195430 non-null  float64\n",
      " 41  OTHER3      195430 non-null  object \n",
      " 42  WGT3        195493 non-null  float64\n",
      " 43  TRT         195493 non-null  float64\n",
      " 44  WRT         194289 non-null  float64\n",
      " 45  FNAME       195493 non-null  object \n",
      " 46  FDATE       195493 non-null  object \n",
      " 47  HORSEID     195493 non-null  object \n",
      " 48  CODE        195493 non-null  object \n",
      " 49  RACEID      195493 non-null  object \n",
      " 50  MTYPE       195493 non-null  object \n",
      " 51  RACESTAKES  195493 non-null  int64  \n",
      " 52  SP_ODDS     195493 non-null  float64\n",
      " 53  DaysOLD     195493 non-null  int64  \n",
      "dtypes: float64(16), int64(16), object(22)\n",
      "memory usage: 80.5+ MB\n"
     ]
    }
   ],
   "source": [
    "past_perf.info()"
   ]
  },
  {
   "cell_type": "markdown",
   "metadata": {},
   "source": [
    "# Trainer's Data "
   ]
  },
  {
   "cell_type": "code",
   "execution_count": 382,
   "metadata": {},
   "outputs": [],
   "source": [
    "trainer_data=pd.read_csv('Trainer_Stats_2013.csv')"
   ]
  },
  {
   "cell_type": "code",
   "execution_count": 383,
   "metadata": {},
   "outputs": [
    {
     "name": "stdout",
     "output_type": "stream",
     "text": [
      "<class 'pandas.core.frame.DataFrame'>\n",
      "RangeIndex: 4491 entries, 0 to 4490\n",
      "Data columns (total 9 columns):\n",
      " #   Column   Non-Null Count  Dtype  \n",
      "---  ------   --------------  -----  \n",
      " 0   TRAINER  4491 non-null   object \n",
      " 1   Bets     4491 non-null   int64  \n",
      " 2   Wins     4491 non-null   int64  \n",
      " 3   $Return  4491 non-null   float64\n",
      " 4   Outs     4491 non-null   int64  \n",
      " 5   %SR      4491 non-null   float64\n",
      " 6   $Profit  4491 non-null   float64\n",
      " 7   %POT     4491 non-null   float64\n",
      " 8   RATE     4491 non-null   float64\n",
      "dtypes: float64(5), int64(3), object(1)\n",
      "memory usage: 315.9+ KB\n"
     ]
    }
   ],
   "source": [
    "trainer_data.info()"
   ]
  },
  {
   "cell_type": "code",
   "execution_count": 384,
   "metadata": {},
   "outputs": [
    {
     "data": {
      "text/plain": [
       "(4491, 9)"
      ]
     },
     "execution_count": 384,
     "metadata": {},
     "output_type": "execute_result"
    }
   ],
   "source": [
    "trainer_data.shape"
   ]
  },
  {
   "cell_type": "markdown",
   "metadata": {},
   "source": [
    "# Past Performance"
   ]
  },
  {
   "cell_type": "code",
   "execution_count": 385,
   "metadata": {},
   "outputs": [
    {
     "data": {
      "text/html": [
       "<div>\n",
       "<style scoped>\n",
       "    .dataframe tbody tr th:only-of-type {\n",
       "        vertical-align: middle;\n",
       "    }\n",
       "\n",
       "    .dataframe tbody tr th {\n",
       "        vertical-align: top;\n",
       "    }\n",
       "\n",
       "    .dataframe thead th {\n",
       "        text-align: right;\n",
       "    }\n",
       "</style>\n",
       "<table border=\"1\" class=\"dataframe\">\n",
       "  <thead>\n",
       "    <tr style=\"text-align: right;\">\n",
       "      <th></th>\n",
       "      <th>Unnamed: 0</th>\n",
       "      <th>X.1</th>\n",
       "      <th>X</th>\n",
       "      <th>HORSE</th>\n",
       "      <th>FIN</th>\n",
       "      <th>STR</th>\n",
       "      <th>MARG</th>\n",
       "      <th>DATE</th>\n",
       "      <th>TRACK</th>\n",
       "      <th>M</th>\n",
       "      <th>...</th>\n",
       "      <th>WRT</th>\n",
       "      <th>FNAME</th>\n",
       "      <th>FDATE</th>\n",
       "      <th>HORSEID</th>\n",
       "      <th>CODE</th>\n",
       "      <th>RACEID</th>\n",
       "      <th>MTYPE</th>\n",
       "      <th>RACESTAKES</th>\n",
       "      <th>SP_ODDS</th>\n",
       "      <th>DaysOLD</th>\n",
       "    </tr>\n",
       "  </thead>\n",
       "  <tbody>\n",
       "    <tr>\n",
       "      <th>0</th>\n",
       "      <td>656</td>\n",
       "      <td>832</td>\n",
       "      <td>832</td>\n",
       "      <td>Zartiki</td>\n",
       "      <td>12</td>\n",
       "      <td>12</td>\n",
       "      <td>18.0</td>\n",
       "      <td>2013-07-15</td>\n",
       "      <td>Moruya</td>\n",
       "      <td>U</td>\n",
       "      <td>...</td>\n",
       "      <td>0.0</td>\n",
       "      <td>G:/R Studio/Horse Racing/Model_10/Price Files ...</td>\n",
       "      <td>2013-08-02</td>\n",
       "      <td>2013-07-15Zartiki5</td>\n",
       "      <td>MOY</td>\n",
       "      <td>2013-07-15MOY5</td>\n",
       "      <td>N</td>\n",
       "      <td>15000</td>\n",
       "      <td>4.75</td>\n",
       "      <td>17</td>\n",
       "    </tr>\n",
       "    <tr>\n",
       "      <th>1</th>\n",
       "      <td>657</td>\n",
       "      <td>833</td>\n",
       "      <td>833</td>\n",
       "      <td>Zartiki</td>\n",
       "      <td>5</td>\n",
       "      <td>12</td>\n",
       "      <td>4.9</td>\n",
       "      <td>2013-06-28</td>\n",
       "      <td>Acton</td>\n",
       "      <td>p</td>\n",
       "      <td>...</td>\n",
       "      <td>0.0</td>\n",
       "      <td>G:/R Studio/Horse Racing/Model_10/Price Files ...</td>\n",
       "      <td>2013-08-02</td>\n",
       "      <td>2013-06-28Zartiki7</td>\n",
       "      <td>ACT</td>\n",
       "      <td>2013-06-28ACT7</td>\n",
       "      <td>N</td>\n",
       "      <td>15000</td>\n",
       "      <td>7.00</td>\n",
       "      <td>21</td>\n",
       "    </tr>\n",
       "    <tr>\n",
       "      <th>2</th>\n",
       "      <td>658</td>\n",
       "      <td>834</td>\n",
       "      <td>834</td>\n",
       "      <td>Zartiki</td>\n",
       "      <td>5</td>\n",
       "      <td>12</td>\n",
       "      <td>5.3</td>\n",
       "      <td>2013-06-07</td>\n",
       "      <td>Acton</td>\n",
       "      <td>P</td>\n",
       "      <td>...</td>\n",
       "      <td>0.0</td>\n",
       "      <td>G:/R Studio/Horse Racing/Model_10/Price Files ...</td>\n",
       "      <td>2013-08-02</td>\n",
       "      <td>2013-06-07Zartiki7</td>\n",
       "      <td>ACT</td>\n",
       "      <td>2013-06-07ACT7</td>\n",
       "      <td>N</td>\n",
       "      <td>13000</td>\n",
       "      <td>11.00</td>\n",
       "      <td>133</td>\n",
       "    </tr>\n",
       "    <tr>\n",
       "      <th>3</th>\n",
       "      <td>659</td>\n",
       "      <td>835</td>\n",
       "      <td>835</td>\n",
       "      <td>Zartiki</td>\n",
       "      <td>7</td>\n",
       "      <td>10</td>\n",
       "      <td>7.0</td>\n",
       "      <td>2013-01-25</td>\n",
       "      <td>Cberra</td>\n",
       "      <td>P</td>\n",
       "      <td>...</td>\n",
       "      <td>0.0</td>\n",
       "      <td>G:/R Studio/Horse Racing/Model_10/Price Files ...</td>\n",
       "      <td>2013-08-02</td>\n",
       "      <td>2013-01-25Zartiki7</td>\n",
       "      <td>CAB</td>\n",
       "      <td>2013-01-25CAB7</td>\n",
       "      <td>N</td>\n",
       "      <td>15000</td>\n",
       "      <td>6.00</td>\n",
       "      <td>12</td>\n",
       "    </tr>\n",
       "    <tr>\n",
       "      <th>4</th>\n",
       "      <td>660</td>\n",
       "      <td>836</td>\n",
       "      <td>836</td>\n",
       "      <td>Zartiki</td>\n",
       "      <td>2</td>\n",
       "      <td>10</td>\n",
       "      <td>0.1</td>\n",
       "      <td>2013-01-13</td>\n",
       "      <td>Cowra</td>\n",
       "      <td>U</td>\n",
       "      <td>...</td>\n",
       "      <td>0.0</td>\n",
       "      <td>G:/R Studio/Horse Racing/Model_10/Price Files ...</td>\n",
       "      <td>2013-08-02</td>\n",
       "      <td>2013-01-13Zartiki5</td>\n",
       "      <td>COW</td>\n",
       "      <td>2013-01-13COW5</td>\n",
       "      <td>N</td>\n",
       "      <td>15000</td>\n",
       "      <td>2.25</td>\n",
       "      <td>16</td>\n",
       "    </tr>\n",
       "    <tr>\n",
       "      <th>...</th>\n",
       "      <td>...</td>\n",
       "      <td>...</td>\n",
       "      <td>...</td>\n",
       "      <td>...</td>\n",
       "      <td>...</td>\n",
       "      <td>...</td>\n",
       "      <td>...</td>\n",
       "      <td>...</td>\n",
       "      <td>...</td>\n",
       "      <td>...</td>\n",
       "      <td>...</td>\n",
       "      <td>...</td>\n",
       "      <td>...</td>\n",
       "      <td>...</td>\n",
       "      <td>...</td>\n",
       "      <td>...</td>\n",
       "      <td>...</td>\n",
       "      <td>...</td>\n",
       "      <td>...</td>\n",
       "      <td>...</td>\n",
       "      <td>...</td>\n",
       "    </tr>\n",
       "    <tr>\n",
       "      <th>195488</th>\n",
       "      <td>1548026</td>\n",
       "      <td>19298375</td>\n",
       "      <td>19298375</td>\n",
       "      <td>Craiglea Gee Tee</td>\n",
       "      <td>5</td>\n",
       "      <td>9</td>\n",
       "      <td>3.0</td>\n",
       "      <td>2013-01-31</td>\n",
       "      <td>Mackay</td>\n",
       "      <td>U</td>\n",
       "      <td>...</td>\n",
       "      <td>0.0</td>\n",
       "      <td>G:/R Studio/Horse Racing/Model_10/Price Files ...</td>\n",
       "      <td>2013-02-14</td>\n",
       "      <td>2013-01-31Craiglea Gee Tee8</td>\n",
       "      <td>MAC</td>\n",
       "      <td>2013-01-31MAC8</td>\n",
       "      <td>N</td>\n",
       "      <td>10000</td>\n",
       "      <td>6.50</td>\n",
       "      <td>0</td>\n",
       "    </tr>\n",
       "    <tr>\n",
       "      <th>195489</th>\n",
       "      <td>1548100</td>\n",
       "      <td>19311015</td>\n",
       "      <td>19311015</td>\n",
       "      <td>Major Handell</td>\n",
       "      <td>2</td>\n",
       "      <td>14</td>\n",
       "      <td>0.5</td>\n",
       "      <td>2013-03-04</td>\n",
       "      <td>Esper.</td>\n",
       "      <td>U</td>\n",
       "      <td>...</td>\n",
       "      <td>0.0</td>\n",
       "      <td>G:/R Studio/Horse Racing/Model_10/Price Files ...</td>\n",
       "      <td>2015-05-08</td>\n",
       "      <td>2013-03-04Major Handell5</td>\n",
       "      <td>ESP</td>\n",
       "      <td>2013-03-04ESP5</td>\n",
       "      <td>N</td>\n",
       "      <td>8500</td>\n",
       "      <td>31.00</td>\n",
       "      <td>0</td>\n",
       "    </tr>\n",
       "    <tr>\n",
       "      <th>195490</th>\n",
       "      <td>1548179</td>\n",
       "      <td>19326491</td>\n",
       "      <td>19326491</td>\n",
       "      <td>Love Potion</td>\n",
       "      <td>8</td>\n",
       "      <td>8</td>\n",
       "      <td>7.6</td>\n",
       "      <td>2013-09-21</td>\n",
       "      <td>Wagga</td>\n",
       "      <td>U</td>\n",
       "      <td>...</td>\n",
       "      <td>0.0</td>\n",
       "      <td>G:/R Studio/Horse Racing/Model_10/Price Files ...</td>\n",
       "      <td>2013-10-12</td>\n",
       "      <td>2013-09-21Love Potion3</td>\n",
       "      <td>WAG</td>\n",
       "      <td>2013-09-21WAG3</td>\n",
       "      <td>N</td>\n",
       "      <td>8000</td>\n",
       "      <td>12.00</td>\n",
       "      <td>0</td>\n",
       "    </tr>\n",
       "    <tr>\n",
       "      <th>195491</th>\n",
       "      <td>1548182</td>\n",
       "      <td>19328570</td>\n",
       "      <td>19328570</td>\n",
       "      <td>Carefree</td>\n",
       "      <td>9</td>\n",
       "      <td>9</td>\n",
       "      <td>14.1</td>\n",
       "      <td>2013-02-12</td>\n",
       "      <td>Queanb</td>\n",
       "      <td>P</td>\n",
       "      <td>...</td>\n",
       "      <td>0.0</td>\n",
       "      <td>G:/R Studio/Horse Racing/Model_10/Price Files ...</td>\n",
       "      <td>2013-05-18</td>\n",
       "      <td>2013-02-12Carefree4</td>\n",
       "      <td>QEN</td>\n",
       "      <td>2013-02-12QEN4</td>\n",
       "      <td>N</td>\n",
       "      <td>15000</td>\n",
       "      <td>26.00</td>\n",
       "      <td>0</td>\n",
       "    </tr>\n",
       "    <tr>\n",
       "      <th>195492</th>\n",
       "      <td>1548183</td>\n",
       "      <td>19328647</td>\n",
       "      <td>19328647</td>\n",
       "      <td>Bayonet Charge</td>\n",
       "      <td>8</td>\n",
       "      <td>10</td>\n",
       "      <td>3.9</td>\n",
       "      <td>2013-05-02</td>\n",
       "      <td>Wagga</td>\n",
       "      <td>U</td>\n",
       "      <td>...</td>\n",
       "      <td>0.0</td>\n",
       "      <td>G:/R Studio/Horse Racing/Model_10/Price Files ...</td>\n",
       "      <td>2013-05-18</td>\n",
       "      <td>2013-05-02Bayonet Charge5</td>\n",
       "      <td>WAG</td>\n",
       "      <td>2013-05-02WAG5</td>\n",
       "      <td>N</td>\n",
       "      <td>20000</td>\n",
       "      <td>51.00</td>\n",
       "      <td>0</td>\n",
       "    </tr>\n",
       "  </tbody>\n",
       "</table>\n",
       "<p>195493 rows × 54 columns</p>\n",
       "</div>"
      ],
      "text/plain": [
       "        Unnamed: 0       X.1         X             HORSE  FIN  STR  MARG  \\\n",
       "0              656       832       832           Zartiki   12   12  18.0   \n",
       "1              657       833       833           Zartiki    5   12   4.9   \n",
       "2              658       834       834           Zartiki    5   12   5.3   \n",
       "3              659       835       835           Zartiki    7   10   7.0   \n",
       "4              660       836       836           Zartiki    2   10   0.1   \n",
       "...            ...       ...       ...               ...  ...  ...   ...   \n",
       "195488     1548026  19298375  19298375  Craiglea Gee Tee    5    9   3.0   \n",
       "195489     1548100  19311015  19311015     Major Handell    2   14   0.5   \n",
       "195490     1548179  19326491  19326491       Love Potion    8    8   7.6   \n",
       "195491     1548182  19328570  19328570          Carefree    9    9  14.1   \n",
       "195492     1548183  19328647  19328647    Bayonet Charge    8   10   3.9   \n",
       "\n",
       "              DATE   TRACK  M  ...  WRT  \\\n",
       "0       2013-07-15  Moruya  U  ...  0.0   \n",
       "1       2013-06-28   Acton  p  ...  0.0   \n",
       "2       2013-06-07   Acton  P  ...  0.0   \n",
       "3       2013-01-25  Cberra  P  ...  0.0   \n",
       "4       2013-01-13   Cowra  U  ...  0.0   \n",
       "...            ...     ... ..  ...  ...   \n",
       "195488  2013-01-31  Mackay  U  ...  0.0   \n",
       "195489  2013-03-04  Esper.  U  ...  0.0   \n",
       "195490  2013-09-21   Wagga  U  ...  0.0   \n",
       "195491  2013-02-12  Queanb  P  ...  0.0   \n",
       "195492  2013-05-02   Wagga  U  ...  0.0   \n",
       "\n",
       "                                                    FNAME       FDATE  \\\n",
       "0       G:/R Studio/Horse Racing/Model_10/Price Files ...  2013-08-02   \n",
       "1       G:/R Studio/Horse Racing/Model_10/Price Files ...  2013-08-02   \n",
       "2       G:/R Studio/Horse Racing/Model_10/Price Files ...  2013-08-02   \n",
       "3       G:/R Studio/Horse Racing/Model_10/Price Files ...  2013-08-02   \n",
       "4       G:/R Studio/Horse Racing/Model_10/Price Files ...  2013-08-02   \n",
       "...                                                   ...         ...   \n",
       "195488  G:/R Studio/Horse Racing/Model_10/Price Files ...  2013-02-14   \n",
       "195489  G:/R Studio/Horse Racing/Model_10/Price Files ...  2015-05-08   \n",
       "195490  G:/R Studio/Horse Racing/Model_10/Price Files ...  2013-10-12   \n",
       "195491  G:/R Studio/Horse Racing/Model_10/Price Files ...  2013-05-18   \n",
       "195492  G:/R Studio/Horse Racing/Model_10/Price Files ...  2013-05-18   \n",
       "\n",
       "                            HORSEID CODE          RACEID MTYPE RACESTAKES  \\\n",
       "0                2013-07-15Zartiki5  MOY  2013-07-15MOY5     N      15000   \n",
       "1                2013-06-28Zartiki7  ACT  2013-06-28ACT7     N      15000   \n",
       "2                2013-06-07Zartiki7  ACT  2013-06-07ACT7     N      13000   \n",
       "3                2013-01-25Zartiki7  CAB  2013-01-25CAB7     N      15000   \n",
       "4                2013-01-13Zartiki5  COW  2013-01-13COW5     N      15000   \n",
       "...                             ...  ...             ...   ...        ...   \n",
       "195488  2013-01-31Craiglea Gee Tee8  MAC  2013-01-31MAC8     N      10000   \n",
       "195489     2013-03-04Major Handell5  ESP  2013-03-04ESP5     N       8500   \n",
       "195490       2013-09-21Love Potion3  WAG  2013-09-21WAG3     N       8000   \n",
       "195491          2013-02-12Carefree4  QEN  2013-02-12QEN4     N      15000   \n",
       "195492    2013-05-02Bayonet Charge5  WAG  2013-05-02WAG5     N      20000   \n",
       "\n",
       "        SP_ODDS  DaysOLD  \n",
       "0          4.75       17  \n",
       "1          7.00       21  \n",
       "2         11.00      133  \n",
       "3          6.00       12  \n",
       "4          2.25       16  \n",
       "...         ...      ...  \n",
       "195488     6.50        0  \n",
       "195489    31.00        0  \n",
       "195490    12.00        0  \n",
       "195491    26.00        0  \n",
       "195492    51.00        0  \n",
       "\n",
       "[195493 rows x 54 columns]"
      ]
     },
     "execution_count": 385,
     "metadata": {},
     "output_type": "execute_result"
    }
   ],
   "source": [
    "past_perf"
   ]
  },
  {
   "cell_type": "code",
   "execution_count": 386,
   "metadata": {},
   "outputs": [],
   "source": [
    "past_perf.drop('Unnamed: 0',axis=1,inplace=True)"
   ]
  },
  {
   "cell_type": "code",
   "execution_count": 387,
   "metadata": {},
   "outputs": [
    {
     "data": {
      "text/plain": [
       "(195493, 53)"
      ]
     },
     "execution_count": 387,
     "metadata": {},
     "output_type": "execute_result"
    }
   ],
   "source": [
    "past_perf.shape"
   ]
  },
  {
   "cell_type": "markdown",
   "metadata": {},
   "source": [
    "# Checking null values"
   ]
  },
  {
   "cell_type": "code",
   "execution_count": 388,
   "metadata": {},
   "outputs": [
    {
     "data": {
      "text/plain": [
       "X.1                0\n",
       "X                  0\n",
       "HORSE              0\n",
       "FIN                0\n",
       "STR                0\n",
       "MARG               0\n",
       "DATE               0\n",
       "TRACK              0\n",
       "M               2527\n",
       "RNO                0\n",
       "PRIZE              0\n",
       "PRWIN              0\n",
       "EVENT              0\n",
       "CLASS              0\n",
       "AGE           118875\n",
       "REST          173833\n",
       "G                  0\n",
       "DIST               0\n",
       "TIME               0\n",
       "SDIST              0\n",
       "STIME              0\n",
       "OP             57571\n",
       "MP            164811\n",
       "SP                 0\n",
       "WGT                0\n",
       "ALL                0\n",
       "LIM                0\n",
       "JOCKEY             0\n",
       "BP                 0\n",
       "SD                 0\n",
       "TW                 0\n",
       "EI                 0\n",
       "FO                 0\n",
       "F1                 0\n",
       "OTHER1             0\n",
       "WGT1               0\n",
       "F2                 2\n",
       "OTHER2             2\n",
       "WGT2               0\n",
       "F3                63\n",
       "OTHER3            63\n",
       "WGT3               0\n",
       "TRT                0\n",
       "WRT             1204\n",
       "FNAME              0\n",
       "FDATE              0\n",
       "HORSEID            0\n",
       "CODE               0\n",
       "RACEID             0\n",
       "MTYPE              0\n",
       "RACESTAKES         0\n",
       "SP_ODDS            0\n",
       "DaysOLD            0\n",
       "dtype: int64"
      ]
     },
     "execution_count": 388,
     "metadata": {},
     "output_type": "execute_result"
    }
   ],
   "source": [
    "past_perf.isnull().sum()"
   ]
  },
  {
   "cell_type": "code",
   "execution_count": 389,
   "metadata": {
    "scrolled": true
   },
   "outputs": [
    {
     "name": "stdout",
     "output_type": "stream",
     "text": [
      "<class 'pandas.core.frame.DataFrame'>\n",
      "RangeIndex: 195493 entries, 0 to 195492\n",
      "Data columns (total 53 columns):\n",
      " #   Column      Non-Null Count   Dtype  \n",
      "---  ------      --------------   -----  \n",
      " 0   X.1         195493 non-null  int64  \n",
      " 1   X           195493 non-null  int64  \n",
      " 2   HORSE       195493 non-null  object \n",
      " 3   FIN         195493 non-null  int64  \n",
      " 4   STR         195493 non-null  int64  \n",
      " 5   MARG        195493 non-null  float64\n",
      " 6   DATE        195493 non-null  object \n",
      " 7   TRACK       195493 non-null  object \n",
      " 8   M           192966 non-null  object \n",
      " 9   RNO         195493 non-null  int64  \n",
      " 10  PRIZE       195493 non-null  float64\n",
      " 11  PRWIN       195493 non-null  float64\n",
      " 12  EVENT       195493 non-null  object \n",
      " 13  CLASS       195493 non-null  object \n",
      " 14  AGE         76618 non-null   object \n",
      " 15  REST        21660 non-null   object \n",
      " 16  G           195493 non-null  object \n",
      " 17  DIST        195493 non-null  int64  \n",
      " 18  TIME        195493 non-null  float64\n",
      " 19  SDIST       195493 non-null  int64  \n",
      " 20  STIME       195493 non-null  float64\n",
      " 21  OP          137922 non-null  object \n",
      " 22  MP          30682 non-null   object \n",
      " 23  SP          195493 non-null  object \n",
      " 24  WGT         195493 non-null  float64\n",
      " 25  ALL         195493 non-null  float64\n",
      " 26  LIM         195493 non-null  float64\n",
      " 27  JOCKEY      195493 non-null  object \n",
      " 28  BP          195493 non-null  int64  \n",
      " 29  SD          195493 non-null  int64  \n",
      " 30  TW          195493 non-null  int64  \n",
      " 31  EI          195493 non-null  int64  \n",
      " 32  FO          195493 non-null  int64  \n",
      " 33  F1          195493 non-null  int64  \n",
      " 34  OTHER1      195493 non-null  object \n",
      " 35  WGT1        195493 non-null  float64\n",
      " 36  F2          195491 non-null  float64\n",
      " 37  OTHER2      195491 non-null  object \n",
      " 38  WGT2        195493 non-null  float64\n",
      " 39  F3          195430 non-null  float64\n",
      " 40  OTHER3      195430 non-null  object \n",
      " 41  WGT3        195493 non-null  float64\n",
      " 42  TRT         195493 non-null  float64\n",
      " 43  WRT         194289 non-null  float64\n",
      " 44  FNAME       195493 non-null  object \n",
      " 45  FDATE       195493 non-null  object \n",
      " 46  HORSEID     195493 non-null  object \n",
      " 47  CODE        195493 non-null  object \n",
      " 48  RACEID      195493 non-null  object \n",
      " 49  MTYPE       195493 non-null  object \n",
      " 50  RACESTAKES  195493 non-null  int64  \n",
      " 51  SP_ODDS     195493 non-null  float64\n",
      " 52  DaysOLD     195493 non-null  int64  \n",
      "dtypes: float64(16), int64(15), object(22)\n",
      "memory usage: 79.0+ MB\n"
     ]
    }
   ],
   "source": [
    "past_perf.info()"
   ]
  },
  {
   "cell_type": "markdown",
   "metadata": {},
   "source": [
    "# Checking each and every columns"
   ]
  },
  {
   "cell_type": "code",
   "execution_count": 390,
   "metadata": {
    "scrolled": true
   },
   "outputs": [
    {
     "data": {
      "text/plain": [
       "1     19946\n",
       "2     19890\n",
       "3     19817\n",
       "4     19735\n",
       "5     19384\n",
       "6     18635\n",
       "7     17402\n",
       "8     15683\n",
       "9     13422\n",
       "10    10916\n",
       "11     8153\n",
       "12     5824\n",
       "13     3274\n",
       "14     1932\n",
       "15      578\n",
       "99      507\n",
       "16      322\n",
       "17       44\n",
       "18       20\n",
       "19        3\n",
       "20        3\n",
       "23        1\n",
       "21        1\n",
       "22        1\n",
       "Name: FIN, dtype: int64"
      ]
     },
     "execution_count": 390,
     "metadata": {},
     "output_type": "execute_result"
    }
   ],
   "source": [
    "past_perf['FIN'].value_counts()"
   ]
  },
  {
   "cell_type": "code",
   "execution_count": 391,
   "metadata": {
    "scrolled": true
   },
   "outputs": [
    {
     "data": {
      "text/plain": [
       "U    80503\n",
       "P    55049\n",
       "M    31946\n",
       "u    11841\n",
       "p     9746\n",
       "m     3881\n",
       "Name: M, dtype: int64"
      ]
     },
     "execution_count": 391,
     "metadata": {},
     "output_type": "execute_result"
    }
   ],
   "source": [
    "past_perf['M'].value_counts()"
   ]
  },
  {
   "cell_type": "code",
   "execution_count": 392,
   "metadata": {},
   "outputs": [
    {
     "data": {
      "text/plain": [
       "3+    40175\n",
       "3     18379\n",
       "2      7779\n",
       "2+     6427\n",
       "4+     3460\n",
       "34      186\n",
       "23      133\n",
       "4        42\n",
       "45       37\n",
       "Name: AGE, dtype: int64"
      ]
     },
     "execution_count": 392,
     "metadata": {},
     "output_type": "execute_result"
    }
   ],
   "source": [
    "past_perf['AGE'].value_counts()"
   ]
  },
  {
   "cell_type": "code",
   "execution_count": 393,
   "metadata": {},
   "outputs": [
    {
     "data": {
      "text/plain": [
       "fm     11291\n",
       "chg     4862\n",
       "f       3443\n",
       "m       1133\n",
       "cg       879\n",
       "hg        52\n",
       "Name: REST, dtype: int64"
      ]
     },
     "execution_count": 393,
     "metadata": {},
     "output_type": "execute_result"
    }
   ],
   "source": [
    "past_perf['REST'].value_counts()"
   ]
  },
  {
   "cell_type": "code",
   "execution_count": 394,
   "metadata": {},
   "outputs": [
    {
     "data": {
      "text/plain": [
       "1200    37607\n",
       "1400    27681\n",
       "1600    20907\n",
       "1000    16957\n",
       "1100    13192\n",
       "        ...  \n",
       "2175        5\n",
       "2106        5\n",
       "1125        5\n",
       "2212        5\n",
       "2360        4\n",
       "Name: DIST, Length: 427, dtype: int64"
      ]
     },
     "execution_count": 394,
     "metadata": {},
     "output_type": "execute_result"
    }
   ],
   "source": [
    "past_perf['DIST'].value_counts()"
   ]
  },
  {
   "cell_type": "code",
   "execution_count": 395,
   "metadata": {},
   "outputs": [
    {
     "data": {
      "text/plain": [
       "1200    37607\n",
       "1400    27681\n",
       "1600    20907\n",
       "1000    16957\n",
       "1100    13192\n",
       "        ...  \n",
       "2175        5\n",
       "2106        5\n",
       "1125        5\n",
       "2212        5\n",
       "2360        4\n",
       "Name: DIST, Length: 427, dtype: int64"
      ]
     },
     "execution_count": 395,
     "metadata": {},
     "output_type": "execute_result"
    }
   ],
   "source": [
    "past_perf['DIST'].value_counts()"
   ]
  },
  {
   "cell_type": "code",
   "execution_count": 396,
   "metadata": {},
   "outputs": [
    {
     "data": {
      "text/plain": [
       "503.85"
      ]
     },
     "execution_count": 396,
     "metadata": {},
     "output_type": "execute_result"
    }
   ],
   "source": [
    "past_perf['TIME'].max()"
   ]
  },
  {
   "cell_type": "code",
   "execution_count": 397,
   "metadata": {},
   "outputs": [
    {
     "data": {
      "text/plain": [
       "N    195493\n",
       "Name: MTYPE, dtype: int64"
      ]
     },
     "execution_count": 397,
     "metadata": {},
     "output_type": "execute_result"
    }
   ],
   "source": [
    "past_perf['MTYPE'].value_counts()"
   ]
  },
  {
   "cell_type": "code",
   "execution_count": 398,
   "metadata": {},
   "outputs": [
    {
     "data": {
      "text/plain": [
       "1"
      ]
     },
     "execution_count": 398,
     "metadata": {},
     "output_type": "execute_result"
    }
   ],
   "source": [
    "past_perf['MTYPE'].nunique()"
   ]
  },
  {
   "cell_type": "code",
   "execution_count": 399,
   "metadata": {},
   "outputs": [
    {
     "data": {
      "text/plain": [
       "array([ 0,  5,  6, 11,  2,  7,  1,  4,  3, 13, 12, 10,  8,  9, 14, 15, 16,\n",
       "       19, 17, 18, 20, 22, 23, 21], dtype=int64)"
      ]
     },
     "execution_count": 399,
     "metadata": {},
     "output_type": "execute_result"
    }
   ],
   "source": [
    "past_perf['TW'].unique()"
   ]
  },
  {
   "cell_type": "code",
   "execution_count": 400,
   "metadata": {},
   "outputs": [
    {
     "data": {
      "text/plain": [
       "array([ 2,  0,  5,  6,  1,  3,  4, 10,  7, 11,  8,  9, 12, 13, 14, 15, 16,\n",
       "       17, 19, 18, 20, 23, 22, 21], dtype=int64)"
      ]
     },
     "execution_count": 400,
     "metadata": {},
     "output_type": "execute_result"
    }
   ],
   "source": [
    "past_perf['EI'].unique()"
   ]
  },
  {
   "cell_type": "code",
   "execution_count": 401,
   "metadata": {},
   "outputs": [
    {
     "data": {
      "text/plain": [
       "array([ 4,  8,  6,  2,  5,  7,  3,  1, 12, 13,  9, 11, 10, 14, 16,  0, 15,\n",
       "       17, 18, 20, 19, 21, 23, 22], dtype=int64)"
      ]
     },
     "execution_count": 401,
     "metadata": {},
     "output_type": "execute_result"
    }
   ],
   "source": [
    "past_perf['FO'].unique()"
   ]
  },
  {
   "cell_type": "code",
   "execution_count": 402,
   "metadata": {},
   "outputs": [
    {
     "data": {
      "text/plain": [
       "array([10,  6, 11,  2,  1,  4,  7,  3,  5, 13, 16,  9, 14,  8, 12, 15, 18,\n",
       "       17, 19, 20, 24, 23, 21, 22], dtype=int64)"
      ]
     },
     "execution_count": 402,
     "metadata": {},
     "output_type": "execute_result"
    }
   ],
   "source": [
    "past_perf['BP'].unique()"
   ]
  },
  {
   "cell_type": "code",
   "execution_count": 403,
   "metadata": {},
   "outputs": [
    {
     "data": {
      "text/plain": [
       "array([ 2,  8,  5,  1,  6,  3,  4, 10,  7, 11,  9, 12, 13, 14, 15,  0, 16,\n",
       "       17, 19, 18, 20, 22, 23, 21], dtype=int64)"
      ]
     },
     "execution_count": 403,
     "metadata": {},
     "output_type": "execute_result"
    }
   ],
   "source": [
    "past_perf['SD'].unique()"
   ]
  },
  {
   "cell_type": "code",
   "execution_count": 404,
   "metadata": {},
   "outputs": [
    {
     "data": {
      "text/plain": [
       "G    98972\n",
       "D    47711\n",
       "S    19910\n",
       "H    18222\n",
       "3     5459\n",
       "4     1961\n",
       "5      847\n",
       "6      578\n",
       "X      457\n",
       "7      434\n",
       "8      354\n",
       "9      280\n",
       "2      156\n",
       "F      148\n",
       "1        4\n",
       "Name: G, dtype: int64"
      ]
     },
     "execution_count": 404,
     "metadata": {},
     "output_type": "execute_result"
    }
   ],
   "source": [
    "past_perf['G'].value_counts()"
   ]
  },
  {
   "cell_type": "code",
   "execution_count": 405,
   "metadata": {},
   "outputs": [
    {
     "data": {
      "text/plain": [
       " 0.0    147263\n",
       "-2.0     16554\n",
       "-3.0     16193\n",
       "-1.5      7688\n",
       "-1.0      4539\n",
       "-4.0      2295\n",
       "-0.5       366\n",
       "-2.5       365\n",
       " 1.0       119\n",
       "-3.5        57\n",
       "-2.8        10\n",
       "-0.8         7\n",
       "-1.3         7\n",
       "-0.3         7\n",
       "-1.8         6\n",
       " 1.5         6\n",
       "-2.3         6\n",
       " 2.0         2\n",
       "-3.8         1\n",
       "-3.3         1\n",
       " 1.8         1\n",
       "Name: ALL, dtype: int64"
      ]
     },
     "execution_count": 405,
     "metadata": {},
     "output_type": "execute_result"
    }
   ],
   "source": [
    "past_perf['ALL'].value_counts()"
   ]
  },
  {
   "cell_type": "code",
   "execution_count": 406,
   "metadata": {},
   "outputs": [
    {
     "data": {
      "text/plain": [
       "1200    37607\n",
       "1400    27681\n",
       "1600    20907\n",
       "1000    16957\n",
       "1100    13192\n",
       "        ...  \n",
       "2175        5\n",
       "2106        5\n",
       "1125        5\n",
       "2212        5\n",
       "2360        4\n",
       "Name: DIST, Length: 427, dtype: int64"
      ]
     },
     "execution_count": 406,
     "metadata": {},
     "output_type": "execute_result"
    }
   ],
   "source": [
    "past_perf['DIST'].value_counts()"
   ]
  },
  {
   "cell_type": "code",
   "execution_count": 407,
   "metadata": {},
   "outputs": [
    {
     "data": {
      "text/plain": [
       "54.0    100971\n",
       "0.0      57438\n",
       "55.0     11456\n",
       "54.5      6260\n",
       "55.5      3019\n",
       "53.0      2497\n",
       "51.0      2248\n",
       "56.0      2134\n",
       "51.5      1954\n",
       "52.0      1812\n",
       "52.5      1200\n",
       "53.5      1122\n",
       "56.5       853\n",
       "65.0       743\n",
       "64.0       549\n",
       "57.0       438\n",
       "57.5       171\n",
       "50.0       154\n",
       "66.5        79\n",
       "66.0        77\n",
       "58.0        61\n",
       "50.5        58\n",
       "49.0        44\n",
       "47.0        38\n",
       "58.5        18\n",
       "64.5        15\n",
       "46.5        14\n",
       "48.0        14\n",
       "49.5        13\n",
       "65.5        13\n",
       "46.0        12\n",
       "45.5        11\n",
       "68.0         7\n",
       "Name: LIM, dtype: int64"
      ]
     },
     "execution_count": 407,
     "metadata": {},
     "output_type": "execute_result"
    }
   ],
   "source": [
    "past_perf['LIM'].value_counts()"
   ]
  },
  {
   "cell_type": "code",
   "execution_count": 408,
   "metadata": {},
   "outputs": [
    {
     "data": {
      "text/plain": [
       "0     172727\n",
       "3       2404\n",
       "2       2388\n",
       "1       2387\n",
       "4       2379\n",
       "5       2375\n",
       "6       2287\n",
       "7       2103\n",
       "8       1830\n",
       "9       1486\n",
       "10      1130\n",
       "11       848\n",
       "12       567\n",
       "13       276\n",
       "14       180\n",
       "15        62\n",
       "16        39\n",
       "17        11\n",
       "18         7\n",
       "19         2\n",
       "20         2\n",
       "22         1\n",
       "21         1\n",
       "23         1\n",
       "Name: TW, dtype: int64"
      ]
     },
     "execution_count": 408,
     "metadata": {},
     "output_type": "execute_result"
    }
   ],
   "source": [
    "past_perf['TW'].value_counts()"
   ]
  },
  {
   "cell_type": "code",
   "execution_count": 409,
   "metadata": {},
   "outputs": [
    {
     "data": {
      "text/plain": [
       "0     65375\n",
       "1     12851\n",
       "3     12817\n",
       "2     12790\n",
       "4     12719\n",
       "5     12719\n",
       "6     12444\n",
       "7     11719\n",
       "8     10731\n",
       "9      9300\n",
       "10     7645\n",
       "11     5835\n",
       "12     4199\n",
       "13     2332\n",
       "14     1404\n",
       "15      369\n",
       "16      198\n",
       "17       23\n",
       "18       14\n",
       "19        3\n",
       "20        3\n",
       "22        1\n",
       "21        1\n",
       "23        1\n",
       "Name: EI, dtype: int64"
      ]
     },
     "execution_count": 409,
     "metadata": {},
     "output_type": "execute_result"
    }
   ],
   "source": [
    "past_perf['EI'].value_counts()"
   ]
  },
  {
   "cell_type": "code",
   "execution_count": 410,
   "metadata": {},
   "outputs": [
    {
     "data": {
      "text/plain": [
       "1    175625\n",
       "2     19868\n",
       "Name: F1, dtype: int64"
      ]
     },
     "execution_count": 410,
     "metadata": {},
     "output_type": "execute_result"
    }
   ],
   "source": [
    "past_perf['F1'].value_counts()"
   ]
  },
  {
   "cell_type": "code",
   "execution_count": 411,
   "metadata": {},
   "outputs": [
    {
     "data": {
      "text/plain": [
       "0.0     175359\n",
       "3.0       1526\n",
       "0.1        905\n",
       "1.2        879\n",
       "0.2        845\n",
       "         ...  \n",
       "92.1         1\n",
       "57.9         1\n",
       "67.8         1\n",
       "76.9         1\n",
       "92.9         1\n",
       "Name: WRT, Length: 269, dtype: int64"
      ]
     },
     "execution_count": 411,
     "metadata": {},
     "output_type": "execute_result"
    }
   ],
   "source": [
    "past_perf['WRT'].value_counts()"
   ]
  },
  {
   "cell_type": "code",
   "execution_count": 412,
   "metadata": {},
   "outputs": [
    {
     "data": {
      "text/plain": [
       "G:/R Studio/Horse Racing/Model_10/Price Files 2010-2017/F Files/ASC01012014F.DBF    778\n",
       "G:/R Studio/Horse Racing/Model_10/Price Files 2010-2017/F Files/AWP02112013F.DBF    750\n",
       "G:/R Studio/Horse Racing/Model_10/Price Files 2010-2017/F Files/ARP10052014F.DBF    696\n",
       "G:/R Studio/Horse Racing/Model_10/Price Files 2010-2017/F Files/HAP04122013F.DBF    668\n",
       "G:/R Studio/Horse Racing/Model_10/Price Files 2010-2017/F Files/BAK04092013F.DBF    595\n",
       "                                                                                   ... \n",
       "G:/R Studio/Horse Racing/Model_10/Price Files 2010-2017/F Files/FAB02012016F.DBF      1\n",
       "G:/R Studio/Horse Racing/Model_10/Price Files 2010-2017/F Files/NAD16082014F.DBF      1\n",
       "G:/R Studio/Horse Racing/Model_10/Price Files 2010-2017/F Files/NOT29052014F.DBF      1\n",
       "G:/R Studio/Horse Racing/Model_10/Price Files 2010-2017/F Files/CAA20082016F.DBF      1\n",
       "G:/R Studio/Horse Racing/Model_10/Price Files 2010-2017/F Files/TRP08112014F.DBF      1\n",
       "Name: FNAME, Length: 6478, dtype: int64"
      ]
     },
     "execution_count": 412,
     "metadata": {},
     "output_type": "execute_result"
    }
   ],
   "source": [
    "past_perf['FNAME'].value_counts()"
   ]
  },
  {
   "cell_type": "code",
   "execution_count": 413,
   "metadata": {},
   "outputs": [
    {
     "data": {
      "text/plain": [
       "N    195493\n",
       "Name: MTYPE, dtype: int64"
      ]
     },
     "execution_count": 413,
     "metadata": {},
     "output_type": "execute_result"
    }
   ],
   "source": [
    "past_perf['MTYPE'].value_counts()"
   ]
  },
  {
   "cell_type": "code",
   "execution_count": 414,
   "metadata": {},
   "outputs": [
    {
     "data": {
      "text/plain": [
       "Shatin    6060\n",
       "Suncst    4290\n",
       "G Cst     3810\n",
       "Ascot     3808\n",
       "Bel.Pk    3750\n",
       "          ... \n",
       "Waikou      44\n",
       "Avoca       44\n",
       "Edenhp      35\n",
       "B'berg      11\n",
       "Cran         8\n",
       "Name: TRACK, Length: 220, dtype: int64"
      ]
     },
     "execution_count": 414,
     "metadata": {},
     "output_type": "execute_result"
    }
   ],
   "source": [
    "past_perf['TRACK'].value_counts()"
   ]
  },
  {
   "cell_type": "code",
   "execution_count": 415,
   "metadata": {},
   "outputs": [
    {
     "data": {
      "text/plain": [
       "array(['Moruya', 'Acton', 'Cberra', 'Cowra', 'Gundag', 'Taree', 'Muswel',\n",
       "       \"N'ctle\", 'Wodong', 'Benlla', 'Wagga', \"G'burn\", 'Nowra', 'Sapph',\n",
       "       'Queanb', 'Kem.Gr', 'Wyong', 'Seymor', 'Albury', 'Mudgee', 'Bath.',\n",
       "       \"H'bury\", \"C'bury\", \"R'hill\", 'Parkes', 'W.Farm', 'Geesyn',\n",
       "       \"G'ford\", 'Ballna', 'Orange', 'Scone', 'Corowa', 'Well', 'Cran.',\n",
       "       \"M'dura\", 'Donald', 'Dubbo', 'E.Farm', 'Suncst', 'Twbc', 'Tatura',\n",
       "       'Cess', 'M.V.', 'Narran', \"R'wick\", 'Forbes', 'Oakbnk', 'Morhpk',\n",
       "       'Mphvl', 'G Cst', 'Gilgan', 'F. Bay', 'Gunndh', 'Pt Mac', \"W'bee\",\n",
       "       'Bend', \"K'ton\", 'Wang', \"P'ham\", 'Narrom', 'Tamwth', 'Quir',\n",
       "       'Ipswic', 'Cushio', 'Graft', 'Casino', \"M'bah\", 'Pion P', 'M.Brge',\n",
       "       'Gawlr', 'Balakl', 'Walcha', 'Terang', \"W'bool\", 'Ararat',\n",
       "       'Stawel', 'Morn.', 'Y.Glen', 'Strath', 'Mt.Gmb', 'Bortwn',\n",
       "       'Penola', 'Flem', 'Swan H', \"N'cort\", 'Pt Lin', 'Pt Aug', \"W'beal\",\n",
       "       'Warren', \"G'long\", \"H'ton\", 'Echuca', \"D'ben\", \"K'more\", 'Sale',\n",
       "       'Bairns', 'Horsh.', \"Ball't\", 'Ellers', 'Arpark', 'Hastng',\n",
       "       'Ruakak', 'Cootam', 'Leeton', 'Colrn', 'Caster', 'Terapa',\n",
       "       'Te Awa', 'Northm', 'Bel.Pk', 'Ascot', 'Pinjra', 'Kensin',\n",
       "       'Kalgl.', 'Albany', 'Gldton', 'Mt.Bkr', 'Esper.', \"T'yay\",\n",
       "       'Bunbry', 'Narrog', 'Broome', 'Caulf.', 'Pt Hed', 'Robrne',\n",
       "       'Carnvn', 'St.Ck', 'Lakesi', 'Coffs', 'Murtoa', 'Colac', 'Hillsi',\n",
       "       'Paeroa', 'Gunbwr', 'Bkn.Hl', 'Devs', 'Launc.', 'H.Rock', 'Avoca',\n",
       "       'Manang', 'Waipuk', 'Waganu', 'Awapun', 'Tauher', 'Wodvil',\n",
       "       \"B'dsrt\", 'Traral', 'Kerang', 'Pukohe', 'Hawera', \"H'valy\",\n",
       "       'Shatin', 'Bowrvl', 'Kemps.', 'Lismor', 'Rocky', 'Campdn', 'Moree',\n",
       "       'Tearoh', 'Trenth', 'Emrld', 'Edenhp', 'Hobart', \"T'vill\", 'Roma',\n",
       "       'Twba', 'Dalby', 'Mackay', 'Yepoon', 'Armdle', 'Gl.Inn', 'Halidn',\n",
       "       'Dunkld', 'Mortlk', 'Matmat', 'Otaki', 'Reeftn', 'Hoktik',\n",
       "       'Kumara', 'Kingsc', 'Wairoa', 'Mt.Isa', 'Gatton', 'Kilcoy',\n",
       "       \"C'bran\", 'Coonam', 'Inver.', 'Gwindi', 'Avdale', 'Pkkura',\n",
       "       'Taupo', 'Teteko', 'Riccat', 'Tauran', 'Thames', 'Wavley', \"W'lea\",\n",
       "       'Waikou', 'Darvil', 'Wingat', 'Gore', 'Omakau', 'Oamaru', 'Timaru',\n",
       "       'Ashbur', 'Waimat', 'Grymth', 'Asc.Pk', 'Wintnz', 'Rivton',\n",
       "       'Crmwel', 'Wyndnz', 'Motara', 'Clare', 'Cairns', 'Innis.',\n",
       "       \"W'wick\", \"B'berg\", 'Hobins', 'Cran'], dtype=object)"
      ]
     },
     "execution_count": 415,
     "metadata": {},
     "output_type": "execute_result"
    }
   ],
   "source": [
    "past_perf['TRACK'].unique()"
   ]
  },
  {
   "cell_type": "code",
   "execution_count": 416,
   "metadata": {},
   "outputs": [
    {
     "data": {
      "text/plain": [
       "array([600,   0, 609, 615, 605, 604, 612, 606, 610, 602,  60, 800, 400,\n",
       "       613, 617, 608, 603], dtype=int64)"
      ]
     },
     "execution_count": 416,
     "metadata": {},
     "output_type": "execute_result"
    }
   ],
   "source": [
    "past_perf['SDIST'].unique()"
   ]
  },
  {
   "cell_type": "code",
   "execution_count": 417,
   "metadata": {},
   "outputs": [
    {
     "data": {
      "text/html": [
       "<div>\n",
       "<style scoped>\n",
       "    .dataframe tbody tr th:only-of-type {\n",
       "        vertical-align: middle;\n",
       "    }\n",
       "\n",
       "    .dataframe tbody tr th {\n",
       "        vertical-align: top;\n",
       "    }\n",
       "\n",
       "    .dataframe thead th {\n",
       "        text-align: right;\n",
       "    }\n",
       "</style>\n",
       "<table border=\"1\" class=\"dataframe\">\n",
       "  <thead>\n",
       "    <tr style=\"text-align: right;\">\n",
       "      <th></th>\n",
       "      <th>X.1</th>\n",
       "      <th>X</th>\n",
       "      <th>FIN</th>\n",
       "      <th>STR</th>\n",
       "      <th>MARG</th>\n",
       "      <th>RNO</th>\n",
       "      <th>PRIZE</th>\n",
       "      <th>PRWIN</th>\n",
       "      <th>DIST</th>\n",
       "      <th>TIME</th>\n",
       "      <th>...</th>\n",
       "      <th>WGT1</th>\n",
       "      <th>F2</th>\n",
       "      <th>WGT2</th>\n",
       "      <th>F3</th>\n",
       "      <th>WGT3</th>\n",
       "      <th>TRT</th>\n",
       "      <th>WRT</th>\n",
       "      <th>RACESTAKES</th>\n",
       "      <th>SP_ODDS</th>\n",
       "      <th>DaysOLD</th>\n",
       "    </tr>\n",
       "  </thead>\n",
       "  <tbody>\n",
       "    <tr>\n",
       "      <th>X.1</th>\n",
       "      <td>1.431672e+13</td>\n",
       "      <td>1.431672e+13</td>\n",
       "      <td>883841.763476</td>\n",
       "      <td>165390.966947</td>\n",
       "      <td>1.264151e+06</td>\n",
       "      <td>-29079.033646</td>\n",
       "      <td>2.730598e+08</td>\n",
       "      <td>2.683720e+07</td>\n",
       "      <td>-2.622214e+07</td>\n",
       "      <td>-2.573137e+06</td>\n",
       "      <td>...</td>\n",
       "      <td>-147629.324320</td>\n",
       "      <td>-50634.976632</td>\n",
       "      <td>-167426.210287</td>\n",
       "      <td>-75531.656201</td>\n",
       "      <td>-220659.858145</td>\n",
       "      <td>89977.127401</td>\n",
       "      <td>-141917.289745</td>\n",
       "      <td>2.861884e+11</td>\n",
       "      <td>8.393346e+06</td>\n",
       "      <td>-4.323268e+07</td>\n",
       "    </tr>\n",
       "    <tr>\n",
       "      <th>X</th>\n",
       "      <td>1.431672e+13</td>\n",
       "      <td>1.431672e+13</td>\n",
       "      <td>883841.763476</td>\n",
       "      <td>165390.966947</td>\n",
       "      <td>1.264151e+06</td>\n",
       "      <td>-29079.033646</td>\n",
       "      <td>2.730598e+08</td>\n",
       "      <td>2.683720e+07</td>\n",
       "      <td>-2.622214e+07</td>\n",
       "      <td>-2.573137e+06</td>\n",
       "      <td>...</td>\n",
       "      <td>-147629.324320</td>\n",
       "      <td>-50634.976632</td>\n",
       "      <td>-167426.210287</td>\n",
       "      <td>-75531.656201</td>\n",
       "      <td>-220659.858145</td>\n",
       "      <td>89977.127401</td>\n",
       "      <td>-141917.289745</td>\n",
       "      <td>2.861884e+11</td>\n",
       "      <td>8.393346e+06</td>\n",
       "      <td>-4.323268e+07</td>\n",
       "    </tr>\n",
       "    <tr>\n",
       "      <th>FIN</th>\n",
       "      <td>8.838418e+05</td>\n",
       "      <td>8.838418e+05</td>\n",
       "      <td>33.969098</td>\n",
       "      <td>2.858141</td>\n",
       "      <td>3.610588e+01</td>\n",
       "      <td>0.671875</td>\n",
       "      <td>5.444982e+01</td>\n",
       "      <td>-2.914780e+01</td>\n",
       "      <td>2.133183e+02</td>\n",
       "      <td>1.677356e+01</td>\n",
       "      <td>...</td>\n",
       "      <td>0.856769</td>\n",
       "      <td>-0.920830</td>\n",
       "      <td>0.947433</td>\n",
       "      <td>-1.226868</td>\n",
       "      <td>1.044410</td>\n",
       "      <td>-21.392910</td>\n",
       "      <td>-0.286933</td>\n",
       "      <td>5.550065e+04</td>\n",
       "      <td>2.501159e+01</td>\n",
       "      <td>-3.391304e+00</td>\n",
       "    </tr>\n",
       "    <tr>\n",
       "      <th>STR</th>\n",
       "      <td>1.653910e+05</td>\n",
       "      <td>1.653910e+05</td>\n",
       "      <td>2.858141</td>\n",
       "      <td>6.227387</td>\n",
       "      <td>1.075854e+00</td>\n",
       "      <td>1.678379</td>\n",
       "      <td>1.170950e+02</td>\n",
       "      <td>7.127249e+00</td>\n",
       "      <td>2.595873e+01</td>\n",
       "      <td>6.981333e-01</td>\n",
       "      <td>...</td>\n",
       "      <td>-0.198581</td>\n",
       "      <td>-0.130355</td>\n",
       "      <td>-0.127738</td>\n",
       "      <td>-0.193540</td>\n",
       "      <td>0.096442</td>\n",
       "      <td>0.415682</td>\n",
       "      <td>-0.187867</td>\n",
       "      <td>1.214375e+05</td>\n",
       "      <td>8.557552e+00</td>\n",
       "      <td>-1.176654e+01</td>\n",
       "    </tr>\n",
       "    <tr>\n",
       "      <th>MARG</th>\n",
       "      <td>1.264151e+06</td>\n",
       "      <td>1.264151e+06</td>\n",
       "      <td>36.105882</td>\n",
       "      <td>1.075854</td>\n",
       "      <td>5.976129e+01</td>\n",
       "      <td>-0.445037</td>\n",
       "      <td>-3.155514e+01</td>\n",
       "      <td>-3.684859e+01</td>\n",
       "      <td>4.708375e+02</td>\n",
       "      <td>3.772961e+01</td>\n",
       "      <td>...</td>\n",
       "      <td>1.882848</td>\n",
       "      <td>-1.118887</td>\n",
       "      <td>1.882366</td>\n",
       "      <td>-1.428444</td>\n",
       "      <td>1.940382</td>\n",
       "      <td>-33.764796</td>\n",
       "      <td>-0.510349</td>\n",
       "      <td>-3.366452e+04</td>\n",
       "      <td>2.896950e+01</td>\n",
       "      <td>1.891526e+00</td>\n",
       "    </tr>\n",
       "    <tr>\n",
       "      <th>RNO</th>\n",
       "      <td>-2.907903e+04</td>\n",
       "      <td>-2.907903e+04</td>\n",
       "      <td>0.671875</td>\n",
       "      <td>1.678379</td>\n",
       "      <td>-4.450372e-01</td>\n",
       "      <td>5.642712</td>\n",
       "      <td>9.200746e+01</td>\n",
       "      <td>7.145640e+00</td>\n",
       "      <td>8.555970e+01</td>\n",
       "      <td>4.896480e+00</td>\n",
       "      <td>...</td>\n",
       "      <td>-0.358928</td>\n",
       "      <td>-0.040327</td>\n",
       "      <td>-0.357023</td>\n",
       "      <td>-0.058078</td>\n",
       "      <td>-0.315379</td>\n",
       "      <td>2.133467</td>\n",
       "      <td>-0.291350</td>\n",
       "      <td>9.704962e+04</td>\n",
       "      <td>1.533950e+00</td>\n",
       "      <td>-3.954431e+01</td>\n",
       "    </tr>\n",
       "    <tr>\n",
       "      <th>PRIZE</th>\n",
       "      <td>2.730598e+08</td>\n",
       "      <td>2.730598e+08</td>\n",
       "      <td>54.449817</td>\n",
       "      <td>117.094994</td>\n",
       "      <td>-3.155514e+01</td>\n",
       "      <td>92.007464</td>\n",
       "      <td>1.054831e+05</td>\n",
       "      <td>1.040132e+04</td>\n",
       "      <td>5.897986e+03</td>\n",
       "      <td>2.410376e+02</td>\n",
       "      <td>...</td>\n",
       "      <td>-25.520676</td>\n",
       "      <td>-2.361771</td>\n",
       "      <td>-14.264709</td>\n",
       "      <td>-3.418918</td>\n",
       "      <td>-14.293933</td>\n",
       "      <td>353.085643</td>\n",
       "      <td>-21.003653</td>\n",
       "      <td>1.252174e+08</td>\n",
       "      <td>1.258889e+03</td>\n",
       "      <td>-1.059020e+03</td>\n",
       "    </tr>\n",
       "    <tr>\n",
       "      <th>PRWIN</th>\n",
       "      <td>2.683720e+07</td>\n",
       "      <td>2.683720e+07</td>\n",
       "      <td>-29.147796</td>\n",
       "      <td>7.127249</td>\n",
       "      <td>-3.684859e+01</td>\n",
       "      <td>7.145640</td>\n",
       "      <td>1.040132e+04</td>\n",
       "      <td>5.277086e+03</td>\n",
       "      <td>5.568756e+02</td>\n",
       "      <td>2.425665e+01</td>\n",
       "      <td>...</td>\n",
       "      <td>-1.765951</td>\n",
       "      <td>4.080512</td>\n",
       "      <td>-1.362089</td>\n",
       "      <td>4.118176</td>\n",
       "      <td>-1.164854</td>\n",
       "      <td>60.558020</td>\n",
       "      <td>-1.542830</td>\n",
       "      <td>1.346438e+07</td>\n",
       "      <td>-2.956104e+01</td>\n",
       "      <td>-1.091304e+02</td>\n",
       "    </tr>\n",
       "    <tr>\n",
       "      <th>DIST</th>\n",
       "      <td>-2.622214e+07</td>\n",
       "      <td>-2.622214e+07</td>\n",
       "      <td>213.318270</td>\n",
       "      <td>25.958732</td>\n",
       "      <td>4.708375e+02</td>\n",
       "      <td>85.559700</td>\n",
       "      <td>5.897986e+03</td>\n",
       "      <td>5.568756e+02</td>\n",
       "      <td>1.410923e+05</td>\n",
       "      <td>9.980702e+03</td>\n",
       "      <td>...</td>\n",
       "      <td>167.586430</td>\n",
       "      <td>0.174743</td>\n",
       "      <td>166.418852</td>\n",
       "      <td>0.144474</td>\n",
       "      <td>157.649605</td>\n",
       "      <td>462.870854</td>\n",
       "      <td>-79.446937</td>\n",
       "      <td>6.694089e+06</td>\n",
       "      <td>-2.994034e+02</td>\n",
       "      <td>-9.664642e+03</td>\n",
       "    </tr>\n",
       "    <tr>\n",
       "      <th>TIME</th>\n",
       "      <td>-2.573137e+06</td>\n",
       "      <td>-2.573137e+06</td>\n",
       "      <td>16.773558</td>\n",
       "      <td>0.698133</td>\n",
       "      <td>3.772961e+01</td>\n",
       "      <td>4.896480</td>\n",
       "      <td>2.410376e+02</td>\n",
       "      <td>2.425665e+01</td>\n",
       "      <td>9.980702e+03</td>\n",
       "      <td>7.236903e+02</td>\n",
       "      <td>...</td>\n",
       "      <td>13.710191</td>\n",
       "      <td>0.037202</td>\n",
       "      <td>13.594796</td>\n",
       "      <td>0.049181</td>\n",
       "      <td>12.866588</td>\n",
       "      <td>27.271557</td>\n",
       "      <td>-5.501452</td>\n",
       "      <td>2.860914e+05</td>\n",
       "      <td>-2.683631e+01</td>\n",
       "      <td>-6.520247e+02</td>\n",
       "    </tr>\n",
       "    <tr>\n",
       "      <th>SDIST</th>\n",
       "      <td>3.452360e+07</td>\n",
       "      <td>3.452360e+07</td>\n",
       "      <td>-30.446859</td>\n",
       "      <td>-20.231703</td>\n",
       "      <td>-1.433140e+02</td>\n",
       "      <td>-4.942243</td>\n",
       "      <td>1.872767e+03</td>\n",
       "      <td>1.692820e+02</td>\n",
       "      <td>-1.028627e+04</td>\n",
       "      <td>-7.877498e+02</td>\n",
       "      <td>...</td>\n",
       "      <td>-21.921059</td>\n",
       "      <td>0.244992</td>\n",
       "      <td>-23.603233</td>\n",
       "      <td>0.388180</td>\n",
       "      <td>-24.760742</td>\n",
       "      <td>258.004556</td>\n",
       "      <td>69.601862</td>\n",
       "      <td>1.855004e+06</td>\n",
       "      <td>1.107130e+03</td>\n",
       "      <td>-2.391624e+02</td>\n",
       "    </tr>\n",
       "    <tr>\n",
       "      <th>STIME</th>\n",
       "      <td>1.769551e+06</td>\n",
       "      <td>1.769551e+06</td>\n",
       "      <td>-1.641074</td>\n",
       "      <td>-1.103691</td>\n",
       "      <td>-7.707877e+00</td>\n",
       "      <td>-0.196306</td>\n",
       "      <td>7.335987e+01</td>\n",
       "      <td>6.711034e+00</td>\n",
       "      <td>-4.653280e+02</td>\n",
       "      <td>-3.568213e+01</td>\n",
       "      <td>...</td>\n",
       "      <td>-1.050460</td>\n",
       "      <td>0.013404</td>\n",
       "      <td>-1.134497</td>\n",
       "      <td>0.021492</td>\n",
       "      <td>-1.197229</td>\n",
       "      <td>14.286001</td>\n",
       "      <td>3.936017</td>\n",
       "      <td>6.987142e+04</td>\n",
       "      <td>6.504467e+01</td>\n",
       "      <td>-2.572140e+01</td>\n",
       "    </tr>\n",
       "    <tr>\n",
       "      <th>WGT</th>\n",
       "      <td>-2.642496e+05</td>\n",
       "      <td>-2.642496e+05</td>\n",
       "      <td>0.269907</td>\n",
       "      <td>-0.244346</td>\n",
       "      <td>1.027259e+00</td>\n",
       "      <td>-0.387815</td>\n",
       "      <td>-3.266358e+01</td>\n",
       "      <td>-1.123455e+00</td>\n",
       "      <td>1.523066e+02</td>\n",
       "      <td>1.280349e+01</td>\n",
       "      <td>...</td>\n",
       "      <td>1.851995</td>\n",
       "      <td>0.059297</td>\n",
       "      <td>1.873329</td>\n",
       "      <td>0.076026</td>\n",
       "      <td>1.844120</td>\n",
       "      <td>1.441400</td>\n",
       "      <td>-0.089486</td>\n",
       "      <td>-3.203454e+04</td>\n",
       "      <td>-7.166804e+00</td>\n",
       "      <td>6.626069e+00</td>\n",
       "    </tr>\n",
       "    <tr>\n",
       "      <th>ALL</th>\n",
       "      <td>-1.199521e+04</td>\n",
       "      <td>-1.199521e+04</td>\n",
       "      <td>-0.061247</td>\n",
       "      <td>0.038917</td>\n",
       "      <td>-2.655899e-02</td>\n",
       "      <td>-0.042547</td>\n",
       "      <td>1.098930e+01</td>\n",
       "      <td>1.514743e+00</td>\n",
       "      <td>1.262626e+01</td>\n",
       "      <td>8.353270e-01</td>\n",
       "      <td>...</td>\n",
       "      <td>0.069394</td>\n",
       "      <td>0.008235</td>\n",
       "      <td>0.065865</td>\n",
       "      <td>0.011081</td>\n",
       "      <td>0.073370</td>\n",
       "      <td>0.369250</td>\n",
       "      <td>-0.002803</td>\n",
       "      <td>1.206472e+04</td>\n",
       "      <td>-7.172766e-01</td>\n",
       "      <td>4.840267e+00</td>\n",
       "    </tr>\n",
       "    <tr>\n",
       "      <th>LIM</th>\n",
       "      <td>2.506926e+06</td>\n",
       "      <td>2.506926e+06</td>\n",
       "      <td>-0.818280</td>\n",
       "      <td>-2.401418</td>\n",
       "      <td>-1.181139e+01</td>\n",
       "      <td>21.114039</td>\n",
       "      <td>2.138357e+02</td>\n",
       "      <td>9.761712e+00</td>\n",
       "      <td>6.969137e+02</td>\n",
       "      <td>4.158725e+01</td>\n",
       "      <td>...</td>\n",
       "      <td>-3.219167</td>\n",
       "      <td>0.004366</td>\n",
       "      <td>-4.864642</td>\n",
       "      <td>0.012864</td>\n",
       "      <td>-6.375804</td>\n",
       "      <td>14.886254</td>\n",
       "      <td>0.463229</td>\n",
       "      <td>1.395274e+05</td>\n",
       "      <td>-3.514895e+00</td>\n",
       "      <td>-3.832311e+02</td>\n",
       "    </tr>\n",
       "    <tr>\n",
       "      <th>BP</th>\n",
       "      <td>6.174647e+04</td>\n",
       "      <td>6.174647e+04</td>\n",
       "      <td>1.918783</td>\n",
       "      <td>3.119838</td>\n",
       "      <td>1.089203e+00</td>\n",
       "      <td>0.840451</td>\n",
       "      <td>5.683558e+01</td>\n",
       "      <td>1.145487e+00</td>\n",
       "      <td>1.313502e+01</td>\n",
       "      <td>3.740513e-01</td>\n",
       "      <td>...</td>\n",
       "      <td>-0.102787</td>\n",
       "      <td>-0.087571</td>\n",
       "      <td>-0.056973</td>\n",
       "      <td>-0.133430</td>\n",
       "      <td>0.038035</td>\n",
       "      <td>-0.205611</td>\n",
       "      <td>-0.106581</td>\n",
       "      <td>5.797923e+04</td>\n",
       "      <td>7.466048e+00</td>\n",
       "      <td>-4.574005e+00</td>\n",
       "    </tr>\n",
       "    <tr>\n",
       "      <th>SD</th>\n",
       "      <td>-5.303109e+04</td>\n",
       "      <td>-5.303109e+04</td>\n",
       "      <td>3.037907</td>\n",
       "      <td>3.215898</td>\n",
       "      <td>2.303680e+00</td>\n",
       "      <td>0.929436</td>\n",
       "      <td>6.653817e+01</td>\n",
       "      <td>-1.811338e+00</td>\n",
       "      <td>2.337843e+01</td>\n",
       "      <td>1.199448e+00</td>\n",
       "      <td>...</td>\n",
       "      <td>-0.162478</td>\n",
       "      <td>-0.259431</td>\n",
       "      <td>-0.119364</td>\n",
       "      <td>-0.336236</td>\n",
       "      <td>-0.000498</td>\n",
       "      <td>-1.215923</td>\n",
       "      <td>-0.093992</td>\n",
       "      <td>6.936236e+04</td>\n",
       "      <td>1.401773e+01</td>\n",
       "      <td>1.539238e+01</td>\n",
       "    </tr>\n",
       "    <tr>\n",
       "      <th>TW</th>\n",
       "      <td>-7.878387e+03</td>\n",
       "      <td>-7.878387e+03</td>\n",
       "      <td>0.373018</td>\n",
       "      <td>0.009738</td>\n",
       "      <td>1.145137e+00</td>\n",
       "      <td>0.128070</td>\n",
       "      <td>4.247093e+01</td>\n",
       "      <td>3.307989e+00</td>\n",
       "      <td>4.247115e+02</td>\n",
       "      <td>2.954054e+01</td>\n",
       "      <td>...</td>\n",
       "      <td>0.431255</td>\n",
       "      <td>-0.010579</td>\n",
       "      <td>0.444604</td>\n",
       "      <td>-0.012608</td>\n",
       "      <td>0.418443</td>\n",
       "      <td>1.842001</td>\n",
       "      <td>-0.198677</td>\n",
       "      <td>5.015661e+04</td>\n",
       "      <td>8.118665e-01</td>\n",
       "      <td>-2.272492e+01</td>\n",
       "    </tr>\n",
       "    <tr>\n",
       "      <th>EI</th>\n",
       "      <td>-4.522633e+05</td>\n",
       "      <td>-4.522633e+05</td>\n",
       "      <td>1.951075</td>\n",
       "      <td>1.994910</td>\n",
       "      <td>2.032461e+00</td>\n",
       "      <td>0.837210</td>\n",
       "      <td>2.513407e+01</td>\n",
       "      <td>-1.129979e+00</td>\n",
       "      <td>3.547218e+02</td>\n",
       "      <td>2.397895e+01</td>\n",
       "      <td>...</td>\n",
       "      <td>0.465304</td>\n",
       "      <td>-0.170123</td>\n",
       "      <td>0.516780</td>\n",
       "      <td>-0.219799</td>\n",
       "      <td>0.600384</td>\n",
       "      <td>1.292214</td>\n",
       "      <td>-0.021442</td>\n",
       "      <td>2.934875e+04</td>\n",
       "      <td>1.154565e+01</td>\n",
       "      <td>-1.963274e+01</td>\n",
       "    </tr>\n",
       "    <tr>\n",
       "      <th>FO</th>\n",
       "      <td>6.874336e+04</td>\n",
       "      <td>6.874336e+04</td>\n",
       "      <td>4.154637</td>\n",
       "      <td>3.204340</td>\n",
       "      <td>4.617581e+00</td>\n",
       "      <td>0.945279</td>\n",
       "      <td>6.688644e+01</td>\n",
       "      <td>-5.702689e+00</td>\n",
       "      <td>8.453687e+00</td>\n",
       "      <td>-7.723476e-03</td>\n",
       "      <td>...</td>\n",
       "      <td>-0.212849</td>\n",
       "      <td>-0.364651</td>\n",
       "      <td>-0.170945</td>\n",
       "      <td>-0.475789</td>\n",
       "      <td>-0.048717</td>\n",
       "      <td>-2.678929</td>\n",
       "      <td>-0.118092</td>\n",
       "      <td>6.913387e+04</td>\n",
       "      <td>1.752651e+01</td>\n",
       "      <td>1.497949e+01</td>\n",
       "    </tr>\n",
       "    <tr>\n",
       "      <th>F1</th>\n",
       "      <td>-2.357510e+04</td>\n",
       "      <td>-2.357510e+04</td>\n",
       "      <td>-0.511071</td>\n",
       "      <td>-0.065170</td>\n",
       "      <td>-6.903961e-01</td>\n",
       "      <td>-0.019817</td>\n",
       "      <td>-1.163141e+00</td>\n",
       "      <td>3.351676e+00</td>\n",
       "      <td>5.541606e-02</td>\n",
       "      <td>1.674162e-02</td>\n",
       "      <td>...</td>\n",
       "      <td>-0.005783</td>\n",
       "      <td>0.080892</td>\n",
       "      <td>-0.004715</td>\n",
       "      <td>0.070586</td>\n",
       "      <td>-0.010282</td>\n",
       "      <td>0.582268</td>\n",
       "      <td>0.010211</td>\n",
       "      <td>-1.167475e+03</td>\n",
       "      <td>-9.477776e-01</td>\n",
       "      <td>5.698724e-01</td>\n",
       "    </tr>\n",
       "    <tr>\n",
       "      <th>WGT1</th>\n",
       "      <td>-1.476293e+05</td>\n",
       "      <td>-1.476293e+05</td>\n",
       "      <td>0.856769</td>\n",
       "      <td>-0.198581</td>\n",
       "      <td>1.882848e+00</td>\n",
       "      <td>-0.358928</td>\n",
       "      <td>-2.552068e+01</td>\n",
       "      <td>-1.765951e+00</td>\n",
       "      <td>1.675864e+02</td>\n",
       "      <td>1.371019e+01</td>\n",
       "      <td>...</td>\n",
       "      <td>5.166783</td>\n",
       "      <td>0.000482</td>\n",
       "      <td>1.863207</td>\n",
       "      <td>0.002551</td>\n",
       "      <td>1.817102</td>\n",
       "      <td>-0.466871</td>\n",
       "      <td>-0.091492</td>\n",
       "      <td>-2.455475e+04</td>\n",
       "      <td>-4.605882e-01</td>\n",
       "      <td>-3.696470e+00</td>\n",
       "    </tr>\n",
       "    <tr>\n",
       "      <th>F2</th>\n",
       "      <td>-5.063498e+04</td>\n",
       "      <td>-5.063498e+04</td>\n",
       "      <td>-0.920830</td>\n",
       "      <td>-0.130355</td>\n",
       "      <td>-1.118887e+00</td>\n",
       "      <td>-0.040327</td>\n",
       "      <td>-2.361771e+00</td>\n",
       "      <td>4.080512e+00</td>\n",
       "      <td>1.747428e-01</td>\n",
       "      <td>3.720195e-02</td>\n",
       "      <td>...</td>\n",
       "      <td>0.000482</td>\n",
       "      <td>0.163945</td>\n",
       "      <td>-0.011082</td>\n",
       "      <td>0.141221</td>\n",
       "      <td>-0.018904</td>\n",
       "      <td>0.958648</td>\n",
       "      <td>0.016166</td>\n",
       "      <td>-2.428232e+03</td>\n",
       "      <td>-1.728604e+00</td>\n",
       "      <td>6.016714e-01</td>\n",
       "    </tr>\n",
       "    <tr>\n",
       "      <th>WGT2</th>\n",
       "      <td>-1.674262e+05</td>\n",
       "      <td>-1.674262e+05</td>\n",
       "      <td>0.947433</td>\n",
       "      <td>-0.127738</td>\n",
       "      <td>1.882366e+00</td>\n",
       "      <td>-0.357023</td>\n",
       "      <td>-1.426471e+01</td>\n",
       "      <td>-1.362089e+00</td>\n",
       "      <td>1.664189e+02</td>\n",
       "      <td>1.359480e+01</td>\n",
       "      <td>...</td>\n",
       "      <td>1.863207</td>\n",
       "      <td>-0.011082</td>\n",
       "      <td>5.247980</td>\n",
       "      <td>-0.002395</td>\n",
       "      <td>1.878537</td>\n",
       "      <td>-0.395232</td>\n",
       "      <td>-0.083283</td>\n",
       "      <td>-1.310288e+04</td>\n",
       "      <td>3.176502e-02</td>\n",
       "      <td>-3.089805e+00</td>\n",
       "    </tr>\n",
       "    <tr>\n",
       "      <th>F3</th>\n",
       "      <td>-7.553166e+04</td>\n",
       "      <td>-7.553166e+04</td>\n",
       "      <td>-1.226868</td>\n",
       "      <td>-0.193540</td>\n",
       "      <td>-1.428444e+00</td>\n",
       "      <td>-0.058078</td>\n",
       "      <td>-3.418918e+00</td>\n",
       "      <td>4.118176e+00</td>\n",
       "      <td>1.444740e-01</td>\n",
       "      <td>4.918127e-02</td>\n",
       "      <td>...</td>\n",
       "      <td>0.002551</td>\n",
       "      <td>0.141221</td>\n",
       "      <td>-0.002395</td>\n",
       "      <td>0.214300</td>\n",
       "      <td>-0.019965</td>\n",
       "      <td>1.177599</td>\n",
       "      <td>0.023120</td>\n",
       "      <td>-3.507793e+03</td>\n",
       "      <td>-2.333518e+00</td>\n",
       "      <td>2.898523e-01</td>\n",
       "    </tr>\n",
       "    <tr>\n",
       "      <th>WGT3</th>\n",
       "      <td>-2.206599e+05</td>\n",
       "      <td>-2.206599e+05</td>\n",
       "      <td>1.044410</td>\n",
       "      <td>0.096442</td>\n",
       "      <td>1.940382e+00</td>\n",
       "      <td>-0.315379</td>\n",
       "      <td>-1.429393e+01</td>\n",
       "      <td>-1.164854e+00</td>\n",
       "      <td>1.576496e+02</td>\n",
       "      <td>1.286659e+01</td>\n",
       "      <td>...</td>\n",
       "      <td>1.817102</td>\n",
       "      <td>-0.018904</td>\n",
       "      <td>1.878537</td>\n",
       "      <td>-0.019965</td>\n",
       "      <td>6.234023</td>\n",
       "      <td>-0.451668</td>\n",
       "      <td>-0.009117</td>\n",
       "      <td>-1.291660e+04</td>\n",
       "      <td>3.061944e-01</td>\n",
       "      <td>-1.325977e+00</td>\n",
       "    </tr>\n",
       "    <tr>\n",
       "      <th>TRT</th>\n",
       "      <td>8.997713e+04</td>\n",
       "      <td>8.997713e+04</td>\n",
       "      <td>-21.392910</td>\n",
       "      <td>0.415682</td>\n",
       "      <td>-3.376480e+01</td>\n",
       "      <td>2.133467</td>\n",
       "      <td>3.530856e+02</td>\n",
       "      <td>6.055802e+01</td>\n",
       "      <td>4.628709e+02</td>\n",
       "      <td>2.727156e+01</td>\n",
       "      <td>...</td>\n",
       "      <td>-0.466871</td>\n",
       "      <td>0.958648</td>\n",
       "      <td>-0.395232</td>\n",
       "      <td>1.177599</td>\n",
       "      <td>-0.451668</td>\n",
       "      <td>43.910127</td>\n",
       "      <td>-0.140244</td>\n",
       "      <td>3.747996e+05</td>\n",
       "      <td>-1.355903e+01</td>\n",
       "      <td>-8.512805e+01</td>\n",
       "    </tr>\n",
       "    <tr>\n",
       "      <th>WRT</th>\n",
       "      <td>-1.419173e+05</td>\n",
       "      <td>-1.419173e+05</td>\n",
       "      <td>-0.286933</td>\n",
       "      <td>-0.187867</td>\n",
       "      <td>-5.103491e-01</td>\n",
       "      <td>-0.291350</td>\n",
       "      <td>-2.100365e+01</td>\n",
       "      <td>-1.542830e+00</td>\n",
       "      <td>-7.944694e+01</td>\n",
       "      <td>-5.501452e+00</td>\n",
       "      <td>...</td>\n",
       "      <td>-0.091492</td>\n",
       "      <td>0.016166</td>\n",
       "      <td>-0.083283</td>\n",
       "      <td>0.023120</td>\n",
       "      <td>-0.009117</td>\n",
       "      <td>-0.140244</td>\n",
       "      <td>16.585037</td>\n",
       "      <td>-2.172207e+04</td>\n",
       "      <td>-9.480996e-01</td>\n",
       "      <td>4.368313e+00</td>\n",
       "    </tr>\n",
       "    <tr>\n",
       "      <th>RACESTAKES</th>\n",
       "      <td>2.861884e+11</td>\n",
       "      <td>2.861884e+11</td>\n",
       "      <td>55500.647171</td>\n",
       "      <td>121437.504843</td>\n",
       "      <td>-3.366452e+04</td>\n",
       "      <td>97049.623430</td>\n",
       "      <td>1.252174e+08</td>\n",
       "      <td>1.346438e+07</td>\n",
       "      <td>6.694089e+06</td>\n",
       "      <td>2.860914e+05</td>\n",
       "      <td>...</td>\n",
       "      <td>-24554.746731</td>\n",
       "      <td>-2428.232354</td>\n",
       "      <td>-13102.880439</td>\n",
       "      <td>-3507.792830</td>\n",
       "      <td>-12916.603935</td>\n",
       "      <td>374799.630651</td>\n",
       "      <td>-21722.065666</td>\n",
       "      <td>1.604019e+11</td>\n",
       "      <td>1.307464e+06</td>\n",
       "      <td>-1.169770e+06</td>\n",
       "    </tr>\n",
       "    <tr>\n",
       "      <th>SP_ODDS</th>\n",
       "      <td>8.393346e+06</td>\n",
       "      <td>8.393346e+06</td>\n",
       "      <td>25.011588</td>\n",
       "      <td>8.557552</td>\n",
       "      <td>2.896950e+01</td>\n",
       "      <td>1.533950</td>\n",
       "      <td>1.258889e+03</td>\n",
       "      <td>-2.956104e+01</td>\n",
       "      <td>-2.994034e+02</td>\n",
       "      <td>-2.683631e+01</td>\n",
       "      <td>...</td>\n",
       "      <td>-0.460588</td>\n",
       "      <td>-1.728604</td>\n",
       "      <td>0.031765</td>\n",
       "      <td>-2.333518</td>\n",
       "      <td>0.306194</td>\n",
       "      <td>-13.559030</td>\n",
       "      <td>-0.948100</td>\n",
       "      <td>1.307464e+06</td>\n",
       "      <td>5.071489e+02</td>\n",
       "      <td>1.575405e+01</td>\n",
       "    </tr>\n",
       "    <tr>\n",
       "      <th>DaysOLD</th>\n",
       "      <td>-4.323268e+07</td>\n",
       "      <td>-4.323268e+07</td>\n",
       "      <td>-3.391304</td>\n",
       "      <td>-11.766540</td>\n",
       "      <td>1.891526e+00</td>\n",
       "      <td>-39.544306</td>\n",
       "      <td>-1.059020e+03</td>\n",
       "      <td>-1.091304e+02</td>\n",
       "      <td>-9.664642e+03</td>\n",
       "      <td>-6.520247e+02</td>\n",
       "      <td>...</td>\n",
       "      <td>-3.696470</td>\n",
       "      <td>0.601671</td>\n",
       "      <td>-3.089805</td>\n",
       "      <td>0.289852</td>\n",
       "      <td>-1.325977</td>\n",
       "      <td>-85.128048</td>\n",
       "      <td>4.368313</td>\n",
       "      <td>-1.169770e+06</td>\n",
       "      <td>1.575405e+01</td>\n",
       "      <td>5.443708e+04</td>\n",
       "    </tr>\n",
       "  </tbody>\n",
       "</table>\n",
       "<p>31 rows × 31 columns</p>\n",
       "</div>"
      ],
      "text/plain": [
       "                     X.1             X            FIN            STR  \\\n",
       "X.1         1.431672e+13  1.431672e+13  883841.763476  165390.966947   \n",
       "X           1.431672e+13  1.431672e+13  883841.763476  165390.966947   \n",
       "FIN         8.838418e+05  8.838418e+05      33.969098       2.858141   \n",
       "STR         1.653910e+05  1.653910e+05       2.858141       6.227387   \n",
       "MARG        1.264151e+06  1.264151e+06      36.105882       1.075854   \n",
       "RNO        -2.907903e+04 -2.907903e+04       0.671875       1.678379   \n",
       "PRIZE       2.730598e+08  2.730598e+08      54.449817     117.094994   \n",
       "PRWIN       2.683720e+07  2.683720e+07     -29.147796       7.127249   \n",
       "DIST       -2.622214e+07 -2.622214e+07     213.318270      25.958732   \n",
       "TIME       -2.573137e+06 -2.573137e+06      16.773558       0.698133   \n",
       "SDIST       3.452360e+07  3.452360e+07     -30.446859     -20.231703   \n",
       "STIME       1.769551e+06  1.769551e+06      -1.641074      -1.103691   \n",
       "WGT        -2.642496e+05 -2.642496e+05       0.269907      -0.244346   \n",
       "ALL        -1.199521e+04 -1.199521e+04      -0.061247       0.038917   \n",
       "LIM         2.506926e+06  2.506926e+06      -0.818280      -2.401418   \n",
       "BP          6.174647e+04  6.174647e+04       1.918783       3.119838   \n",
       "SD         -5.303109e+04 -5.303109e+04       3.037907       3.215898   \n",
       "TW         -7.878387e+03 -7.878387e+03       0.373018       0.009738   \n",
       "EI         -4.522633e+05 -4.522633e+05       1.951075       1.994910   \n",
       "FO          6.874336e+04  6.874336e+04       4.154637       3.204340   \n",
       "F1         -2.357510e+04 -2.357510e+04      -0.511071      -0.065170   \n",
       "WGT1       -1.476293e+05 -1.476293e+05       0.856769      -0.198581   \n",
       "F2         -5.063498e+04 -5.063498e+04      -0.920830      -0.130355   \n",
       "WGT2       -1.674262e+05 -1.674262e+05       0.947433      -0.127738   \n",
       "F3         -7.553166e+04 -7.553166e+04      -1.226868      -0.193540   \n",
       "WGT3       -2.206599e+05 -2.206599e+05       1.044410       0.096442   \n",
       "TRT         8.997713e+04  8.997713e+04     -21.392910       0.415682   \n",
       "WRT        -1.419173e+05 -1.419173e+05      -0.286933      -0.187867   \n",
       "RACESTAKES  2.861884e+11  2.861884e+11   55500.647171  121437.504843   \n",
       "SP_ODDS     8.393346e+06  8.393346e+06      25.011588       8.557552   \n",
       "DaysOLD    -4.323268e+07 -4.323268e+07      -3.391304     -11.766540   \n",
       "\n",
       "                    MARG           RNO         PRIZE         PRWIN  \\\n",
       "X.1         1.264151e+06 -29079.033646  2.730598e+08  2.683720e+07   \n",
       "X           1.264151e+06 -29079.033646  2.730598e+08  2.683720e+07   \n",
       "FIN         3.610588e+01      0.671875  5.444982e+01 -2.914780e+01   \n",
       "STR         1.075854e+00      1.678379  1.170950e+02  7.127249e+00   \n",
       "MARG        5.976129e+01     -0.445037 -3.155514e+01 -3.684859e+01   \n",
       "RNO        -4.450372e-01      5.642712  9.200746e+01  7.145640e+00   \n",
       "PRIZE      -3.155514e+01     92.007464  1.054831e+05  1.040132e+04   \n",
       "PRWIN      -3.684859e+01      7.145640  1.040132e+04  5.277086e+03   \n",
       "DIST        4.708375e+02     85.559700  5.897986e+03  5.568756e+02   \n",
       "TIME        3.772961e+01      4.896480  2.410376e+02  2.425665e+01   \n",
       "SDIST      -1.433140e+02     -4.942243  1.872767e+03  1.692820e+02   \n",
       "STIME      -7.707877e+00     -0.196306  7.335987e+01  6.711034e+00   \n",
       "WGT         1.027259e+00     -0.387815 -3.266358e+01 -1.123455e+00   \n",
       "ALL        -2.655899e-02     -0.042547  1.098930e+01  1.514743e+00   \n",
       "LIM        -1.181139e+01     21.114039  2.138357e+02  9.761712e+00   \n",
       "BP          1.089203e+00      0.840451  5.683558e+01  1.145487e+00   \n",
       "SD          2.303680e+00      0.929436  6.653817e+01 -1.811338e+00   \n",
       "TW          1.145137e+00      0.128070  4.247093e+01  3.307989e+00   \n",
       "EI          2.032461e+00      0.837210  2.513407e+01 -1.129979e+00   \n",
       "FO          4.617581e+00      0.945279  6.688644e+01 -5.702689e+00   \n",
       "F1         -6.903961e-01     -0.019817 -1.163141e+00  3.351676e+00   \n",
       "WGT1        1.882848e+00     -0.358928 -2.552068e+01 -1.765951e+00   \n",
       "F2         -1.118887e+00     -0.040327 -2.361771e+00  4.080512e+00   \n",
       "WGT2        1.882366e+00     -0.357023 -1.426471e+01 -1.362089e+00   \n",
       "F3         -1.428444e+00     -0.058078 -3.418918e+00  4.118176e+00   \n",
       "WGT3        1.940382e+00     -0.315379 -1.429393e+01 -1.164854e+00   \n",
       "TRT        -3.376480e+01      2.133467  3.530856e+02  6.055802e+01   \n",
       "WRT        -5.103491e-01     -0.291350 -2.100365e+01 -1.542830e+00   \n",
       "RACESTAKES -3.366452e+04  97049.623430  1.252174e+08  1.346438e+07   \n",
       "SP_ODDS     2.896950e+01      1.533950  1.258889e+03 -2.956104e+01   \n",
       "DaysOLD     1.891526e+00    -39.544306 -1.059020e+03 -1.091304e+02   \n",
       "\n",
       "                    DIST          TIME  ...           WGT1            F2  \\\n",
       "X.1        -2.622214e+07 -2.573137e+06  ... -147629.324320 -50634.976632   \n",
       "X          -2.622214e+07 -2.573137e+06  ... -147629.324320 -50634.976632   \n",
       "FIN         2.133183e+02  1.677356e+01  ...       0.856769     -0.920830   \n",
       "STR         2.595873e+01  6.981333e-01  ...      -0.198581     -0.130355   \n",
       "MARG        4.708375e+02  3.772961e+01  ...       1.882848     -1.118887   \n",
       "RNO         8.555970e+01  4.896480e+00  ...      -0.358928     -0.040327   \n",
       "PRIZE       5.897986e+03  2.410376e+02  ...     -25.520676     -2.361771   \n",
       "PRWIN       5.568756e+02  2.425665e+01  ...      -1.765951      4.080512   \n",
       "DIST        1.410923e+05  9.980702e+03  ...     167.586430      0.174743   \n",
       "TIME        9.980702e+03  7.236903e+02  ...      13.710191      0.037202   \n",
       "SDIST      -1.028627e+04 -7.877498e+02  ...     -21.921059      0.244992   \n",
       "STIME      -4.653280e+02 -3.568213e+01  ...      -1.050460      0.013404   \n",
       "WGT         1.523066e+02  1.280349e+01  ...       1.851995      0.059297   \n",
       "ALL         1.262626e+01  8.353270e-01  ...       0.069394      0.008235   \n",
       "LIM         6.969137e+02  4.158725e+01  ...      -3.219167      0.004366   \n",
       "BP          1.313502e+01  3.740513e-01  ...      -0.102787     -0.087571   \n",
       "SD          2.337843e+01  1.199448e+00  ...      -0.162478     -0.259431   \n",
       "TW          4.247115e+02  2.954054e+01  ...       0.431255     -0.010579   \n",
       "EI          3.547218e+02  2.397895e+01  ...       0.465304     -0.170123   \n",
       "FO          8.453687e+00 -7.723476e-03  ...      -0.212849     -0.364651   \n",
       "F1          5.541606e-02  1.674162e-02  ...      -0.005783      0.080892   \n",
       "WGT1        1.675864e+02  1.371019e+01  ...       5.166783      0.000482   \n",
       "F2          1.747428e-01  3.720195e-02  ...       0.000482      0.163945   \n",
       "WGT2        1.664189e+02  1.359480e+01  ...       1.863207     -0.011082   \n",
       "F3          1.444740e-01  4.918127e-02  ...       0.002551      0.141221   \n",
       "WGT3        1.576496e+02  1.286659e+01  ...       1.817102     -0.018904   \n",
       "TRT         4.628709e+02  2.727156e+01  ...      -0.466871      0.958648   \n",
       "WRT        -7.944694e+01 -5.501452e+00  ...      -0.091492      0.016166   \n",
       "RACESTAKES  6.694089e+06  2.860914e+05  ...  -24554.746731  -2428.232354   \n",
       "SP_ODDS    -2.994034e+02 -2.683631e+01  ...      -0.460588     -1.728604   \n",
       "DaysOLD    -9.664642e+03 -6.520247e+02  ...      -3.696470      0.601671   \n",
       "\n",
       "                     WGT2            F3           WGT3            TRT  \\\n",
       "X.1        -167426.210287 -75531.656201 -220659.858145   89977.127401   \n",
       "X          -167426.210287 -75531.656201 -220659.858145   89977.127401   \n",
       "FIN              0.947433     -1.226868       1.044410     -21.392910   \n",
       "STR             -0.127738     -0.193540       0.096442       0.415682   \n",
       "MARG             1.882366     -1.428444       1.940382     -33.764796   \n",
       "RNO             -0.357023     -0.058078      -0.315379       2.133467   \n",
       "PRIZE          -14.264709     -3.418918     -14.293933     353.085643   \n",
       "PRWIN           -1.362089      4.118176      -1.164854      60.558020   \n",
       "DIST           166.418852      0.144474     157.649605     462.870854   \n",
       "TIME            13.594796      0.049181      12.866588      27.271557   \n",
       "SDIST          -23.603233      0.388180     -24.760742     258.004556   \n",
       "STIME           -1.134497      0.021492      -1.197229      14.286001   \n",
       "WGT              1.873329      0.076026       1.844120       1.441400   \n",
       "ALL              0.065865      0.011081       0.073370       0.369250   \n",
       "LIM             -4.864642      0.012864      -6.375804      14.886254   \n",
       "BP              -0.056973     -0.133430       0.038035      -0.205611   \n",
       "SD              -0.119364     -0.336236      -0.000498      -1.215923   \n",
       "TW               0.444604     -0.012608       0.418443       1.842001   \n",
       "EI               0.516780     -0.219799       0.600384       1.292214   \n",
       "FO              -0.170945     -0.475789      -0.048717      -2.678929   \n",
       "F1              -0.004715      0.070586      -0.010282       0.582268   \n",
       "WGT1             1.863207      0.002551       1.817102      -0.466871   \n",
       "F2              -0.011082      0.141221      -0.018904       0.958648   \n",
       "WGT2             5.247980     -0.002395       1.878537      -0.395232   \n",
       "F3              -0.002395      0.214300      -0.019965       1.177599   \n",
       "WGT3             1.878537     -0.019965       6.234023      -0.451668   \n",
       "TRT             -0.395232      1.177599      -0.451668      43.910127   \n",
       "WRT             -0.083283      0.023120      -0.009117      -0.140244   \n",
       "RACESTAKES  -13102.880439  -3507.792830  -12916.603935  374799.630651   \n",
       "SP_ODDS          0.031765     -2.333518       0.306194     -13.559030   \n",
       "DaysOLD         -3.089805      0.289852      -1.325977     -85.128048   \n",
       "\n",
       "                      WRT    RACESTAKES       SP_ODDS       DaysOLD  \n",
       "X.1        -141917.289745  2.861884e+11  8.393346e+06 -4.323268e+07  \n",
       "X          -141917.289745  2.861884e+11  8.393346e+06 -4.323268e+07  \n",
       "FIN             -0.286933  5.550065e+04  2.501159e+01 -3.391304e+00  \n",
       "STR             -0.187867  1.214375e+05  8.557552e+00 -1.176654e+01  \n",
       "MARG            -0.510349 -3.366452e+04  2.896950e+01  1.891526e+00  \n",
       "RNO             -0.291350  9.704962e+04  1.533950e+00 -3.954431e+01  \n",
       "PRIZE          -21.003653  1.252174e+08  1.258889e+03 -1.059020e+03  \n",
       "PRWIN           -1.542830  1.346438e+07 -2.956104e+01 -1.091304e+02  \n",
       "DIST           -79.446937  6.694089e+06 -2.994034e+02 -9.664642e+03  \n",
       "TIME            -5.501452  2.860914e+05 -2.683631e+01 -6.520247e+02  \n",
       "SDIST           69.601862  1.855004e+06  1.107130e+03 -2.391624e+02  \n",
       "STIME            3.936017  6.987142e+04  6.504467e+01 -2.572140e+01  \n",
       "WGT             -0.089486 -3.203454e+04 -7.166804e+00  6.626069e+00  \n",
       "ALL             -0.002803  1.206472e+04 -7.172766e-01  4.840267e+00  \n",
       "LIM              0.463229  1.395274e+05 -3.514895e+00 -3.832311e+02  \n",
       "BP              -0.106581  5.797923e+04  7.466048e+00 -4.574005e+00  \n",
       "SD              -0.093992  6.936236e+04  1.401773e+01  1.539238e+01  \n",
       "TW              -0.198677  5.015661e+04  8.118665e-01 -2.272492e+01  \n",
       "EI              -0.021442  2.934875e+04  1.154565e+01 -1.963274e+01  \n",
       "FO              -0.118092  6.913387e+04  1.752651e+01  1.497949e+01  \n",
       "F1               0.010211 -1.167475e+03 -9.477776e-01  5.698724e-01  \n",
       "WGT1            -0.091492 -2.455475e+04 -4.605882e-01 -3.696470e+00  \n",
       "F2               0.016166 -2.428232e+03 -1.728604e+00  6.016714e-01  \n",
       "WGT2            -0.083283 -1.310288e+04  3.176502e-02 -3.089805e+00  \n",
       "F3               0.023120 -3.507793e+03 -2.333518e+00  2.898523e-01  \n",
       "WGT3            -0.009117 -1.291660e+04  3.061944e-01 -1.325977e+00  \n",
       "TRT             -0.140244  3.747996e+05 -1.355903e+01 -8.512805e+01  \n",
       "WRT             16.585037 -2.172207e+04 -9.480996e-01  4.368313e+00  \n",
       "RACESTAKES  -21722.065666  1.604019e+11  1.307464e+06 -1.169770e+06  \n",
       "SP_ODDS         -0.948100  1.307464e+06  5.071489e+02  1.575405e+01  \n",
       "DaysOLD          4.368313 -1.169770e+06  1.575405e+01  5.443708e+04  \n",
       "\n",
       "[31 rows x 31 columns]"
      ]
     },
     "execution_count": 417,
     "metadata": {},
     "output_type": "execute_result"
    }
   ],
   "source": [
    "past_perf.cov()"
   ]
  },
  {
   "cell_type": "code",
   "execution_count": 418,
   "metadata": {},
   "outputs": [],
   "source": [
    "# Removing repeated and irrelevant columns"
   ]
  },
  {
   "cell_type": "code",
   "execution_count": 419,
   "metadata": {},
   "outputs": [],
   "source": [
    "past_perf_new=past_perf.drop(['HORSE','STR','M','PRIZE','DATE','PRWIN','EVENT','CLASS','AGE','SD','BP','DIST','F1','OTHER1','WGT1',\n",
    "'F2','OTHER2','WGT2','F3','OTHER3','WGT3','FNAME','FDATE','RACESTAKES','SP_ODDS','DaysOLD'],axis=1)"
   ]
  },
  {
   "cell_type": "code",
   "execution_count": 420,
   "metadata": {
    "scrolled": true
   },
   "outputs": [
    {
     "name": "stdout",
     "output_type": "stream",
     "text": [
      "<class 'pandas.core.frame.DataFrame'>\n",
      "RangeIndex: 195493 entries, 0 to 195492\n",
      "Data columns (total 27 columns):\n",
      " #   Column   Non-Null Count   Dtype  \n",
      "---  ------   --------------   -----  \n",
      " 0   X.1      195493 non-null  int64  \n",
      " 1   X        195493 non-null  int64  \n",
      " 2   FIN      195493 non-null  int64  \n",
      " 3   MARG     195493 non-null  float64\n",
      " 4   TRACK    195493 non-null  object \n",
      " 5   RNO      195493 non-null  int64  \n",
      " 6   REST     21660 non-null   object \n",
      " 7   G        195493 non-null  object \n",
      " 8   TIME     195493 non-null  float64\n",
      " 9   SDIST    195493 non-null  int64  \n",
      " 10  STIME    195493 non-null  float64\n",
      " 11  OP       137922 non-null  object \n",
      " 12  MP       30682 non-null   object \n",
      " 13  SP       195493 non-null  object \n",
      " 14  WGT      195493 non-null  float64\n",
      " 15  ALL      195493 non-null  float64\n",
      " 16  LIM      195493 non-null  float64\n",
      " 17  JOCKEY   195493 non-null  object \n",
      " 18  TW       195493 non-null  int64  \n",
      " 19  EI       195493 non-null  int64  \n",
      " 20  FO       195493 non-null  int64  \n",
      " 21  TRT      195493 non-null  float64\n",
      " 22  WRT      194289 non-null  float64\n",
      " 23  HORSEID  195493 non-null  object \n",
      " 24  CODE     195493 non-null  object \n",
      " 25  RACEID   195493 non-null  object \n",
      " 26  MTYPE    195493 non-null  object \n",
      "dtypes: float64(8), int64(8), object(11)\n",
      "memory usage: 40.3+ MB\n"
     ]
    }
   ],
   "source": [
    "past_perf_new.info()"
   ]
  },
  {
   "cell_type": "code",
   "execution_count": 421,
   "metadata": {},
   "outputs": [],
   "source": [
    "past_perf_new=past_perf_new.drop(['MARG','TRACK','SDIST','STIME','OP','MP','SP','X.1','X' ],axis=1)"
   ]
  },
  {
   "cell_type": "code",
   "execution_count": 422,
   "metadata": {},
   "outputs": [],
   "source": [
    "# New shape of the dataset after removing columns"
   ]
  },
  {
   "cell_type": "code",
   "execution_count": 423,
   "metadata": {},
   "outputs": [
    {
     "data": {
      "text/plain": [
       "(195493, 18)"
      ]
     },
     "execution_count": 423,
     "metadata": {},
     "output_type": "execute_result"
    }
   ],
   "source": [
    "past_perf_new.shape"
   ]
  },
  {
   "cell_type": "code",
   "execution_count": 424,
   "metadata": {},
   "outputs": [],
   "source": [
    "past_perf_new=past_perf_new.drop(['LIM','CODE'],axis=1)"
   ]
  },
  {
   "cell_type": "code",
   "execution_count": 425,
   "metadata": {},
   "outputs": [],
   "source": [
    "past_perf_new=past_perf_new.drop(['REST','MTYPE'],axis=1)"
   ]
  },
  {
   "cell_type": "code",
   "execution_count": 426,
   "metadata": {
    "scrolled": true
   },
   "outputs": [
    {
     "data": {
      "text/html": [
       "<div>\n",
       "<style scoped>\n",
       "    .dataframe tbody tr th:only-of-type {\n",
       "        vertical-align: middle;\n",
       "    }\n",
       "\n",
       "    .dataframe tbody tr th {\n",
       "        vertical-align: top;\n",
       "    }\n",
       "\n",
       "    .dataframe thead th {\n",
       "        text-align: right;\n",
       "    }\n",
       "</style>\n",
       "<table border=\"1\" class=\"dataframe\">\n",
       "  <thead>\n",
       "    <tr style=\"text-align: right;\">\n",
       "      <th></th>\n",
       "      <th>FIN</th>\n",
       "      <th>RNO</th>\n",
       "      <th>G</th>\n",
       "      <th>TIME</th>\n",
       "      <th>WGT</th>\n",
       "      <th>ALL</th>\n",
       "      <th>JOCKEY</th>\n",
       "      <th>TW</th>\n",
       "      <th>EI</th>\n",
       "      <th>FO</th>\n",
       "      <th>TRT</th>\n",
       "      <th>WRT</th>\n",
       "      <th>HORSEID</th>\n",
       "      <th>RACEID</th>\n",
       "    </tr>\n",
       "  </thead>\n",
       "  <tbody>\n",
       "    <tr>\n",
       "      <th>0</th>\n",
       "      <td>12</td>\n",
       "      <td>5</td>\n",
       "      <td>S</td>\n",
       "      <td>80.54</td>\n",
       "      <td>54.5</td>\n",
       "      <td>0.0</td>\n",
       "      <td>R Bensley</td>\n",
       "      <td>0</td>\n",
       "      <td>2</td>\n",
       "      <td>4</td>\n",
       "      <td>41.4</td>\n",
       "      <td>0.0</td>\n",
       "      <td>2013-07-15Zartiki5</td>\n",
       "      <td>2013-07-15MOY5</td>\n",
       "    </tr>\n",
       "    <tr>\n",
       "      <th>1</th>\n",
       "      <td>5</td>\n",
       "      <td>7</td>\n",
       "      <td>G</td>\n",
       "      <td>70.21</td>\n",
       "      <td>54.0</td>\n",
       "      <td>0.0</td>\n",
       "      <td>R Bensley</td>\n",
       "      <td>0</td>\n",
       "      <td>0</td>\n",
       "      <td>8</td>\n",
       "      <td>53.7</td>\n",
       "      <td>0.0</td>\n",
       "      <td>2013-06-28Zartiki7</td>\n",
       "      <td>2013-06-28ACT7</td>\n",
       "    </tr>\n",
       "    <tr>\n",
       "      <th>2</th>\n",
       "      <td>5</td>\n",
       "      <td>7</td>\n",
       "      <td>G</td>\n",
       "      <td>61.65</td>\n",
       "      <td>55.0</td>\n",
       "      <td>0.0</td>\n",
       "      <td>R Bensley</td>\n",
       "      <td>0</td>\n",
       "      <td>0</td>\n",
       "      <td>6</td>\n",
       "      <td>46.4</td>\n",
       "      <td>0.0</td>\n",
       "      <td>2013-06-07Zartiki7</td>\n",
       "      <td>2013-06-07ACT7</td>\n",
       "    </tr>\n",
       "    <tr>\n",
       "      <th>3</th>\n",
       "      <td>7</td>\n",
       "      <td>7</td>\n",
       "      <td>D</td>\n",
       "      <td>84.62</td>\n",
       "      <td>55.5</td>\n",
       "      <td>0.0</td>\n",
       "      <td>C Spry</td>\n",
       "      <td>0</td>\n",
       "      <td>2</td>\n",
       "      <td>2</td>\n",
       "      <td>47.1</td>\n",
       "      <td>0.0</td>\n",
       "      <td>2013-01-25Zartiki7</td>\n",
       "      <td>2013-01-25CAB7</td>\n",
       "    </tr>\n",
       "    <tr>\n",
       "      <th>4</th>\n",
       "      <td>2</td>\n",
       "      <td>5</td>\n",
       "      <td>G</td>\n",
       "      <td>85.57</td>\n",
       "      <td>55.5</td>\n",
       "      <td>0.0</td>\n",
       "      <td>C Spry</td>\n",
       "      <td>0</td>\n",
       "      <td>5</td>\n",
       "      <td>6</td>\n",
       "      <td>49.7</td>\n",
       "      <td>0.0</td>\n",
       "      <td>2013-01-13Zartiki5</td>\n",
       "      <td>2013-01-13COW5</td>\n",
       "    </tr>\n",
       "    <tr>\n",
       "      <th>...</th>\n",
       "      <td>...</td>\n",
       "      <td>...</td>\n",
       "      <td>...</td>\n",
       "      <td>...</td>\n",
       "      <td>...</td>\n",
       "      <td>...</td>\n",
       "      <td>...</td>\n",
       "      <td>...</td>\n",
       "      <td>...</td>\n",
       "      <td>...</td>\n",
       "      <td>...</td>\n",
       "      <td>...</td>\n",
       "      <td>...</td>\n",
       "      <td>...</td>\n",
       "    </tr>\n",
       "    <tr>\n",
       "      <th>195488</th>\n",
       "      <td>5</td>\n",
       "      <td>8</td>\n",
       "      <td>G</td>\n",
       "      <td>70.09</td>\n",
       "      <td>56.5</td>\n",
       "      <td>0.0</td>\n",
       "      <td>A Coome</td>\n",
       "      <td>0</td>\n",
       "      <td>3</td>\n",
       "      <td>3</td>\n",
       "      <td>53.4</td>\n",
       "      <td>0.0</td>\n",
       "      <td>2013-01-31Craiglea Gee Tee8</td>\n",
       "      <td>2013-01-31MAC8</td>\n",
       "    </tr>\n",
       "    <tr>\n",
       "      <th>195489</th>\n",
       "      <td>2</td>\n",
       "      <td>5</td>\n",
       "      <td>4</td>\n",
       "      <td>97.73</td>\n",
       "      <td>54.0</td>\n",
       "      <td>0.0</td>\n",
       "      <td>Ms F Ives</td>\n",
       "      <td>0</td>\n",
       "      <td>2</td>\n",
       "      <td>2</td>\n",
       "      <td>52.0</td>\n",
       "      <td>0.0</td>\n",
       "      <td>2013-03-04Major Handell5</td>\n",
       "      <td>2013-03-04ESP5</td>\n",
       "    </tr>\n",
       "    <tr>\n",
       "      <th>195490</th>\n",
       "      <td>8</td>\n",
       "      <td>3</td>\n",
       "      <td>D</td>\n",
       "      <td>59.48</td>\n",
       "      <td>54.0</td>\n",
       "      <td>0.0</td>\n",
       "      <td>B Murphy</td>\n",
       "      <td>0</td>\n",
       "      <td>3</td>\n",
       "      <td>5</td>\n",
       "      <td>35.5</td>\n",
       "      <td>0.0</td>\n",
       "      <td>2013-09-21Love Potion3</td>\n",
       "      <td>2013-09-21WAG3</td>\n",
       "    </tr>\n",
       "    <tr>\n",
       "      <th>195491</th>\n",
       "      <td>9</td>\n",
       "      <td>4</td>\n",
       "      <td>G</td>\n",
       "      <td>87.11</td>\n",
       "      <td>56.5</td>\n",
       "      <td>0.0</td>\n",
       "      <td>Ms N Lye</td>\n",
       "      <td>0</td>\n",
       "      <td>9</td>\n",
       "      <td>9</td>\n",
       "      <td>46.1</td>\n",
       "      <td>0.0</td>\n",
       "      <td>2013-02-12Carefree4</td>\n",
       "      <td>2013-02-12QEN4</td>\n",
       "    </tr>\n",
       "    <tr>\n",
       "      <th>195492</th>\n",
       "      <td>8</td>\n",
       "      <td>5</td>\n",
       "      <td>G</td>\n",
       "      <td>97.90</td>\n",
       "      <td>54.0</td>\n",
       "      <td>0.0</td>\n",
       "      <td>A Bloomfield</td>\n",
       "      <td>0</td>\n",
       "      <td>6</td>\n",
       "      <td>5</td>\n",
       "      <td>47.2</td>\n",
       "      <td>0.0</td>\n",
       "      <td>2013-05-02Bayonet Charge5</td>\n",
       "      <td>2013-05-02WAG5</td>\n",
       "    </tr>\n",
       "  </tbody>\n",
       "</table>\n",
       "<p>195493 rows × 14 columns</p>\n",
       "</div>"
      ],
      "text/plain": [
       "        FIN  RNO  G   TIME   WGT  ALL        JOCKEY  TW  EI  FO   TRT  WRT  \\\n",
       "0        12    5  S  80.54  54.5  0.0     R Bensley   0   2   4  41.4  0.0   \n",
       "1         5    7  G  70.21  54.0  0.0     R Bensley   0   0   8  53.7  0.0   \n",
       "2         5    7  G  61.65  55.0  0.0     R Bensley   0   0   6  46.4  0.0   \n",
       "3         7    7  D  84.62  55.5  0.0        C Spry   0   2   2  47.1  0.0   \n",
       "4         2    5  G  85.57  55.5  0.0        C Spry   0   5   6  49.7  0.0   \n",
       "...     ...  ... ..    ...   ...  ...           ...  ..  ..  ..   ...  ...   \n",
       "195488    5    8  G  70.09  56.5  0.0       A Coome   0   3   3  53.4  0.0   \n",
       "195489    2    5  4  97.73  54.0  0.0     Ms F Ives   0   2   2  52.0  0.0   \n",
       "195490    8    3  D  59.48  54.0  0.0      B Murphy   0   3   5  35.5  0.0   \n",
       "195491    9    4  G  87.11  56.5  0.0      Ms N Lye   0   9   9  46.1  0.0   \n",
       "195492    8    5  G  97.90  54.0  0.0  A Bloomfield   0   6   5  47.2  0.0   \n",
       "\n",
       "                            HORSEID          RACEID  \n",
       "0                2013-07-15Zartiki5  2013-07-15MOY5  \n",
       "1                2013-06-28Zartiki7  2013-06-28ACT7  \n",
       "2                2013-06-07Zartiki7  2013-06-07ACT7  \n",
       "3                2013-01-25Zartiki7  2013-01-25CAB7  \n",
       "4                2013-01-13Zartiki5  2013-01-13COW5  \n",
       "...                             ...             ...  \n",
       "195488  2013-01-31Craiglea Gee Tee8  2013-01-31MAC8  \n",
       "195489     2013-03-04Major Handell5  2013-03-04ESP5  \n",
       "195490       2013-09-21Love Potion3  2013-09-21WAG3  \n",
       "195491          2013-02-12Carefree4  2013-02-12QEN4  \n",
       "195492    2013-05-02Bayonet Charge5  2013-05-02WAG5  \n",
       "\n",
       "[195493 rows x 14 columns]"
      ]
     },
     "execution_count": 426,
     "metadata": {},
     "output_type": "execute_result"
    }
   ],
   "source": [
    "past_perf_new"
   ]
  },
  {
   "cell_type": "markdown",
   "metadata": {},
   "source": [
    "# Deleting the repeated columns that are also present in other files"
   ]
  },
  {
   "cell_type": "code",
   "execution_count": 427,
   "metadata": {},
   "outputs": [],
   "source": [
    "past_perf_new=past_perf_new.drop(['RACEID','JOCKEY','ALL','WGT'],axis=1)"
   ]
  },
  {
   "cell_type": "markdown",
   "metadata": {},
   "source": [
    "# Horse Data "
   ]
  },
  {
   "cell_type": "code",
   "execution_count": 428,
   "metadata": {
    "scrolled": false
   },
   "outputs": [
    {
     "name": "stdout",
     "output_type": "stream",
     "text": [
      "<class 'pandas.core.frame.DataFrame'>\n",
      "RangeIndex: 205661 entries, 0 to 205660\n",
      "Data columns (total 100 columns):\n",
      " #   Column       Non-Null Count   Dtype  \n",
      "---  ------       --------------   -----  \n",
      " 0   Unnamed: 0   205661 non-null  int64  \n",
      " 1   X.1          205661 non-null  int64  \n",
      " 2   X            205661 non-null  int64  \n",
      " 3   RNO          205661 non-null  int64  \n",
      " 4   TNO          205661 non-null  int64  \n",
      " 5   E            6393 non-null    object \n",
      " 6   FORM         194019 non-null  object \n",
      " 7   HORSE        205661 non-null  object \n",
      " 8   CTY          45451 non-null   object \n",
      " 9   BP           205661 non-null  int64  \n",
      " 10  JOCKEY       205605 non-null  object \n",
      " 11  ALL          205661 non-null  float64\n",
      " 12  WGT          205661 non-null  float64\n",
      " 13  STAKES       205661 non-null  int64  \n",
      " 14  AGE          205661 non-null  int64  \n",
      " 15  COL          205661 non-null  object \n",
      " 16  SEX          205661 non-null  object \n",
      " 17  TRAINER      205661 non-null  object \n",
      " 18  STABLES      205661 non-null  object \n",
      " 19  STARTS       205661 non-null  int64  \n",
      " 20  WINS         205661 non-null  int64  \n",
      " 21  PL2          205661 non-null  int64  \n",
      " 22  PL3          205661 non-null  int64  \n",
      " 23  TDS          205661 non-null  int64  \n",
      " 24  TDW          205661 non-null  int64  \n",
      " 25  TD2          205661 non-null  int64  \n",
      " 26  TD3          205661 non-null  int64  \n",
      " 27  TCS          205661 non-null  int64  \n",
      " 28  TCW          205661 non-null  int64  \n",
      " 29  TC2          205661 non-null  int64  \n",
      " 30  TC3          205661 non-null  int64  \n",
      " 31  FS           205661 non-null  int64  \n",
      " 32  FW           205661 non-null  int64  \n",
      " 33  F2           205661 non-null  int64  \n",
      " 34  F3           205661 non-null  int64  \n",
      " 35  GS           205661 non-null  int64  \n",
      " 36  GW           205661 non-null  int64  \n",
      " 37  G2           205661 non-null  int64  \n",
      " 38  G3           205661 non-null  int64  \n",
      " 39  DS           205661 non-null  int64  \n",
      " 40  DW           205661 non-null  int64  \n",
      " 41  D2           205661 non-null  int64  \n",
      " 42  D3           205661 non-null  int64  \n",
      " 43  SS           205661 non-null  int64  \n",
      " 44  SW           205661 non-null  int64  \n",
      " 45  S2           205661 non-null  int64  \n",
      " 46  S3           205661 non-null  int64  \n",
      " 47  HS           205661 non-null  int64  \n",
      " 48  HW           205661 non-null  int64  \n",
      " 49  H2           205661 non-null  int64  \n",
      " 50  H3           205661 non-null  int64  \n",
      " 51  FUS          205661 non-null  int64  \n",
      " 52  FUW          205661 non-null  int64  \n",
      " 53  FU2          205661 non-null  int64  \n",
      " 54  FU3          205661 non-null  int64  \n",
      " 55  DAYS         205661 non-null  int64  \n",
      " 56  RUNS         205661 non-null  int64  \n",
      " 57  DDIST        205661 non-null  int64  \n",
      " 58  DWGT         205661 non-null  float64\n",
      " 59  BREEDING     205661 non-null  object \n",
      " 60  OWNER        196511 non-null  object \n",
      " 61  SILKS        195898 non-null  object \n",
      " 62  DISTWINS     135614 non-null  object \n",
      " 63  TBASE        205661 non-null  float64\n",
      " 64  XPEAK        205661 non-null  float64\n",
      " 65  PRICE        205661 non-null  float64\n",
      " 66  LBD          205661 non-null  int64  \n",
      " 67  SCR          205661 non-null  object \n",
      " 68  DOK          197963 non-null  object \n",
      " 69  FOK          120863 non-null  object \n",
      " 70  IMP          56050 non-null   object \n",
      " 71  LEN          205661 non-null  float64\n",
      " 72  FNO          205661 non-null  int64  \n",
      " 73  FRT          205661 non-null  int64  \n",
      " 74  WNF          182272 non-null  object \n",
      " 75  POS          205661 non-null  int64  \n",
      " 76  WET          140719 non-null  object \n",
      " 77  JRT          205661 non-null  int64  \n",
      " 78  DS1          194019 non-null  object \n",
      " 79  DS2          183008 non-null  object \n",
      " 80  DS3          172688 non-null  object \n",
      " 81  RS1          205661 non-null  float64\n",
      " 82  RS2          205661 non-null  float64\n",
      " 83  RS3          205661 non-null  float64\n",
      " 84  BPRICE       205661 non-null  int64  \n",
      " 85  CPRICE       205661 non-null  float64\n",
      " 86  TS1          205661 non-null  object \n",
      " 87  TS2          205661 non-null  object \n",
      " 88  TS3          205661 non-null  object \n",
      " 89  COMMENT      51057 non-null   object \n",
      " 90  FNAME        205661 non-null  object \n",
      " 91  FDATE        205661 non-null  object \n",
      " 92  VCODE        205661 non-null  object \n",
      " 93  RACEID       205661 non-null  object \n",
      " 94  HORSEID      205661 non-null  object \n",
      " 95  MTYPE        205661 non-null  object \n",
      " 96  JockeyWinP   205661 non-null  float64\n",
      " 97  JockeyRATE   205661 non-null  float64\n",
      " 98  TrainerWinP  205661 non-null  float64\n",
      " 99  TrainerRATE  205661 non-null  float64\n",
      "dtypes: float64(15), int64(53), object(32)\n",
      "memory usage: 156.9+ MB\n"
     ]
    }
   ],
   "source": [
    "horse_data.info()"
   ]
  },
  {
   "cell_type": "code",
   "execution_count": 429,
   "metadata": {
    "scrolled": true
   },
   "outputs": [
    {
     "data": {
      "text/plain": [
       "Unnamed: 0     0\n",
       "X.1            0\n",
       "X              0\n",
       "RNO            0\n",
       "TNO            0\n",
       "              ..\n",
       "MTYPE          0\n",
       "JockeyWinP     0\n",
       "JockeyRATE     0\n",
       "TrainerWinP    0\n",
       "TrainerRATE    0\n",
       "Length: 100, dtype: int64"
      ]
     },
     "execution_count": 429,
     "metadata": {},
     "output_type": "execute_result"
    }
   ],
   "source": [
    "horse_data.isnull().sum()"
   ]
  },
  {
   "cell_type": "code",
   "execution_count": 430,
   "metadata": {},
   "outputs": [
    {
     "data": {
      "text/html": [
       "<div>\n",
       "<style scoped>\n",
       "    .dataframe tbody tr th:only-of-type {\n",
       "        vertical-align: middle;\n",
       "    }\n",
       "\n",
       "    .dataframe tbody tr th {\n",
       "        vertical-align: top;\n",
       "    }\n",
       "\n",
       "    .dataframe thead th {\n",
       "        text-align: right;\n",
       "    }\n",
       "</style>\n",
       "<table border=\"1\" class=\"dataframe\">\n",
       "  <thead>\n",
       "    <tr style=\"text-align: right;\">\n",
       "      <th></th>\n",
       "      <th>Unnamed: 0</th>\n",
       "      <th>X.1</th>\n",
       "      <th>X</th>\n",
       "      <th>RNO</th>\n",
       "      <th>TNO</th>\n",
       "      <th>BP</th>\n",
       "      <th>ALL</th>\n",
       "      <th>WGT</th>\n",
       "      <th>STAKES</th>\n",
       "      <th>AGE</th>\n",
       "      <th>...</th>\n",
       "      <th>JRT</th>\n",
       "      <th>RS1</th>\n",
       "      <th>RS2</th>\n",
       "      <th>RS3</th>\n",
       "      <th>BPRICE</th>\n",
       "      <th>CPRICE</th>\n",
       "      <th>JockeyWinP</th>\n",
       "      <th>JockeyRATE</th>\n",
       "      <th>TrainerWinP</th>\n",
       "      <th>TrainerRATE</th>\n",
       "    </tr>\n",
       "  </thead>\n",
       "  <tbody>\n",
       "    <tr>\n",
       "      <th>Unnamed: 0</th>\n",
       "      <td>2.283412e+11</td>\n",
       "      <td>3.138648e+11</td>\n",
       "      <td>3.138648e+11</td>\n",
       "      <td>817.561637</td>\n",
       "      <td>-2897.824188</td>\n",
       "      <td>2052.996136</td>\n",
       "      <td>-9611.816949</td>\n",
       "      <td>7140.663274</td>\n",
       "      <td>1.898318e+10</td>\n",
       "      <td>1034.797777</td>\n",
       "      <td>...</td>\n",
       "      <td>0.0</td>\n",
       "      <td>-131627.424256</td>\n",
       "      <td>-148685.721531</td>\n",
       "      <td>-156044.805391</td>\n",
       "      <td>0.0</td>\n",
       "      <td>5692.531845</td>\n",
       "      <td>-70470.936634</td>\n",
       "      <td>19864.516151</td>\n",
       "      <td>-85783.468261</td>\n",
       "      <td>19289.210014</td>\n",
       "    </tr>\n",
       "    <tr>\n",
       "      <th>X.1</th>\n",
       "      <td>3.138648e+11</td>\n",
       "      <td>4.316563e+11</td>\n",
       "      <td>4.316563e+11</td>\n",
       "      <td>818.894477</td>\n",
       "      <td>-4883.034208</td>\n",
       "      <td>2520.671109</td>\n",
       "      <td>-13242.193297</td>\n",
       "      <td>9458.852107</td>\n",
       "      <td>2.597628e+10</td>\n",
       "      <td>1645.014538</td>\n",
       "      <td>...</td>\n",
       "      <td>0.0</td>\n",
       "      <td>-179077.768811</td>\n",
       "      <td>-202401.833875</td>\n",
       "      <td>-212390.607371</td>\n",
       "      <td>0.0</td>\n",
       "      <td>9059.631375</td>\n",
       "      <td>-95762.794601</td>\n",
       "      <td>27393.153899</td>\n",
       "      <td>-116496.008454</td>\n",
       "      <td>26399.151135</td>\n",
       "    </tr>\n",
       "    <tr>\n",
       "      <th>X</th>\n",
       "      <td>3.138648e+11</td>\n",
       "      <td>4.316563e+11</td>\n",
       "      <td>4.316563e+11</td>\n",
       "      <td>818.894477</td>\n",
       "      <td>-4883.034208</td>\n",
       "      <td>2520.671109</td>\n",
       "      <td>-13242.193297</td>\n",
       "      <td>9458.852107</td>\n",
       "      <td>2.597628e+10</td>\n",
       "      <td>1645.014538</td>\n",
       "      <td>...</td>\n",
       "      <td>0.0</td>\n",
       "      <td>-179077.768811</td>\n",
       "      <td>-202401.833875</td>\n",
       "      <td>-212390.607371</td>\n",
       "      <td>0.0</td>\n",
       "      <td>9059.631375</td>\n",
       "      <td>-95762.794601</td>\n",
       "      <td>27393.153899</td>\n",
       "      <td>-116496.008454</td>\n",
       "      <td>26399.151135</td>\n",
       "    </tr>\n",
       "    <tr>\n",
       "      <th>RNO</th>\n",
       "      <td>8.175616e+02</td>\n",
       "      <td>8.188945e+02</td>\n",
       "      <td>8.188945e+02</td>\n",
       "      <td>5.634277</td>\n",
       "      <td>1.101541</td>\n",
       "      <td>1.111952</td>\n",
       "      <td>0.039883</td>\n",
       "      <td>-0.416158</td>\n",
       "      <td>2.037970e+05</td>\n",
       "      <td>0.975747</td>\n",
       "      <td>...</td>\n",
       "      <td>0.0</td>\n",
       "      <td>8.652810</td>\n",
       "      <td>12.851674</td>\n",
       "      <td>15.927332</td>\n",
       "      <td>0.0</td>\n",
       "      <td>0.668364</td>\n",
       "      <td>0.122228</td>\n",
       "      <td>-0.164005</td>\n",
       "      <td>0.538709</td>\n",
       "      <td>-0.355732</td>\n",
       "    </tr>\n",
       "    <tr>\n",
       "      <th>TNO</th>\n",
       "      <td>-2.897824e+03</td>\n",
       "      <td>-4.883034e+03</td>\n",
       "      <td>-4.883034e+03</td>\n",
       "      <td>1.101541</td>\n",
       "      <td>15.610173</td>\n",
       "      <td>2.070127</td>\n",
       "      <td>-0.298244</td>\n",
       "      <td>-4.857797</td>\n",
       "      <td>-1.277052e+05</td>\n",
       "      <td>-0.399477</td>\n",
       "      <td>...</td>\n",
       "      <td>0.0</td>\n",
       "      <td>-3.168012</td>\n",
       "      <td>-3.748377</td>\n",
       "      <td>-4.269560</td>\n",
       "      <td>0.0</td>\n",
       "      <td>28.226607</td>\n",
       "      <td>-1.959058</td>\n",
       "      <td>0.272026</td>\n",
       "      <td>-2.449862</td>\n",
       "      <td>0.629713</td>\n",
       "    </tr>\n",
       "    <tr>\n",
       "      <th>...</th>\n",
       "      <td>...</td>\n",
       "      <td>...</td>\n",
       "      <td>...</td>\n",
       "      <td>...</td>\n",
       "      <td>...</td>\n",
       "      <td>...</td>\n",
       "      <td>...</td>\n",
       "      <td>...</td>\n",
       "      <td>...</td>\n",
       "      <td>...</td>\n",
       "      <td>...</td>\n",
       "      <td>...</td>\n",
       "      <td>...</td>\n",
       "      <td>...</td>\n",
       "      <td>...</td>\n",
       "      <td>...</td>\n",
       "      <td>...</td>\n",
       "      <td>...</td>\n",
       "      <td>...</td>\n",
       "      <td>...</td>\n",
       "      <td>...</td>\n",
       "    </tr>\n",
       "    <tr>\n",
       "      <th>CPRICE</th>\n",
       "      <td>5.692532e+03</td>\n",
       "      <td>9.059631e+03</td>\n",
       "      <td>9.059631e+03</td>\n",
       "      <td>0.668364</td>\n",
       "      <td>28.226607</td>\n",
       "      <td>12.967349</td>\n",
       "      <td>1.365090</td>\n",
       "      <td>-7.702546</td>\n",
       "      <td>1.925647e+05</td>\n",
       "      <td>2.831088</td>\n",
       "      <td>...</td>\n",
       "      <td>0.0</td>\n",
       "      <td>-47.917778</td>\n",
       "      <td>-53.321289</td>\n",
       "      <td>-54.138342</td>\n",
       "      <td>0.0</td>\n",
       "      <td>608.238191</td>\n",
       "      <td>-26.649937</td>\n",
       "      <td>6.586607</td>\n",
       "      <td>-37.507194</td>\n",
       "      <td>11.799083</td>\n",
       "    </tr>\n",
       "    <tr>\n",
       "      <th>JockeyWinP</th>\n",
       "      <td>-7.047094e+04</td>\n",
       "      <td>-9.576279e+04</td>\n",
       "      <td>-9.576279e+04</td>\n",
       "      <td>0.122228</td>\n",
       "      <td>-1.959058</td>\n",
       "      <td>-0.236384</td>\n",
       "      <td>-0.966643</td>\n",
       "      <td>0.748817</td>\n",
       "      <td>-4.704842e+04</td>\n",
       "      <td>-0.802552</td>\n",
       "      <td>...</td>\n",
       "      <td>0.0</td>\n",
       "      <td>3.730219</td>\n",
       "      <td>2.597892</td>\n",
       "      <td>1.385686</td>\n",
       "      <td>0.0</td>\n",
       "      <td>-26.649937</td>\n",
       "      <td>25.296549</td>\n",
       "      <td>-3.492908</td>\n",
       "      <td>6.467713</td>\n",
       "      <td>-2.210796</td>\n",
       "    </tr>\n",
       "    <tr>\n",
       "      <th>JockeyRATE</th>\n",
       "      <td>1.986452e+04</td>\n",
       "      <td>2.739315e+04</td>\n",
       "      <td>2.739315e+04</td>\n",
       "      <td>-0.164005</td>\n",
       "      <td>0.272026</td>\n",
       "      <td>-0.056321</td>\n",
       "      <td>0.208242</td>\n",
       "      <td>-0.115438</td>\n",
       "      <td>-1.329171e+05</td>\n",
       "      <td>0.225321</td>\n",
       "      <td>...</td>\n",
       "      <td>0.0</td>\n",
       "      <td>-2.054270</td>\n",
       "      <td>-1.624156</td>\n",
       "      <td>-1.224737</td>\n",
       "      <td>0.0</td>\n",
       "      <td>6.586607</td>\n",
       "      <td>-3.492908</td>\n",
       "      <td>2.274394</td>\n",
       "      <td>-1.780462</td>\n",
       "      <td>1.097306</td>\n",
       "    </tr>\n",
       "    <tr>\n",
       "      <th>TrainerWinP</th>\n",
       "      <td>-8.578347e+04</td>\n",
       "      <td>-1.164960e+05</td>\n",
       "      <td>-1.164960e+05</td>\n",
       "      <td>0.538709</td>\n",
       "      <td>-2.449862</td>\n",
       "      <td>-0.449641</td>\n",
       "      <td>-0.250507</td>\n",
       "      <td>0.672396</td>\n",
       "      <td>-2.249008e+04</td>\n",
       "      <td>-1.296603</td>\n",
       "      <td>...</td>\n",
       "      <td>0.0</td>\n",
       "      <td>4.902190</td>\n",
       "      <td>3.217505</td>\n",
       "      <td>1.514970</td>\n",
       "      <td>0.0</td>\n",
       "      <td>-37.507194</td>\n",
       "      <td>6.467713</td>\n",
       "      <td>-1.780462</td>\n",
       "      <td>29.934982</td>\n",
       "      <td>-7.027683</td>\n",
       "    </tr>\n",
       "    <tr>\n",
       "      <th>TrainerRATE</th>\n",
       "      <td>1.928921e+04</td>\n",
       "      <td>2.639915e+04</td>\n",
       "      <td>2.639915e+04</td>\n",
       "      <td>-0.355732</td>\n",
       "      <td>0.629713</td>\n",
       "      <td>0.074696</td>\n",
       "      <td>0.155617</td>\n",
       "      <td>-0.192694</td>\n",
       "      <td>-2.172081e+05</td>\n",
       "      <td>0.410612</td>\n",
       "      <td>...</td>\n",
       "      <td>0.0</td>\n",
       "      <td>-3.326836</td>\n",
       "      <td>-2.856325</td>\n",
       "      <td>-2.372181</td>\n",
       "      <td>0.0</td>\n",
       "      <td>11.799083</td>\n",
       "      <td>-2.210796</td>\n",
       "      <td>1.097306</td>\n",
       "      <td>-7.027683</td>\n",
       "      <td>3.308556</td>\n",
       "    </tr>\n",
       "  </tbody>\n",
       "</table>\n",
       "<p>68 rows × 68 columns</p>\n",
       "</div>"
      ],
      "text/plain": [
       "               Unnamed: 0           X.1             X         RNO  \\\n",
       "Unnamed: 0   2.283412e+11  3.138648e+11  3.138648e+11  817.561637   \n",
       "X.1          3.138648e+11  4.316563e+11  4.316563e+11  818.894477   \n",
       "X            3.138648e+11  4.316563e+11  4.316563e+11  818.894477   \n",
       "RNO          8.175616e+02  8.188945e+02  8.188945e+02    5.634277   \n",
       "TNO         -2.897824e+03 -4.883034e+03 -4.883034e+03    1.101541   \n",
       "...                   ...           ...           ...         ...   \n",
       "CPRICE       5.692532e+03  9.059631e+03  9.059631e+03    0.668364   \n",
       "JockeyWinP  -7.047094e+04 -9.576279e+04 -9.576279e+04    0.122228   \n",
       "JockeyRATE   1.986452e+04  2.739315e+04  2.739315e+04   -0.164005   \n",
       "TrainerWinP -8.578347e+04 -1.164960e+05 -1.164960e+05    0.538709   \n",
       "TrainerRATE  1.928921e+04  2.639915e+04  2.639915e+04   -0.355732   \n",
       "\n",
       "                     TNO           BP           ALL          WGT  \\\n",
       "Unnamed: 0  -2897.824188  2052.996136  -9611.816949  7140.663274   \n",
       "X.1         -4883.034208  2520.671109 -13242.193297  9458.852107   \n",
       "X           -4883.034208  2520.671109 -13242.193297  9458.852107   \n",
       "RNO             1.101541     1.111952      0.039883    -0.416158   \n",
       "TNO            15.610173     2.070127     -0.298244    -4.857797   \n",
       "...                  ...          ...           ...          ...   \n",
       "CPRICE         28.226607    12.967349      1.365090    -7.702546   \n",
       "JockeyWinP     -1.959058    -0.236384     -0.966643     0.748817   \n",
       "JockeyRATE      0.272026    -0.056321      0.208242    -0.115438   \n",
       "TrainerWinP    -2.449862    -0.449641     -0.250507     0.672396   \n",
       "TrainerRATE     0.629713     0.074696      0.155617    -0.192694   \n",
       "\n",
       "                   STAKES          AGE  ...  JRT            RS1  \\\n",
       "Unnamed: 0   1.898318e+10  1034.797777  ...  0.0 -131627.424256   \n",
       "X.1          2.597628e+10  1645.014538  ...  0.0 -179077.768811   \n",
       "X            2.597628e+10  1645.014538  ...  0.0 -179077.768811   \n",
       "RNO          2.037970e+05     0.975747  ...  0.0       8.652810   \n",
       "TNO         -1.277052e+05    -0.399477  ...  0.0      -3.168012   \n",
       "...                   ...          ...  ...  ...            ...   \n",
       "CPRICE       1.925647e+05     2.831088  ...  0.0     -47.917778   \n",
       "JockeyWinP  -4.704842e+04    -0.802552  ...  0.0       3.730219   \n",
       "JockeyRATE  -1.329171e+05     0.225321  ...  0.0      -2.054270   \n",
       "TrainerWinP -2.249008e+04    -1.296603  ...  0.0       4.902190   \n",
       "TrainerRATE -2.172081e+05     0.410612  ...  0.0      -3.326836   \n",
       "\n",
       "                       RS2            RS3  BPRICE       CPRICE    JockeyWinP  \\\n",
       "Unnamed: 0  -148685.721531 -156044.805391     0.0  5692.531845 -70470.936634   \n",
       "X.1         -202401.833875 -212390.607371     0.0  9059.631375 -95762.794601   \n",
       "X           -202401.833875 -212390.607371     0.0  9059.631375 -95762.794601   \n",
       "RNO              12.851674      15.927332     0.0     0.668364      0.122228   \n",
       "TNO              -3.748377      -4.269560     0.0    28.226607     -1.959058   \n",
       "...                    ...            ...     ...          ...           ...   \n",
       "CPRICE          -53.321289     -54.138342     0.0   608.238191    -26.649937   \n",
       "JockeyWinP        2.597892       1.385686     0.0   -26.649937     25.296549   \n",
       "JockeyRATE       -1.624156      -1.224737     0.0     6.586607     -3.492908   \n",
       "TrainerWinP       3.217505       1.514970     0.0   -37.507194      6.467713   \n",
       "TrainerRATE      -2.856325      -2.372181     0.0    11.799083     -2.210796   \n",
       "\n",
       "               JockeyRATE    TrainerWinP   TrainerRATE  \n",
       "Unnamed: 0   19864.516151  -85783.468261  19289.210014  \n",
       "X.1          27393.153899 -116496.008454  26399.151135  \n",
       "X            27393.153899 -116496.008454  26399.151135  \n",
       "RNO             -0.164005       0.538709     -0.355732  \n",
       "TNO              0.272026      -2.449862      0.629713  \n",
       "...                   ...            ...           ...  \n",
       "CPRICE           6.586607     -37.507194     11.799083  \n",
       "JockeyWinP      -3.492908       6.467713     -2.210796  \n",
       "JockeyRATE       2.274394      -1.780462      1.097306  \n",
       "TrainerWinP     -1.780462      29.934982     -7.027683  \n",
       "TrainerRATE      1.097306      -7.027683      3.308556  \n",
       "\n",
       "[68 rows x 68 columns]"
      ]
     },
     "execution_count": 430,
     "metadata": {},
     "output_type": "execute_result"
    }
   ],
   "source": [
    "horse_data.cov()"
   ]
  },
  {
   "cell_type": "code",
   "execution_count": 431,
   "metadata": {},
   "outputs": [
    {
     "data": {
      "text/plain": [
       "array(['N', '+', 'y', 'Y', nan], dtype=object)"
      ]
     },
     "execution_count": 431,
     "metadata": {},
     "output_type": "execute_result"
    }
   ],
   "source": [
    "horse_data['DOK'].unique()"
   ]
  },
  {
   "cell_type": "code",
   "execution_count": 432,
   "metadata": {},
   "outputs": [
    {
     "data": {
      "text/plain": [
       "array([nan, 'N', 'Y'], dtype=object)"
      ]
     },
     "execution_count": 432,
     "metadata": {},
     "output_type": "execute_result"
    }
   ],
   "source": [
    "horse_data['FOK'].unique()"
   ]
  },
  {
   "cell_type": "code",
   "execution_count": 433,
   "metadata": {},
   "outputs": [
    {
     "data": {
      "text/plain": [
       "array([999,  16,  14,   7,   6,  12,   0,  -4,   9,  21,  20, -19,  10,\n",
       "        17,  13,  19, -17, -14, -15,  18,  15,  34, -23,  24, -26, -10,\n",
       "        33, -40,  11,  23, -12,   8, -18, -11,  -6,  -5, -32, -67,  -8,\n",
       "       -22, -34, -39,  27,  28, -16, -13, -21, -60, -20,  22,  29, -24,\n",
       "       -41, -35,  -7,  38, -46,  46, -28,  31, -25, -29,  -2, -30,  30,\n",
       "       -57, -56, -99, -38, -65,  25, -33, -45, -70, -36, -31,  -9, -42,\n",
       "       -27,  -3, -49, -52,  36, -58, -59,  26, -53, -68,  44, -77, -74,\n",
       "        35,  37, -44,  41,   3, -47, -54, -48,  42, -55,  47,  40, -37,\n",
       "        32,  45, -75, -85, -64, -63, -62, -43, -76, -51, -71, -98,  39,\n",
       "        43, -69,  -1, -73, -80, -50, -72, -83, -61, -78, -91, -66,   5,\n",
       "       -89, -90,   4, -79, -86], dtype=int64)"
      ]
     },
     "execution_count": 433,
     "metadata": {},
     "output_type": "execute_result"
    }
   ],
   "source": [
    "horse_data['FNO'].unique()"
   ]
  },
  {
   "cell_type": "code",
   "execution_count": 434,
   "metadata": {},
   "outputs": [
    {
     "data": {
      "text/plain": [
       "array([999,  37,  21,  35,  28,  27,  39,  33,  54,  11,  36,  30,  32,\n",
       "        25,  42,  41,  26,  31,  38,  34,  23,  40,  24,  44,  50,  55,\n",
       "        45,  47,  57,  43,  22,  48,  56,  19,  29,  15,  60,  18,  17,\n",
       "        65,  84,  46,  51,  49,  77,  63,  72,  80,  20,  66,  53,  67,\n",
       "        61,  14,  92,  59,  58,  76,  70,  62,  64,  69,  52,   9,  89,\n",
       "        82,  74,  12,  68,  16,  94,  10,  13,  71,  75,  86,  97,  79,\n",
       "       119,  78,  93,  90,  88, 100, 107,  87,  98,  73,  85,  81,  83,\n",
       "        99,   8, 101,  91,  96, 105, 103, 124, 123,  95, 106, 109, 112,\n",
       "       104, 102, 110, 127, 120, 122, 117, 129, 115, 108, 130, 168, 140],\n",
       "      dtype=int64)"
      ]
     },
     "execution_count": 434,
     "metadata": {},
     "output_type": "execute_result"
    }
   ],
   "source": [
    "horse_data['FRT'].unique()"
   ]
  },
  {
   "cell_type": "code",
   "execution_count": 435,
   "metadata": {},
   "outputs": [
    {
     "data": {
      "text/plain": [
       "array(['?', nan, 'Y', '!', '-', '+'], dtype=object)"
      ]
     },
     "execution_count": 435,
     "metadata": {},
     "output_type": "execute_result"
    }
   ],
   "source": [
    "horse_data['WNF'].unique()"
   ]
  },
  {
   "cell_type": "code",
   "execution_count": 436,
   "metadata": {},
   "outputs": [
    {
     "data": {
      "text/plain": [
       "Y    82773\n",
       "?    81080\n",
       "!    12950\n",
       "+     4673\n",
       "-      796\n",
       "Name: WNF, dtype: int64"
      ]
     },
     "execution_count": 436,
     "metadata": {},
     "output_type": "execute_result"
    }
   ],
   "source": [
    "horse_data['WNF'].value_counts()"
   ]
  },
  {
   "cell_type": "code",
   "execution_count": 437,
   "metadata": {},
   "outputs": [
    {
     "data": {
      "text/plain": [
       "0     172727\n",
       "3       2404\n",
       "2       2388\n",
       "1       2387\n",
       "4       2379\n",
       "5       2375\n",
       "6       2287\n",
       "7       2103\n",
       "8       1830\n",
       "9       1486\n",
       "10      1130\n",
       "11       848\n",
       "12       567\n",
       "13       276\n",
       "14       180\n",
       "15        62\n",
       "16        39\n",
       "17        11\n",
       "18         7\n",
       "19         2\n",
       "20         2\n",
       "22         1\n",
       "21         1\n",
       "23         1\n",
       "Name: TW, dtype: int64"
      ]
     },
     "execution_count": 437,
     "metadata": {},
     "output_type": "execute_result"
    }
   ],
   "source": [
    "past_perf['TW'].value_counts()"
   ]
  },
  {
   "cell_type": "code",
   "execution_count": 438,
   "metadata": {},
   "outputs": [
    {
     "data": {
      "text/plain": [
       "Y       127360\n",
       "Y  n      3846\n",
       "Y nn      3020\n",
       "Y  y      1652\n",
       "Ynnn      1185\n",
       "Y y        972\n",
       "YNNN       953\n",
       "y          719\n",
       "Y  N       472\n",
       "Y NN       240\n",
       "Y yy       134\n",
       "Y  Y        77\n",
       "Y Y         38\n",
       "yy          16\n",
       "Y Yy        14\n",
       "n           10\n",
       "Y yn         8\n",
       "N            1\n",
       "nn           1\n",
       "nnn          1\n",
       "Name: WET, dtype: int64"
      ]
     },
     "execution_count": 438,
     "metadata": {},
     "output_type": "execute_result"
    }
   ],
   "source": [
    "horse_data['WET'].value_counts()"
   ]
  },
  {
   "cell_type": "code",
   "execution_count": 439,
   "metadata": {},
   "outputs": [],
   "source": [
    "horse_data_new=horse_data.drop(['Unnamed: 0','X.1','X','RNO','TNO','E','FORM','HORSE','BP','STAKES','COL','TRAINER','STABLES',\n",
    "'STARTS','RUNS','DDIST','DWGT','OWNER','SILKS','DISTWINS','PRICE','LBD','SCR','DOK','FOK','IMP','LEN','FNO','FRT','WNF','WET','DS1','DS2','DS3','RS1','RS2','RS3','BPRICE','CPRICE',\n",
    "'TS1','TS2','TS3','COMMENT','FNAME','FDATE','VCODE','MTYPE'],axis=1)"
   ]
  },
  {
   "cell_type": "code",
   "execution_count": 440,
   "metadata": {},
   "outputs": [
    {
     "data": {
      "text/plain": [
       "(205661, 53)"
      ]
     },
     "execution_count": 440,
     "metadata": {},
     "output_type": "execute_result"
    }
   ],
   "source": [
    "horse_data_new.shape"
   ]
  },
  {
   "cell_type": "markdown",
   "metadata": {},
   "source": [
    "# Applying PCA to few of the columns of horse data"
   ]
  },
  {
   "cell_type": "code",
   "execution_count": 441,
   "metadata": {},
   "outputs": [],
   "source": [
    "pca_data=horse_data_new[['TDS','TDW','TD2','TD3','TCS','TCW','TC2','TC3','FS','FW','F2','F3','GS','GW','G2','G3','DS','DW','D2','D3','SS','SW','S2','S3','HS','HW','H2','H3','FUS','FUW','FU2','FU3']]"
   ]
  },
  {
   "cell_type": "code",
   "execution_count": 442,
   "metadata": {},
   "outputs": [
    {
     "data": {
      "text/plain": [
       "(205661, 32)"
      ]
     },
     "execution_count": 442,
     "metadata": {},
     "output_type": "execute_result"
    }
   ],
   "source": [
    "pca_data.shape"
   ]
  },
  {
   "cell_type": "code",
   "execution_count": 443,
   "metadata": {},
   "outputs": [
    {
     "data": {
      "text/plain": [
       "TDS    0\n",
       "TDW    0\n",
       "TD2    0\n",
       "TD3    0\n",
       "TCS    0\n",
       "TCW    0\n",
       "TC2    0\n",
       "TC3    0\n",
       "FS     0\n",
       "FW     0\n",
       "F2     0\n",
       "F3     0\n",
       "GS     0\n",
       "GW     0\n",
       "G2     0\n",
       "G3     0\n",
       "DS     0\n",
       "DW     0\n",
       "D2     0\n",
       "D3     0\n",
       "SS     0\n",
       "SW     0\n",
       "S2     0\n",
       "S3     0\n",
       "HS     0\n",
       "HW     0\n",
       "H2     0\n",
       "H3     0\n",
       "FUS    0\n",
       "FUW    0\n",
       "FU2    0\n",
       "FU3    0\n",
       "dtype: int64"
      ]
     },
     "execution_count": 443,
     "metadata": {},
     "output_type": "execute_result"
    }
   ],
   "source": [
    "pca_data.isnull().sum()"
   ]
  },
  {
   "cell_type": "code",
   "execution_count": 444,
   "metadata": {},
   "outputs": [],
   "source": [
    "from sklearn.decomposition import PCA"
   ]
  },
  {
   "cell_type": "code",
   "execution_count": 445,
   "metadata": {},
   "outputs": [],
   "source": [
    "from sklearn.preprocessing import StandardScaler"
   ]
  },
  {
   "cell_type": "code",
   "execution_count": 446,
   "metadata": {},
   "outputs": [],
   "source": [
    "ss=StandardScaler()"
   ]
  },
  {
   "cell_type": "code",
   "execution_count": 447,
   "metadata": {},
   "outputs": [
    {
     "data": {
      "text/plain": [
       "array([[-0.6715158 , -0.49803364, -0.48632783, ..., -0.54786782,\n",
       "        -0.55175195, -0.54645514],\n",
       "       [-0.27068278, -0.49803364, -0.48632783, ..., -0.54786782,\n",
       "        -0.55175195, -0.54645514],\n",
       "       [-0.27068278, -0.49803364, -0.48632783, ..., -0.54786782,\n",
       "         1.13056347, -0.54645514],\n",
       "       ...,\n",
       "       [ 0.13015023, -0.49803364, -0.48632783, ..., -0.54786782,\n",
       "         1.13056347,  1.18632278],\n",
       "       [ 0.73139975,  0.47697014,  0.58696052, ...,  1.05192551,\n",
       "        -0.55175195,  1.18632278],\n",
       "       [ 0.53098325, -0.49803364, -0.48632783, ..., -0.54786782,\n",
       "        -0.55175195,  1.18632278]])"
      ]
     },
     "execution_count": 447,
     "metadata": {},
     "output_type": "execute_result"
    }
   ],
   "source": [
    "ss.fit_transform(pca_data)"
   ]
  },
  {
   "cell_type": "code",
   "execution_count": 448,
   "metadata": {},
   "outputs": [],
   "source": [
    "pca=PCA(n_components=4,random_state=0)"
   ]
  },
  {
   "cell_type": "code",
   "execution_count": 449,
   "metadata": {},
   "outputs": [],
   "source": [
    "pcadata=pca.fit_transform(pca_data)"
   ]
  },
  {
   "cell_type": "code",
   "execution_count": 450,
   "metadata": {},
   "outputs": [
    {
     "data": {
      "text/plain": [
       "array([0.65646084, 0.11535896, 0.07970815, 0.05741402])"
      ]
     },
     "execution_count": 450,
     "metadata": {},
     "output_type": "execute_result"
    }
   ],
   "source": [
    "pca.explained_variance_ratio_"
   ]
  },
  {
   "cell_type": "code",
   "execution_count": 451,
   "metadata": {},
   "outputs": [
    {
     "data": {
      "text/plain": [
       "0.6564608391722861"
      ]
     },
     "execution_count": 451,
     "metadata": {},
     "output_type": "execute_result"
    }
   ],
   "source": [
    "pca.explained_variance_ratio_[0]"
   ]
  },
  {
   "cell_type": "code",
   "execution_count": 452,
   "metadata": {
    "scrolled": false
   },
   "outputs": [
    {
     "data": {
      "text/plain": [
       "array([[ 2.94830394e-01,  4.26594377e-02,  3.87642547e-02,\n",
       "         3.51685375e-02,  3.15187791e-01,  4.04069372e-02,\n",
       "         3.97560777e-02,  3.70716471e-02,  4.32259374e-03,\n",
       "         7.90620077e-04,  8.87293601e-04,  5.40801021e-04,\n",
       "         8.34396454e-01,  1.04451678e-01,  1.03574733e-01,\n",
       "         9.79452918e-02,  2.19192441e-01,  2.58254780e-02,\n",
       "         2.68177872e-02,  2.51961743e-02,  8.85585830e-02,\n",
       "         1.11981779e-02,  1.19776460e-02,  1.00935611e-02,\n",
       "         6.15366365e-02,  8.48422037e-03,  8.01876361e-03,\n",
       "         7.63764468e-03,  1.19773380e-01,  1.31861915e-02,\n",
       "         1.28786462e-02,  1.30134273e-02],\n",
       "       [ 2.57153161e-01,  3.93134247e-02,  3.67449214e-02,\n",
       "         3.40407397e-02, -2.70997253e-01, -3.18591471e-02,\n",
       "        -3.15566127e-02, -2.86877118e-02,  1.90714960e-03,\n",
       "        -5.06702717e-05,  1.25182308e-04,  3.83070932e-04,\n",
       "        -2.54552334e-01, -4.13649938e-02, -3.35699235e-02,\n",
       "        -2.84847868e-02,  7.26995424e-01,  8.88693431e-02,\n",
       "         8.75114531e-02,  8.57418024e-02,  3.05978193e-01,\n",
       "         3.93773184e-02,  4.06463672e-02,  3.64678852e-02,\n",
       "         3.35873111e-01,  5.02911939e-02,  4.63786503e-02,\n",
       "         4.16582108e-02,  1.25668413e-01,  1.17643285e-02,\n",
       "         1.22720413e-02,  1.41837022e-02],\n",
       "       [ 5.04704611e-01,  7.98334719e-02,  6.80240967e-02,\n",
       "         6.03072205e-02,  7.07619212e-01,  9.65498568e-02,\n",
       "         9.35662888e-02,  8.33218828e-02, -3.21594350e-03,\n",
       "        -6.91952034e-04, -9.78952929e-04, -5.12717656e-04,\n",
       "        -4.18793065e-01, -5.53223759e-02, -6.10344235e-02,\n",
       "        -5.87135825e-02, -9.59295984e-02, -8.15707935e-03,\n",
       "        -7.57113180e-03, -8.16778307e-03,  1.12486838e-02,\n",
       "         5.48324998e-03,  4.73297575e-03,  1.16744288e-03,\n",
       "         7.21421111e-02,  1.61169902e-02,  1.16449769e-02,\n",
       "         1.10117657e-02, -6.23900310e-02, -1.15560959e-03,\n",
       "        -4.06291782e-03, -7.34916887e-03],\n",
       "       [-7.22058388e-01, -1.20857471e-01, -9.81914610e-02,\n",
       "        -8.54065769e-02,  5.27736169e-01,  6.88501442e-02,\n",
       "         7.14812919e-02,  6.82263463e-02, -3.25852086e-03,\n",
       "        -8.54793370e-04, -7.03708952e-04, -7.30443863e-04,\n",
       "        -5.39306051e-02, -2.56594689e-02, -1.13469689e-02,\n",
       "        -5.56723018e-03,  3.61826865e-01,  3.70823002e-02,\n",
       "         4.19253634e-02,  4.21004221e-02,  7.94716791e-02,\n",
       "         8.07253672e-03,  9.53856677e-03,  9.40130593e-03,\n",
       "         7.56131897e-02,  7.86974994e-03,  1.16543160e-02,\n",
       "         8.22091090e-03,  4.34277997e-02, -8.62471226e-03,\n",
       "        -1.45952173e-03,  3.25971140e-03]])"
      ]
     },
     "execution_count": 452,
     "metadata": {},
     "output_type": "execute_result"
    }
   ],
   "source": [
    "pca.components_"
   ]
  },
  {
   "cell_type": "code",
   "execution_count": 453,
   "metadata": {},
   "outputs": [],
   "source": [
    "principal_Df = pd.DataFrame(data = pcadata\n",
    "             , columns = ['PC1', 'PC2','PC3', 'PC4'])\n"
   ]
  },
  {
   "cell_type": "code",
   "execution_count": 454,
   "metadata": {
    "scrolled": false
   },
   "outputs": [
    {
     "data": {
      "text/html": [
       "<div>\n",
       "<style scoped>\n",
       "    .dataframe tbody tr th:only-of-type {\n",
       "        vertical-align: middle;\n",
       "    }\n",
       "\n",
       "    .dataframe tbody tr th {\n",
       "        vertical-align: top;\n",
       "    }\n",
       "\n",
       "    .dataframe thead th {\n",
       "        text-align: right;\n",
       "    }\n",
       "</style>\n",
       "<table border=\"1\" class=\"dataframe\">\n",
       "  <thead>\n",
       "    <tr style=\"text-align: right;\">\n",
       "      <th></th>\n",
       "      <th>PC1</th>\n",
       "      <th>PC2</th>\n",
       "      <th>PC3</th>\n",
       "      <th>PC4</th>\n",
       "    </tr>\n",
       "  </thead>\n",
       "  <tbody>\n",
       "    <tr>\n",
       "      <th>0</th>\n",
       "      <td>-11.218410</td>\n",
       "      <td>-2.333579</td>\n",
       "      <td>0.258264</td>\n",
       "      <td>-0.559495</td>\n",
       "    </tr>\n",
       "    <tr>\n",
       "      <th>1</th>\n",
       "      <td>-8.620991</td>\n",
       "      <td>-1.475714</td>\n",
       "      <td>0.271767</td>\n",
       "      <td>-1.706218</td>\n",
       "    </tr>\n",
       "    <tr>\n",
       "      <th>2</th>\n",
       "      <td>-6.088342</td>\n",
       "      <td>4.813503</td>\n",
       "      <td>0.080796</td>\n",
       "      <td>1.955601</td>\n",
       "    </tr>\n",
       "    <tr>\n",
       "      <th>3</th>\n",
       "      <td>-11.037100</td>\n",
       "      <td>-1.872038</td>\n",
       "      <td>0.268016</td>\n",
       "      <td>-0.440454</td>\n",
       "    </tr>\n",
       "    <tr>\n",
       "      <th>4</th>\n",
       "      <td>4.046678</td>\n",
       "      <td>-2.314556</td>\n",
       "      <td>-0.245887</td>\n",
       "      <td>0.064311</td>\n",
       "    </tr>\n",
       "    <tr>\n",
       "      <th>...</th>\n",
       "      <td>...</td>\n",
       "      <td>...</td>\n",
       "      <td>...</td>\n",
       "      <td>...</td>\n",
       "    </tr>\n",
       "    <tr>\n",
       "      <th>205656</th>\n",
       "      <td>7.587444</td>\n",
       "      <td>-4.892374</td>\n",
       "      <td>-7.796779</td>\n",
       "      <td>-2.269832</td>\n",
       "    </tr>\n",
       "    <tr>\n",
       "      <th>205657</th>\n",
       "      <td>9.813626</td>\n",
       "      <td>3.510251</td>\n",
       "      <td>-7.897266</td>\n",
       "      <td>0.576532</td>\n",
       "    </tr>\n",
       "    <tr>\n",
       "      <th>205658</th>\n",
       "      <td>12.348955</td>\n",
       "      <td>-3.580273</td>\n",
       "      <td>-8.787160</td>\n",
       "      <td>-3.142133</td>\n",
       "    </tr>\n",
       "    <tr>\n",
       "      <th>205659</th>\n",
       "      <td>17.322362</td>\n",
       "      <td>-5.849772</td>\n",
       "      <td>-9.223790</td>\n",
       "      <td>-6.647438</td>\n",
       "    </tr>\n",
       "    <tr>\n",
       "      <th>205660</th>\n",
       "      <td>13.135783</td>\n",
       "      <td>-5.915251</td>\n",
       "      <td>-6.122994</td>\n",
       "      <td>-4.558513</td>\n",
       "    </tr>\n",
       "  </tbody>\n",
       "</table>\n",
       "<p>205661 rows × 4 columns</p>\n",
       "</div>"
      ],
      "text/plain": [
       "              PC1       PC2       PC3       PC4\n",
       "0      -11.218410 -2.333579  0.258264 -0.559495\n",
       "1       -8.620991 -1.475714  0.271767 -1.706218\n",
       "2       -6.088342  4.813503  0.080796  1.955601\n",
       "3      -11.037100 -1.872038  0.268016 -0.440454\n",
       "4        4.046678 -2.314556 -0.245887  0.064311\n",
       "...           ...       ...       ...       ...\n",
       "205656   7.587444 -4.892374 -7.796779 -2.269832\n",
       "205657   9.813626  3.510251 -7.897266  0.576532\n",
       "205658  12.348955 -3.580273 -8.787160 -3.142133\n",
       "205659  17.322362 -5.849772 -9.223790 -6.647438\n",
       "205660  13.135783 -5.915251 -6.122994 -4.558513\n",
       "\n",
       "[205661 rows x 4 columns]"
      ]
     },
     "execution_count": 454,
     "metadata": {},
     "output_type": "execute_result"
    }
   ],
   "source": [
    "principal_Df"
   ]
  },
  {
   "cell_type": "code",
   "execution_count": 455,
   "metadata": {},
   "outputs": [],
   "source": [
    "horse_data_new.drop(['TDS','TDW','TD2','TD3','TCS',\n",
    "                      'TCW','TC2','TC3','FS','FW','F2','F3','GS','GW','G2','G3','DS','DW','D2','D3','SS','SW','S2','S3'\n",
    "                      ,'HS','HW','H2','H3','FUS','FUW','FU2','FU3',],axis=1,inplace=True)"
   ]
  },
  {
   "cell_type": "code",
   "execution_count": 456,
   "metadata": {},
   "outputs": [
    {
     "data": {
      "text/plain": [
       "(205661, 21)"
      ]
     },
     "execution_count": 456,
     "metadata": {},
     "output_type": "execute_result"
    }
   ],
   "source": [
    "horse_data_new.shape"
   ]
  },
  {
   "cell_type": "code",
   "execution_count": 457,
   "metadata": {},
   "outputs": [
    {
     "name": "stdout",
     "output_type": "stream",
     "text": [
      "<class 'pandas.core.frame.DataFrame'>\n",
      "RangeIndex: 205661 entries, 0 to 205660\n",
      "Data columns (total 21 columns):\n",
      " #   Column       Non-Null Count   Dtype  \n",
      "---  ------       --------------   -----  \n",
      " 0   CTY          45451 non-null   object \n",
      " 1   JOCKEY       205605 non-null  object \n",
      " 2   ALL          205661 non-null  float64\n",
      " 3   WGT          205661 non-null  float64\n",
      " 4   AGE          205661 non-null  int64  \n",
      " 5   SEX          205661 non-null  object \n",
      " 6   WINS         205661 non-null  int64  \n",
      " 7   PL2          205661 non-null  int64  \n",
      " 8   PL3          205661 non-null  int64  \n",
      " 9   DAYS         205661 non-null  int64  \n",
      " 10  BREEDING     205661 non-null  object \n",
      " 11  TBASE        205661 non-null  float64\n",
      " 12  XPEAK        205661 non-null  float64\n",
      " 13  POS          205661 non-null  int64  \n",
      " 14  JRT          205661 non-null  int64  \n",
      " 15  RACEID       205661 non-null  object \n",
      " 16  HORSEID      205661 non-null  object \n",
      " 17  JockeyWinP   205661 non-null  float64\n",
      " 18  JockeyRATE   205661 non-null  float64\n",
      " 19  TrainerWinP  205661 non-null  float64\n",
      " 20  TrainerRATE  205661 non-null  float64\n",
      "dtypes: float64(8), int64(7), object(6)\n",
      "memory usage: 33.0+ MB\n"
     ]
    }
   ],
   "source": [
    "horse_data_new.info()"
   ]
  },
  {
   "cell_type": "code",
   "execution_count": 458,
   "metadata": {},
   "outputs": [
    {
     "data": {
      "text/html": [
       "<div>\n",
       "<style scoped>\n",
       "    .dataframe tbody tr th:only-of-type {\n",
       "        vertical-align: middle;\n",
       "    }\n",
       "\n",
       "    .dataframe tbody tr th {\n",
       "        vertical-align: top;\n",
       "    }\n",
       "\n",
       "    .dataframe thead th {\n",
       "        text-align: right;\n",
       "    }\n",
       "</style>\n",
       "<table border=\"1\" class=\"dataframe\">\n",
       "  <thead>\n",
       "    <tr style=\"text-align: right;\">\n",
       "      <th></th>\n",
       "      <th>CTY</th>\n",
       "      <th>JOCKEY</th>\n",
       "      <th>ALL</th>\n",
       "      <th>WGT</th>\n",
       "      <th>AGE</th>\n",
       "      <th>SEX</th>\n",
       "      <th>WINS</th>\n",
       "      <th>PL2</th>\n",
       "      <th>PL3</th>\n",
       "      <th>DAYS</th>\n",
       "      <th>...</th>\n",
       "      <th>TBASE</th>\n",
       "      <th>XPEAK</th>\n",
       "      <th>POS</th>\n",
       "      <th>JRT</th>\n",
       "      <th>RACEID</th>\n",
       "      <th>HORSEID</th>\n",
       "      <th>JockeyWinP</th>\n",
       "      <th>JockeyRATE</th>\n",
       "      <th>TrainerWinP</th>\n",
       "      <th>TrainerRATE</th>\n",
       "    </tr>\n",
       "  </thead>\n",
       "  <tbody>\n",
       "    <tr>\n",
       "      <th>0</th>\n",
       "      <td>NaN</td>\n",
       "      <td>K JENNINGS</td>\n",
       "      <td>2.0</td>\n",
       "      <td>57.0</td>\n",
       "      <td>4</td>\n",
       "      <td>m</td>\n",
       "      <td>0</td>\n",
       "      <td>0</td>\n",
       "      <td>0</td>\n",
       "      <td>999</td>\n",
       "      <td>...</td>\n",
       "      <td>0.0</td>\n",
       "      <td>0.0</td>\n",
       "      <td>9</td>\n",
       "      <td>5</td>\n",
       "      <td>2013-08-02ACT1</td>\n",
       "      <td>2013-08-02Argentine Queen1</td>\n",
       "      <td>12.3</td>\n",
       "      <td>3.7</td>\n",
       "      <td>3.8</td>\n",
       "      <td>7.5</td>\n",
       "    </tr>\n",
       "    <tr>\n",
       "      <th>1</th>\n",
       "      <td>NaN</td>\n",
       "      <td>W COSTIN</td>\n",
       "      <td>2.0</td>\n",
       "      <td>57.0</td>\n",
       "      <td>4</td>\n",
       "      <td>m</td>\n",
       "      <td>0</td>\n",
       "      <td>0</td>\n",
       "      <td>0</td>\n",
       "      <td>124</td>\n",
       "      <td>...</td>\n",
       "      <td>51.2</td>\n",
       "      <td>51.4</td>\n",
       "      <td>4</td>\n",
       "      <td>5</td>\n",
       "      <td>2013-08-02ACT1</td>\n",
       "      <td>2013-08-02Capable Gal1</td>\n",
       "      <td>6.2</td>\n",
       "      <td>4.6</td>\n",
       "      <td>11.6</td>\n",
       "      <td>4.1</td>\n",
       "    </tr>\n",
       "    <tr>\n",
       "      <th>2</th>\n",
       "      <td>NaN</td>\n",
       "      <td>B CLARK</td>\n",
       "      <td>0.0</td>\n",
       "      <td>57.0</td>\n",
       "      <td>4</td>\n",
       "      <td>m</td>\n",
       "      <td>0</td>\n",
       "      <td>1</td>\n",
       "      <td>2</td>\n",
       "      <td>14</td>\n",
       "      <td>...</td>\n",
       "      <td>45.6</td>\n",
       "      <td>51.8</td>\n",
       "      <td>2</td>\n",
       "      <td>5</td>\n",
       "      <td>2013-08-02ACT1</td>\n",
       "      <td>2013-08-02Diamond Player1</td>\n",
       "      <td>6.3</td>\n",
       "      <td>5.4</td>\n",
       "      <td>10.8</td>\n",
       "      <td>4.2</td>\n",
       "    </tr>\n",
       "    <tr>\n",
       "      <th>3</th>\n",
       "      <td>NaN</td>\n",
       "      <td>S GUYMER</td>\n",
       "      <td>0.0</td>\n",
       "      <td>57.0</td>\n",
       "      <td>5</td>\n",
       "      <td>m</td>\n",
       "      <td>0</td>\n",
       "      <td>0</td>\n",
       "      <td>0</td>\n",
       "      <td>17</td>\n",
       "      <td>...</td>\n",
       "      <td>33.5</td>\n",
       "      <td>33.6</td>\n",
       "      <td>8</td>\n",
       "      <td>5</td>\n",
       "      <td>2013-08-02ACT1</td>\n",
       "      <td>2013-08-02Me Oh My1</td>\n",
       "      <td>7.0</td>\n",
       "      <td>3.9</td>\n",
       "      <td>9.7</td>\n",
       "      <td>4.9</td>\n",
       "    </tr>\n",
       "    <tr>\n",
       "      <th>4</th>\n",
       "      <td>NaN</td>\n",
       "      <td>S POLLARD</td>\n",
       "      <td>0.0</td>\n",
       "      <td>57.0</td>\n",
       "      <td>5</td>\n",
       "      <td>m</td>\n",
       "      <td>0</td>\n",
       "      <td>2</td>\n",
       "      <td>2</td>\n",
       "      <td>134</td>\n",
       "      <td>...</td>\n",
       "      <td>54.3</td>\n",
       "      <td>54.5</td>\n",
       "      <td>5</td>\n",
       "      <td>5</td>\n",
       "      <td>2013-08-02ACT1</td>\n",
       "      <td>2013-08-02Milly De Vain1</td>\n",
       "      <td>5.6</td>\n",
       "      <td>4.7</td>\n",
       "      <td>5.7</td>\n",
       "      <td>6.7</td>\n",
       "    </tr>\n",
       "    <tr>\n",
       "      <th>...</th>\n",
       "      <td>...</td>\n",
       "      <td>...</td>\n",
       "      <td>...</td>\n",
       "      <td>...</td>\n",
       "      <td>...</td>\n",
       "      <td>...</td>\n",
       "      <td>...</td>\n",
       "      <td>...</td>\n",
       "      <td>...</td>\n",
       "      <td>...</td>\n",
       "      <td>...</td>\n",
       "      <td>...</td>\n",
       "      <td>...</td>\n",
       "      <td>...</td>\n",
       "      <td>...</td>\n",
       "      <td>...</td>\n",
       "      <td>...</td>\n",
       "      <td>...</td>\n",
       "      <td>...</td>\n",
       "      <td>...</td>\n",
       "      <td>...</td>\n",
       "    </tr>\n",
       "    <tr>\n",
       "      <th>205656</th>\n",
       "      <td>NaN</td>\n",
       "      <td>C MCIVER</td>\n",
       "      <td>0.0</td>\n",
       "      <td>57.5</td>\n",
       "      <td>4</td>\n",
       "      <td>g</td>\n",
       "      <td>3</td>\n",
       "      <td>2</td>\n",
       "      <td>2</td>\n",
       "      <td>26</td>\n",
       "      <td>...</td>\n",
       "      <td>54.0</td>\n",
       "      <td>58.2</td>\n",
       "      <td>1</td>\n",
       "      <td>5</td>\n",
       "      <td>2013-02-14YEP8</td>\n",
       "      <td>2013-02-14Vancouver Gold8</td>\n",
       "      <td>2.1</td>\n",
       "      <td>7.5</td>\n",
       "      <td>0.0</td>\n",
       "      <td>9.8</td>\n",
       "    </tr>\n",
       "    <tr>\n",
       "      <th>205657</th>\n",
       "      <td>NaN</td>\n",
       "      <td>T O'HARA</td>\n",
       "      <td>0.0</td>\n",
       "      <td>57.0</td>\n",
       "      <td>7</td>\n",
       "      <td>g</td>\n",
       "      <td>4</td>\n",
       "      <td>2</td>\n",
       "      <td>3</td>\n",
       "      <td>14</td>\n",
       "      <td>...</td>\n",
       "      <td>56.2</td>\n",
       "      <td>58.3</td>\n",
       "      <td>2</td>\n",
       "      <td>5</td>\n",
       "      <td>2013-02-14YEP8</td>\n",
       "      <td>2013-02-14Streetfire8</td>\n",
       "      <td>13.6</td>\n",
       "      <td>4.4</td>\n",
       "      <td>0.0</td>\n",
       "      <td>9.2</td>\n",
       "    </tr>\n",
       "    <tr>\n",
       "      <th>205658</th>\n",
       "      <td>NaN</td>\n",
       "      <td>T BANNON</td>\n",
       "      <td>0.0</td>\n",
       "      <td>55.0</td>\n",
       "      <td>6</td>\n",
       "      <td>g</td>\n",
       "      <td>3</td>\n",
       "      <td>2</td>\n",
       "      <td>5</td>\n",
       "      <td>14</td>\n",
       "      <td>...</td>\n",
       "      <td>55.2</td>\n",
       "      <td>58.3</td>\n",
       "      <td>5</td>\n",
       "      <td>5</td>\n",
       "      <td>2013-02-14YEP8</td>\n",
       "      <td>2013-02-14Harvzee8</td>\n",
       "      <td>9.6</td>\n",
       "      <td>4.8</td>\n",
       "      <td>13.6</td>\n",
       "      <td>5.0</td>\n",
       "    </tr>\n",
       "    <tr>\n",
       "      <th>205659</th>\n",
       "      <td>NaN</td>\n",
       "      <td>C PYE</td>\n",
       "      <td>0.0</td>\n",
       "      <td>54.0</td>\n",
       "      <td>5</td>\n",
       "      <td>m</td>\n",
       "      <td>4</td>\n",
       "      <td>4</td>\n",
       "      <td>4</td>\n",
       "      <td>42</td>\n",
       "      <td>...</td>\n",
       "      <td>57.0</td>\n",
       "      <td>57.7</td>\n",
       "      <td>3</td>\n",
       "      <td>5</td>\n",
       "      <td>2013-02-14YEP8</td>\n",
       "      <td>2013-02-14Queen Of Happiness8</td>\n",
       "      <td>9.8</td>\n",
       "      <td>5.1</td>\n",
       "      <td>4.0</td>\n",
       "      <td>7.1</td>\n",
       "    </tr>\n",
       "    <tr>\n",
       "      <th>205660</th>\n",
       "      <td>NaN</td>\n",
       "      <td>L DILLON</td>\n",
       "      <td>0.0</td>\n",
       "      <td>54.0</td>\n",
       "      <td>7</td>\n",
       "      <td>g</td>\n",
       "      <td>3</td>\n",
       "      <td>2</td>\n",
       "      <td>3</td>\n",
       "      <td>33</td>\n",
       "      <td>...</td>\n",
       "      <td>51.2</td>\n",
       "      <td>54.7</td>\n",
       "      <td>12</td>\n",
       "      <td>5</td>\n",
       "      <td>2013-02-14YEP8</td>\n",
       "      <td>2013-02-14Bose8</td>\n",
       "      <td>15.8</td>\n",
       "      <td>3.5</td>\n",
       "      <td>14.3</td>\n",
       "      <td>4.0</td>\n",
       "    </tr>\n",
       "  </tbody>\n",
       "</table>\n",
       "<p>205661 rows × 21 columns</p>\n",
       "</div>"
      ],
      "text/plain": [
       "        CTY      JOCKEY  ALL   WGT  AGE SEX  WINS  PL2  PL3  DAYS  ... TBASE  \\\n",
       "0       NaN  K JENNINGS  2.0  57.0    4   m     0    0    0   999  ...   0.0   \n",
       "1       NaN    W COSTIN  2.0  57.0    4   m     0    0    0   124  ...  51.2   \n",
       "2       NaN     B CLARK  0.0  57.0    4   m     0    1    2    14  ...  45.6   \n",
       "3       NaN    S GUYMER  0.0  57.0    5   m     0    0    0    17  ...  33.5   \n",
       "4       NaN   S POLLARD  0.0  57.0    5   m     0    2    2   134  ...  54.3   \n",
       "...     ...         ...  ...   ...  ...  ..   ...  ...  ...   ...  ...   ...   \n",
       "205656  NaN    C MCIVER  0.0  57.5    4   g     3    2    2    26  ...  54.0   \n",
       "205657  NaN    T O'HARA  0.0  57.0    7   g     4    2    3    14  ...  56.2   \n",
       "205658  NaN    T BANNON  0.0  55.0    6   g     3    2    5    14  ...  55.2   \n",
       "205659  NaN       C PYE  0.0  54.0    5   m     4    4    4    42  ...  57.0   \n",
       "205660  NaN    L DILLON  0.0  54.0    7   g     3    2    3    33  ...  51.2   \n",
       "\n",
       "        XPEAK  POS  JRT          RACEID                        HORSEID  \\\n",
       "0         0.0    9    5  2013-08-02ACT1     2013-08-02Argentine Queen1   \n",
       "1        51.4    4    5  2013-08-02ACT1         2013-08-02Capable Gal1   \n",
       "2        51.8    2    5  2013-08-02ACT1      2013-08-02Diamond Player1   \n",
       "3        33.6    8    5  2013-08-02ACT1            2013-08-02Me Oh My1   \n",
       "4        54.5    5    5  2013-08-02ACT1       2013-08-02Milly De Vain1   \n",
       "...       ...  ...  ...             ...                            ...   \n",
       "205656   58.2    1    5  2013-02-14YEP8      2013-02-14Vancouver Gold8   \n",
       "205657   58.3    2    5  2013-02-14YEP8          2013-02-14Streetfire8   \n",
       "205658   58.3    5    5  2013-02-14YEP8             2013-02-14Harvzee8   \n",
       "205659   57.7    3    5  2013-02-14YEP8  2013-02-14Queen Of Happiness8   \n",
       "205660   54.7   12    5  2013-02-14YEP8                2013-02-14Bose8   \n",
       "\n",
       "       JockeyWinP  JockeyRATE  TrainerWinP  TrainerRATE  \n",
       "0            12.3         3.7          3.8          7.5  \n",
       "1             6.2         4.6         11.6          4.1  \n",
       "2             6.3         5.4         10.8          4.2  \n",
       "3             7.0         3.9          9.7          4.9  \n",
       "4             5.6         4.7          5.7          6.7  \n",
       "...           ...         ...          ...          ...  \n",
       "205656        2.1         7.5          0.0          9.8  \n",
       "205657       13.6         4.4          0.0          9.2  \n",
       "205658        9.6         4.8         13.6          5.0  \n",
       "205659        9.8         5.1          4.0          7.1  \n",
       "205660       15.8         3.5         14.3          4.0  \n",
       "\n",
       "[205661 rows x 21 columns]"
      ]
     },
     "execution_count": 458,
     "metadata": {},
     "output_type": "execute_result"
    }
   ],
   "source": [
    "horse_data_new"
   ]
  },
  {
   "cell_type": "code",
   "execution_count": 459,
   "metadata": {},
   "outputs": [
    {
     "name": "stdout",
     "output_type": "stream",
     "text": [
      "<class 'pandas.core.frame.DataFrame'>\n",
      "RangeIndex: 205661 entries, 0 to 205660\n",
      "Data columns (total 21 columns):\n",
      " #   Column       Non-Null Count   Dtype  \n",
      "---  ------       --------------   -----  \n",
      " 0   CTY          45451 non-null   object \n",
      " 1   JOCKEY       205605 non-null  object \n",
      " 2   ALL          205661 non-null  float64\n",
      " 3   WGT          205661 non-null  float64\n",
      " 4   AGE          205661 non-null  int64  \n",
      " 5   SEX          205661 non-null  object \n",
      " 6   WINS         205661 non-null  int64  \n",
      " 7   PL2          205661 non-null  int64  \n",
      " 8   PL3          205661 non-null  int64  \n",
      " 9   DAYS         205661 non-null  int64  \n",
      " 10  BREEDING     205661 non-null  object \n",
      " 11  TBASE        205661 non-null  float64\n",
      " 12  XPEAK        205661 non-null  float64\n",
      " 13  POS          205661 non-null  int64  \n",
      " 14  JRT          205661 non-null  int64  \n",
      " 15  RACEID       205661 non-null  object \n",
      " 16  HORSEID      205661 non-null  object \n",
      " 17  JockeyWinP   205661 non-null  float64\n",
      " 18  JockeyRATE   205661 non-null  float64\n",
      " 19  TrainerWinP  205661 non-null  float64\n",
      " 20  TrainerRATE  205661 non-null  float64\n",
      "dtypes: float64(8), int64(7), object(6)\n",
      "memory usage: 33.0+ MB\n"
     ]
    }
   ],
   "source": [
    "horse_data_new.info()"
   ]
  },
  {
   "cell_type": "code",
   "execution_count": 460,
   "metadata": {},
   "outputs": [
    {
     "name": "stdout",
     "output_type": "stream",
     "text": [
      "<class 'pandas.core.frame.DataFrame'>\n",
      "RangeIndex: 195493 entries, 0 to 195492\n",
      "Data columns (total 10 columns):\n",
      " #   Column   Non-Null Count   Dtype  \n",
      "---  ------   --------------   -----  \n",
      " 0   FIN      195493 non-null  int64  \n",
      " 1   RNO      195493 non-null  int64  \n",
      " 2   G        195493 non-null  object \n",
      " 3   TIME     195493 non-null  float64\n",
      " 4   TW       195493 non-null  int64  \n",
      " 5   EI       195493 non-null  int64  \n",
      " 6   FO       195493 non-null  int64  \n",
      " 7   TRT      195493 non-null  float64\n",
      " 8   WRT      194289 non-null  float64\n",
      " 9   HORSEID  195493 non-null  object \n",
      "dtypes: float64(3), int64(5), object(2)\n",
      "memory usage: 14.9+ MB\n"
     ]
    }
   ],
   "source": [
    "past_perf_new.info()"
   ]
  },
  {
   "cell_type": "code",
   "execution_count": 461,
   "metadata": {
    "scrolled": true
   },
   "outputs": [
    {
     "data": {
      "text/html": [
       "<div>\n",
       "<style scoped>\n",
       "    .dataframe tbody tr th:only-of-type {\n",
       "        vertical-align: middle;\n",
       "    }\n",
       "\n",
       "    .dataframe tbody tr th {\n",
       "        vertical-align: top;\n",
       "    }\n",
       "\n",
       "    .dataframe thead th {\n",
       "        text-align: right;\n",
       "    }\n",
       "</style>\n",
       "<table border=\"1\" class=\"dataframe\">\n",
       "  <thead>\n",
       "    <tr style=\"text-align: right;\">\n",
       "      <th></th>\n",
       "      <th>FIN</th>\n",
       "      <th>RNO</th>\n",
       "      <th>G</th>\n",
       "      <th>TIME</th>\n",
       "      <th>TW</th>\n",
       "      <th>EI</th>\n",
       "      <th>FO</th>\n",
       "      <th>TRT</th>\n",
       "      <th>WRT</th>\n",
       "      <th>HORSEID</th>\n",
       "    </tr>\n",
       "  </thead>\n",
       "  <tbody>\n",
       "    <tr>\n",
       "      <th>0</th>\n",
       "      <td>12</td>\n",
       "      <td>5</td>\n",
       "      <td>S</td>\n",
       "      <td>80.54</td>\n",
       "      <td>0</td>\n",
       "      <td>2</td>\n",
       "      <td>4</td>\n",
       "      <td>41.4</td>\n",
       "      <td>0.0</td>\n",
       "      <td>2013-07-15Zartiki5</td>\n",
       "    </tr>\n",
       "    <tr>\n",
       "      <th>1</th>\n",
       "      <td>5</td>\n",
       "      <td>7</td>\n",
       "      <td>G</td>\n",
       "      <td>70.21</td>\n",
       "      <td>0</td>\n",
       "      <td>0</td>\n",
       "      <td>8</td>\n",
       "      <td>53.7</td>\n",
       "      <td>0.0</td>\n",
       "      <td>2013-06-28Zartiki7</td>\n",
       "    </tr>\n",
       "    <tr>\n",
       "      <th>2</th>\n",
       "      <td>5</td>\n",
       "      <td>7</td>\n",
       "      <td>G</td>\n",
       "      <td>61.65</td>\n",
       "      <td>0</td>\n",
       "      <td>0</td>\n",
       "      <td>6</td>\n",
       "      <td>46.4</td>\n",
       "      <td>0.0</td>\n",
       "      <td>2013-06-07Zartiki7</td>\n",
       "    </tr>\n",
       "    <tr>\n",
       "      <th>3</th>\n",
       "      <td>7</td>\n",
       "      <td>7</td>\n",
       "      <td>D</td>\n",
       "      <td>84.62</td>\n",
       "      <td>0</td>\n",
       "      <td>2</td>\n",
       "      <td>2</td>\n",
       "      <td>47.1</td>\n",
       "      <td>0.0</td>\n",
       "      <td>2013-01-25Zartiki7</td>\n",
       "    </tr>\n",
       "    <tr>\n",
       "      <th>4</th>\n",
       "      <td>2</td>\n",
       "      <td>5</td>\n",
       "      <td>G</td>\n",
       "      <td>85.57</td>\n",
       "      <td>0</td>\n",
       "      <td>5</td>\n",
       "      <td>6</td>\n",
       "      <td>49.7</td>\n",
       "      <td>0.0</td>\n",
       "      <td>2013-01-13Zartiki5</td>\n",
       "    </tr>\n",
       "    <tr>\n",
       "      <th>...</th>\n",
       "      <td>...</td>\n",
       "      <td>...</td>\n",
       "      <td>...</td>\n",
       "      <td>...</td>\n",
       "      <td>...</td>\n",
       "      <td>...</td>\n",
       "      <td>...</td>\n",
       "      <td>...</td>\n",
       "      <td>...</td>\n",
       "      <td>...</td>\n",
       "    </tr>\n",
       "    <tr>\n",
       "      <th>195488</th>\n",
       "      <td>5</td>\n",
       "      <td>8</td>\n",
       "      <td>G</td>\n",
       "      <td>70.09</td>\n",
       "      <td>0</td>\n",
       "      <td>3</td>\n",
       "      <td>3</td>\n",
       "      <td>53.4</td>\n",
       "      <td>0.0</td>\n",
       "      <td>2013-01-31Craiglea Gee Tee8</td>\n",
       "    </tr>\n",
       "    <tr>\n",
       "      <th>195489</th>\n",
       "      <td>2</td>\n",
       "      <td>5</td>\n",
       "      <td>4</td>\n",
       "      <td>97.73</td>\n",
       "      <td>0</td>\n",
       "      <td>2</td>\n",
       "      <td>2</td>\n",
       "      <td>52.0</td>\n",
       "      <td>0.0</td>\n",
       "      <td>2013-03-04Major Handell5</td>\n",
       "    </tr>\n",
       "    <tr>\n",
       "      <th>195490</th>\n",
       "      <td>8</td>\n",
       "      <td>3</td>\n",
       "      <td>D</td>\n",
       "      <td>59.48</td>\n",
       "      <td>0</td>\n",
       "      <td>3</td>\n",
       "      <td>5</td>\n",
       "      <td>35.5</td>\n",
       "      <td>0.0</td>\n",
       "      <td>2013-09-21Love Potion3</td>\n",
       "    </tr>\n",
       "    <tr>\n",
       "      <th>195491</th>\n",
       "      <td>9</td>\n",
       "      <td>4</td>\n",
       "      <td>G</td>\n",
       "      <td>87.11</td>\n",
       "      <td>0</td>\n",
       "      <td>9</td>\n",
       "      <td>9</td>\n",
       "      <td>46.1</td>\n",
       "      <td>0.0</td>\n",
       "      <td>2013-02-12Carefree4</td>\n",
       "    </tr>\n",
       "    <tr>\n",
       "      <th>195492</th>\n",
       "      <td>8</td>\n",
       "      <td>5</td>\n",
       "      <td>G</td>\n",
       "      <td>97.90</td>\n",
       "      <td>0</td>\n",
       "      <td>6</td>\n",
       "      <td>5</td>\n",
       "      <td>47.2</td>\n",
       "      <td>0.0</td>\n",
       "      <td>2013-05-02Bayonet Charge5</td>\n",
       "    </tr>\n",
       "  </tbody>\n",
       "</table>\n",
       "<p>195493 rows × 10 columns</p>\n",
       "</div>"
      ],
      "text/plain": [
       "        FIN  RNO  G   TIME  TW  EI  FO   TRT  WRT                      HORSEID\n",
       "0        12    5  S  80.54   0   2   4  41.4  0.0           2013-07-15Zartiki5\n",
       "1         5    7  G  70.21   0   0   8  53.7  0.0           2013-06-28Zartiki7\n",
       "2         5    7  G  61.65   0   0   6  46.4  0.0           2013-06-07Zartiki7\n",
       "3         7    7  D  84.62   0   2   2  47.1  0.0           2013-01-25Zartiki7\n",
       "4         2    5  G  85.57   0   5   6  49.7  0.0           2013-01-13Zartiki5\n",
       "...     ...  ... ..    ...  ..  ..  ..   ...  ...                          ...\n",
       "195488    5    8  G  70.09   0   3   3  53.4  0.0  2013-01-31Craiglea Gee Tee8\n",
       "195489    2    5  4  97.73   0   2   2  52.0  0.0     2013-03-04Major Handell5\n",
       "195490    8    3  D  59.48   0   3   5  35.5  0.0       2013-09-21Love Potion3\n",
       "195491    9    4  G  87.11   0   9   9  46.1  0.0          2013-02-12Carefree4\n",
       "195492    8    5  G  97.90   0   6   5  47.2  0.0    2013-05-02Bayonet Charge5\n",
       "\n",
       "[195493 rows x 10 columns]"
      ]
     },
     "execution_count": 461,
     "metadata": {},
     "output_type": "execute_result"
    }
   ],
   "source": [
    "past_perf_new"
   ]
  },
  {
   "cell_type": "markdown",
   "metadata": {},
   "source": [
    "# Merging past perfomrance and horse data"
   ]
  },
  {
   "cell_type": "code",
   "execution_count": 462,
   "metadata": {},
   "outputs": [],
   "source": [
    "horse_past_merge=pd.merge(horse_data_new,past_perf_new,on='HORSEID')"
   ]
  },
  {
   "cell_type": "code",
   "execution_count": 463,
   "metadata": {},
   "outputs": [
    {
     "data": {
      "text/plain": [
       "(194605, 30)"
      ]
     },
     "execution_count": 463,
     "metadata": {},
     "output_type": "execute_result"
    }
   ],
   "source": [
    "horse_past_merge.shape"
   ]
  },
  {
   "cell_type": "code",
   "execution_count": 464,
   "metadata": {
    "scrolled": true
   },
   "outputs": [
    {
     "name": "stdout",
     "output_type": "stream",
     "text": [
      "<class 'pandas.core.frame.DataFrame'>\n",
      "Int64Index: 194605 entries, 0 to 194604\n",
      "Data columns (total 30 columns):\n",
      " #   Column       Non-Null Count   Dtype  \n",
      "---  ------       --------------   -----  \n",
      " 0   CTY          42939 non-null   object \n",
      " 1   JOCKEY       194551 non-null  object \n",
      " 2   ALL          194605 non-null  float64\n",
      " 3   WGT          194605 non-null  float64\n",
      " 4   AGE          194605 non-null  int64  \n",
      " 5   SEX          194605 non-null  object \n",
      " 6   WINS         194605 non-null  int64  \n",
      " 7   PL2          194605 non-null  int64  \n",
      " 8   PL3          194605 non-null  int64  \n",
      " 9   DAYS         194605 non-null  int64  \n",
      " 10  BREEDING     194605 non-null  object \n",
      " 11  TBASE        194605 non-null  float64\n",
      " 12  XPEAK        194605 non-null  float64\n",
      " 13  POS          194605 non-null  int64  \n",
      " 14  JRT          194605 non-null  int64  \n",
      " 15  RACEID       194605 non-null  object \n",
      " 16  HORSEID      194605 non-null  object \n",
      " 17  JockeyWinP   194605 non-null  float64\n",
      " 18  JockeyRATE   194605 non-null  float64\n",
      " 19  TrainerWinP  194605 non-null  float64\n",
      " 20  TrainerRATE  194605 non-null  float64\n",
      " 21  FIN          194605 non-null  int64  \n",
      " 22  RNO          194605 non-null  int64  \n",
      " 23  G            194605 non-null  object \n",
      " 24  TIME         194605 non-null  float64\n",
      " 25  TW           194605 non-null  int64  \n",
      " 26  EI           194605 non-null  int64  \n",
      " 27  FO           194605 non-null  int64  \n",
      " 28  TRT          194605 non-null  float64\n",
      " 29  WRT          193405 non-null  float64\n",
      "dtypes: float64(11), int64(12), object(7)\n",
      "memory usage: 46.0+ MB\n"
     ]
    }
   ],
   "source": [
    "horse_past_merge.info()"
   ]
  },
  {
   "cell_type": "code",
   "execution_count": 465,
   "metadata": {},
   "outputs": [],
   "source": [
    "# Checking null values"
   ]
  },
  {
   "cell_type": "code",
   "execution_count": 466,
   "metadata": {
    "scrolled": false
   },
   "outputs": [
    {
     "data": {
      "text/plain": [
       "CTY            151666\n",
       "JOCKEY             54\n",
       "ALL                 0\n",
       "WGT                 0\n",
       "AGE                 0\n",
       "SEX                 0\n",
       "WINS                0\n",
       "PL2                 0\n",
       "PL3                 0\n",
       "DAYS                0\n",
       "BREEDING            0\n",
       "TBASE               0\n",
       "XPEAK               0\n",
       "POS                 0\n",
       "JRT                 0\n",
       "RACEID              0\n",
       "HORSEID             0\n",
       "JockeyWinP          0\n",
       "JockeyRATE          0\n",
       "TrainerWinP         0\n",
       "TrainerRATE         0\n",
       "FIN                 0\n",
       "RNO                 0\n",
       "G                   0\n",
       "TIME                0\n",
       "TW                  0\n",
       "EI                  0\n",
       "FO                  0\n",
       "TRT                 0\n",
       "WRT              1200\n",
       "dtype: int64"
      ]
     },
     "execution_count": 466,
     "metadata": {},
     "output_type": "execute_result"
    }
   ],
   "source": [
    "horse_past_merge.isnull().sum()"
   ]
  },
  {
   "cell_type": "code",
   "execution_count": 467,
   "metadata": {},
   "outputs": [],
   "source": [
    "# Concatinating PCS"
   ]
  },
  {
   "cell_type": "code",
   "execution_count": 468,
   "metadata": {},
   "outputs": [],
   "source": [
    "horse_past_merge=pd.concat([horse_past_merge,principal_Df],axis=1)"
   ]
  },
  {
   "cell_type": "code",
   "execution_count": 469,
   "metadata": {},
   "outputs": [],
   "source": [
    "horse_past_merge.drop('BREEDING',axis=1,inplace=True)"
   ]
  },
  {
   "cell_type": "code",
   "execution_count": 470,
   "metadata": {},
   "outputs": [],
   "source": [
    "# PC1 and PC2 contains 77% of the information, so dropping rest of the PCS"
   ]
  },
  {
   "cell_type": "code",
   "execution_count": 471,
   "metadata": {},
   "outputs": [],
   "source": [
    "horse_past_merge.drop(['PC3','PC4','RNO'],axis=1,inplace=True)"
   ]
  },
  {
   "cell_type": "code",
   "execution_count": 472,
   "metadata": {},
   "outputs": [
    {
     "data": {
      "text/plain": [
       "(205661, 30)"
      ]
     },
     "execution_count": 472,
     "metadata": {},
     "output_type": "execute_result"
    }
   ],
   "source": [
    "horse_past_merge.shape"
   ]
  },
  {
   "cell_type": "markdown",
   "metadata": {},
   "source": [
    "# Race data"
   ]
  },
  {
   "cell_type": "code",
   "execution_count": 473,
   "metadata": {},
   "outputs": [
    {
     "data": {
      "text/plain": [
       "(20149, 33)"
      ]
     },
     "execution_count": 473,
     "metadata": {},
     "output_type": "execute_result"
    }
   ],
   "source": [
    "race_data.shape"
   ]
  },
  {
   "cell_type": "code",
   "execution_count": 474,
   "metadata": {},
   "outputs": [
    {
     "data": {
      "text/html": [
       "<div>\n",
       "<style scoped>\n",
       "    .dataframe tbody tr th:only-of-type {\n",
       "        vertical-align: middle;\n",
       "    }\n",
       "\n",
       "    .dataframe tbody tr th {\n",
       "        vertical-align: top;\n",
       "    }\n",
       "\n",
       "    .dataframe thead th {\n",
       "        text-align: right;\n",
       "    }\n",
       "</style>\n",
       "<table border=\"1\" class=\"dataframe\">\n",
       "  <thead>\n",
       "    <tr style=\"text-align: right;\">\n",
       "      <th></th>\n",
       "      <th>Unnamed: 0</th>\n",
       "      <th>X</th>\n",
       "      <th>RNO</th>\n",
       "      <th>RACENAME</th>\n",
       "      <th>DIST</th>\n",
       "      <th>JUMP</th>\n",
       "      <th>CLASS</th>\n",
       "      <th>STAKES</th>\n",
       "      <th>AGE</th>\n",
       "      <th>REST</th>\n",
       "      <th>...</th>\n",
       "      <th>PD1</th>\n",
       "      <th>PD2</th>\n",
       "      <th>PD3</th>\n",
       "      <th>FF</th>\n",
       "      <th>SCRS</th>\n",
       "      <th>FDATE</th>\n",
       "      <th>VCODE</th>\n",
       "      <th>RACEID</th>\n",
       "      <th>MTYPE</th>\n",
       "      <th>ADJ_JUMP</th>\n",
       "    </tr>\n",
       "  </thead>\n",
       "  <tbody>\n",
       "    <tr>\n",
       "      <th>0</th>\n",
       "      <td>9</td>\n",
       "      <td>9</td>\n",
       "      <td>1</td>\n",
       "      <td>HARMONIE GERMAN CLUB MDN PLT       *44*</td>\n",
       "      <td>1080</td>\n",
       "      <td>12:23</td>\n",
       "      <td>Maiden</td>\n",
       "      <td>13000</td>\n",
       "      <td>NaN</td>\n",
       "      <td>NaN</td>\n",
       "      <td>...</td>\n",
       "      <td>1.3</td>\n",
       "      <td>2.1</td>\n",
       "      <td>3.2</td>\n",
       "      <td>0.0</td>\n",
       "      <td>1 11</td>\n",
       "      <td>2013-08-02</td>\n",
       "      <td>ACT</td>\n",
       "      <td>2013-08-02ACT1</td>\n",
       "      <td>N</td>\n",
       "      <td>12:23</td>\n",
       "    </tr>\n",
       "    <tr>\n",
       "      <th>1</th>\n",
       "      <td>10</td>\n",
       "      <td>10</td>\n",
       "      <td>2</td>\n",
       "      <td>CANBERRA DEAKIN F.C. HCP C1        *46*</td>\n",
       "      <td>1206</td>\n",
       "      <td>12:58</td>\n",
       "      <td>Class 1</td>\n",
       "      <td>13000</td>\n",
       "      <td>NaN</td>\n",
       "      <td>NaN</td>\n",
       "      <td>...</td>\n",
       "      <td>1.4</td>\n",
       "      <td>1.8</td>\n",
       "      <td>0.0</td>\n",
       "      <td>0.0</td>\n",
       "      <td>6</td>\n",
       "      <td>2013-08-02</td>\n",
       "      <td>ACT</td>\n",
       "      <td>2013-08-02ACT2</td>\n",
       "      <td>N</td>\n",
       "      <td>12:58</td>\n",
       "    </tr>\n",
       "    <tr>\n",
       "      <th>2</th>\n",
       "      <td>11</td>\n",
       "      <td>11</td>\n",
       "      <td>3</td>\n",
       "      <td>THE RUC CLUB HCP                   *53*</td>\n",
       "      <td>1080</td>\n",
       "      <td>13:33</td>\n",
       "      <td>Open</td>\n",
       "      <td>13000</td>\n",
       "      <td>NaN</td>\n",
       "      <td>NaN</td>\n",
       "      <td>...</td>\n",
       "      <td>3.0</td>\n",
       "      <td>2.3</td>\n",
       "      <td>0.0</td>\n",
       "      <td>0.0</td>\n",
       "      <td>2</td>\n",
       "      <td>2013-08-02</td>\n",
       "      <td>ACT</td>\n",
       "      <td>2013-08-02ACT3</td>\n",
       "      <td>N</td>\n",
       "      <td>13:33</td>\n",
       "    </tr>\n",
       "    <tr>\n",
       "      <th>3</th>\n",
       "      <td>12</td>\n",
       "      <td>12</td>\n",
       "      <td>4</td>\n",
       "      <td>THE GEORGE HARCOURT INN BM60       *50*</td>\n",
       "      <td>1750</td>\n",
       "      <td>14:08</td>\n",
       "      <td>Benchmark 60</td>\n",
       "      <td>13000</td>\n",
       "      <td>NaN</td>\n",
       "      <td>NaN</td>\n",
       "      <td>...</td>\n",
       "      <td>2.6</td>\n",
       "      <td>10.2</td>\n",
       "      <td>0.0</td>\n",
       "      <td>0.0</td>\n",
       "      <td>7</td>\n",
       "      <td>2013-08-02</td>\n",
       "      <td>ACT</td>\n",
       "      <td>2013-08-02ACT4</td>\n",
       "      <td>N</td>\n",
       "      <td>14:08</td>\n",
       "    </tr>\n",
       "    <tr>\n",
       "      <th>4</th>\n",
       "      <td>13</td>\n",
       "      <td>13</td>\n",
       "      <td>5</td>\n",
       "      <td>CANBERRA IRISH CLUB HCP C2         *48*</td>\n",
       "      <td>1080</td>\n",
       "      <td>14:43</td>\n",
       "      <td>Class 2</td>\n",
       "      <td>13000</td>\n",
       "      <td>NaN</td>\n",
       "      <td>NaN</td>\n",
       "      <td>...</td>\n",
       "      <td>2.1</td>\n",
       "      <td>7.4</td>\n",
       "      <td>2.8</td>\n",
       "      <td>3574.8</td>\n",
       "      <td>NaN</td>\n",
       "      <td>2013-08-02</td>\n",
       "      <td>ACT</td>\n",
       "      <td>2013-08-02ACT5</td>\n",
       "      <td>N</td>\n",
       "      <td>14:43</td>\n",
       "    </tr>\n",
       "  </tbody>\n",
       "</table>\n",
       "<p>5 rows × 33 columns</p>\n",
       "</div>"
      ],
      "text/plain": [
       "   Unnamed: 0   X  RNO                                 RACENAME  DIST   JUMP  \\\n",
       "0           9   9    1  HARMONIE GERMAN CLUB MDN PLT       *44*  1080  12:23   \n",
       "1          10  10    2  CANBERRA DEAKIN F.C. HCP C1        *46*  1206  12:58   \n",
       "2          11  11    3  THE RUC CLUB HCP                   *53*  1080  13:33   \n",
       "3          12  12    4  THE GEORGE HARCOURT INN BM60       *50*  1750  14:08   \n",
       "4          13  13    5  CANBERRA IRISH CLUB HCP C2         *48*  1080  14:43   \n",
       "\n",
       "          CLASS  STAKES  AGE REST  ...  PD1   PD2  PD3      FF  SCRS  \\\n",
       "0        Maiden   13000  NaN  NaN  ...  1.3   2.1  3.2     0.0  1 11   \n",
       "1       Class 1   13000  NaN  NaN  ...  1.4   1.8  0.0     0.0     6   \n",
       "2          Open   13000  NaN  NaN  ...  3.0   2.3  0.0     0.0     2   \n",
       "3  Benchmark 60   13000  NaN  NaN  ...  2.6  10.2  0.0     0.0     7   \n",
       "4       Class 2   13000  NaN  NaN  ...  2.1   7.4  2.8  3574.8   NaN   \n",
       "\n",
       "        FDATE  VCODE          RACEID  MTYPE  ADJ_JUMP  \n",
       "0  2013-08-02    ACT  2013-08-02ACT1      N     12:23  \n",
       "1  2013-08-02    ACT  2013-08-02ACT2      N     12:58  \n",
       "2  2013-08-02    ACT  2013-08-02ACT3      N     13:33  \n",
       "3  2013-08-02    ACT  2013-08-02ACT4      N     14:08  \n",
       "4  2013-08-02    ACT  2013-08-02ACT5      N     14:43  \n",
       "\n",
       "[5 rows x 33 columns]"
      ]
     },
     "execution_count": 474,
     "metadata": {},
     "output_type": "execute_result"
    }
   ],
   "source": [
    "race_data.head()"
   ]
  },
  {
   "cell_type": "code",
   "execution_count": 475,
   "metadata": {},
   "outputs": [
    {
     "name": "stdout",
     "output_type": "stream",
     "text": [
      "<class 'pandas.core.frame.DataFrame'>\n",
      "RangeIndex: 20149 entries, 0 to 20148\n",
      "Data columns (total 33 columns):\n",
      " #   Column      Non-Null Count  Dtype  \n",
      "---  ------      --------------  -----  \n",
      " 0   Unnamed: 0  20149 non-null  int64  \n",
      " 1   X           20149 non-null  int64  \n",
      " 2   RNO         20149 non-null  int64  \n",
      " 3   RACENAME    20149 non-null  object \n",
      " 4   DIST        20149 non-null  int64  \n",
      " 5   JUMP        20149 non-null  object \n",
      " 6   CLASS       20149 non-null  object \n",
      " 7   STAKES      20149 non-null  int64  \n",
      " 8   AGE         7930 non-null   object \n",
      " 9   REST        2275 non-null   object \n",
      " 10  CLAIM       20149 non-null  object \n",
      " 11  WEIGHTS     20149 non-null  object \n",
      " 12  LIMIT       20149 non-null  float64\n",
      " 13  NREC        20149 non-null  int64  \n",
      " 14  GOING       20149 non-null  object \n",
      " 15  T1          20149 non-null  int64  \n",
      " 16  T2          20149 non-null  int64  \n",
      " 17  T3          20149 non-null  int64  \n",
      " 18  WN          20149 non-null  float64\n",
      " 19  QN          20149 non-null  float64\n",
      " 20  EX          20149 non-null  float64\n",
      " 21  TT          20149 non-null  float64\n",
      " 22  T4          20149 non-null  int64  \n",
      " 23  PD1         20149 non-null  float64\n",
      " 24  PD2         20149 non-null  float64\n",
      " 25  PD3         20149 non-null  float64\n",
      " 26  FF          20149 non-null  float64\n",
      " 27  SCRS        14809 non-null  object \n",
      " 28  FDATE       20149 non-null  object \n",
      " 29  VCODE       20149 non-null  object \n",
      " 30  RACEID      20149 non-null  object \n",
      " 31  MTYPE       20149 non-null  object \n",
      " 32  ADJ_JUMP    20149 non-null  object \n",
      "dtypes: float64(9), int64(10), object(14)\n",
      "memory usage: 5.1+ MB\n"
     ]
    }
   ],
   "source": [
    "race_data.info()"
   ]
  },
  {
   "cell_type": "code",
   "execution_count": 476,
   "metadata": {},
   "outputs": [
    {
     "data": {
      "text/plain": [
       "Maiden             5774\n",
       "Open               1507\n",
       "Class 1            1238\n",
       "Benchmark 65        970\n",
       "Class 2             796\n",
       "                   ... \n",
       "Benchmark 87          1\n",
       "Rest 1 Win Stpl       1\n",
       "Restricted 83         1\n",
       "Restricted 85         1\n",
       "Restricted 95         1\n",
       "Name: CLASS, Length: 134, dtype: int64"
      ]
     },
     "execution_count": 476,
     "metadata": {},
     "output_type": "execute_result"
    }
   ],
   "source": [
    "race_data['CLASS'].value_counts()"
   ]
  },
  {
   "cell_type": "code",
   "execution_count": 477,
   "metadata": {},
   "outputs": [
    {
     "data": {
      "text/plain": [
       "134"
      ]
     },
     "execution_count": 477,
     "metadata": {},
     "output_type": "execute_result"
    }
   ],
   "source": [
    "race_data['CLASS'].nunique()"
   ]
  },
  {
   "cell_type": "code",
   "execution_count": 478,
   "metadata": {},
   "outputs": [
    {
     "data": {
      "text/plain": [
       "Handicap          14237\n",
       "Set Weight         4828\n",
       "Set Weight Wit      607\n",
       "Set Weight+Pen      300\n",
       "Weight For Age      129\n",
       "Special Weight       48\n",
       "Name: WEIGHTS, dtype: int64"
      ]
     },
     "execution_count": 478,
     "metadata": {},
     "output_type": "execute_result"
    }
   ],
   "source": [
    "race_data['WEIGHTS'].value_counts()"
   ]
  },
  {
   "cell_type": "code",
   "execution_count": 479,
   "metadata": {},
   "outputs": [
    {
     "data": {
      "text/plain": [
       "12    2438\n",
       "11    2172\n",
       "10    2111\n",
       "14    1944\n",
       "13    1852\n",
       "9     1773\n",
       "8     1437\n",
       "16    1379\n",
       "15    1260\n",
       "7      950\n",
       "18     863\n",
       "17     666\n",
       "6      498\n",
       "20     285\n",
       "19     223\n",
       "5      129\n",
       "21      86\n",
       "22      51\n",
       "24      13\n",
       "23       9\n",
       "4        9\n",
       "3        1\n",
       "Name: NREC, dtype: int64"
      ]
     },
     "execution_count": 479,
     "metadata": {},
     "output_type": "execute_result"
    }
   ],
   "source": [
    "race_data['NREC'].value_counts()"
   ]
  },
  {
   "cell_type": "code",
   "execution_count": 480,
   "metadata": {},
   "outputs": [
    {
     "data": {
      "text/plain": [
       "array([12,  7,  8, 16, 10, 11,  9, 13, 14, 15, 18,  6, 19,  5, 17, 20, 22,\n",
       "       21, 23, 24,  4,  3], dtype=int64)"
      ]
     },
     "execution_count": 480,
     "metadata": {},
     "output_type": "execute_result"
    }
   ],
   "source": [
    "race_data['NREC'].unique()"
   ]
  },
  {
   "cell_type": "code",
   "execution_count": 481,
   "metadata": {},
   "outputs": [
    {
     "data": {
      "text/plain": [
       "array(['GOOD', 'GOOD3', 'DEAD5', 'SLOW6', 'HVY8', 'DEAD4', 'SLOW7',\n",
       "       'GOOD2', 'HVY9', 'SLOW', 'HEAVY', 'DEAD', 'HVY10', 'FAST1', 'FAST',\n",
       "       'HVY3', 'GOOD4', 'SLOW8'], dtype=object)"
      ]
     },
     "execution_count": 481,
     "metadata": {},
     "output_type": "execute_result"
    }
   ],
   "source": [
    "race_data['GOING'].unique()"
   ]
  },
  {
   "cell_type": "code",
   "execution_count": 482,
   "metadata": {},
   "outputs": [
    {
     "data": {
      "text/plain": [
       "1     2603\n",
       "2     2242\n",
       "3     2072\n",
       "4     2046\n",
       "5     1976\n",
       "6     1819\n",
       "7     1680\n",
       "8     1376\n",
       "9     1176\n",
       "10     975\n",
       "11     752\n",
       "12     566\n",
       "13     344\n",
       "14     252\n",
       "15     125\n",
       "16      79\n",
       "17      36\n",
       "18      18\n",
       "19       8\n",
       "20       4\n",
       "Name: T1, dtype: int64"
      ]
     },
     "execution_count": 482,
     "metadata": {},
     "output_type": "execute_result"
    }
   ],
   "source": [
    "race_data['T1'].value_counts()"
   ]
  },
  {
   "cell_type": "code",
   "execution_count": 483,
   "metadata": {},
   "outputs": [
    {
     "data": {
      "text/plain": [
       "1.5     1234\n",
       "1.7     1223\n",
       "1.4     1171\n",
       "1.6     1157\n",
       "1.8     1112\n",
       "        ... \n",
       "19.2       1\n",
       "14.1       1\n",
       "22.9       1\n",
       "14.6       1\n",
       "15.7       1\n",
       "Name: PD1, Length: 166, dtype: int64"
      ]
     },
     "execution_count": 483,
     "metadata": {},
     "output_type": "execute_result"
    }
   ],
   "source": [
    "race_data['PD1'].value_counts()"
   ]
  },
  {
   "cell_type": "code",
   "execution_count": 484,
   "metadata": {},
   "outputs": [
    {
     "data": {
      "text/plain": [
       "5340"
      ]
     },
     "execution_count": 484,
     "metadata": {},
     "output_type": "execute_result"
    }
   ],
   "source": [
    "race_data['SCRS'].isnull().sum()"
   ]
  },
  {
   "cell_type": "code",
   "execution_count": 485,
   "metadata": {},
   "outputs": [
    {
     "data": {
      "text/plain": [
       "Can       18549\n",
       "Cannot     1600\n",
       "Name: CLAIM, dtype: int64"
      ]
     },
     "execution_count": 485,
     "metadata": {},
     "output_type": "execute_result"
    }
   ],
   "source": [
    "race_data['CLAIM'].value_counts()"
   ]
  },
  {
   "cell_type": "code",
   "execution_count": 486,
   "metadata": {},
   "outputs": [
    {
     "data": {
      "text/plain": [
       "219"
      ]
     },
     "execution_count": 486,
     "metadata": {},
     "output_type": "execute_result"
    }
   ],
   "source": [
    "race_data['VCODE'].nunique()"
   ]
  },
  {
   "cell_type": "code",
   "execution_count": 487,
   "metadata": {},
   "outputs": [
    {
     "data": {
      "text/plain": [
       "array(['N'], dtype=object)"
      ]
     },
     "execution_count": 487,
     "metadata": {},
     "output_type": "execute_result"
    }
   ],
   "source": [
    "race_data['MTYPE'].unique()"
   ]
  },
  {
   "cell_type": "code",
   "execution_count": 488,
   "metadata": {
    "scrolled": true
   },
   "outputs": [
    {
     "data": {
      "text/plain": [
       "0        12:23\n",
       "1        12:58\n",
       "2        13:33\n",
       "3        14:08\n",
       "4        14:43\n",
       "         ...  \n",
       "20144    13:55\n",
       "20145    14:30\n",
       "20146    15:10\n",
       "20147    15:50\n",
       "20148    16:30\n",
       "Name: ADJ_JUMP, Length: 20149, dtype: object"
      ]
     },
     "execution_count": 488,
     "metadata": {},
     "output_type": "execute_result"
    }
   ],
   "source": [
    "race_data['ADJ_JUMP']\n"
   ]
  },
  {
   "cell_type": "code",
   "execution_count": 489,
   "metadata": {},
   "outputs": [],
   "source": [
    "# Removing irrelevant and repeated columns"
   ]
  },
  {
   "cell_type": "code",
   "execution_count": 490,
   "metadata": {},
   "outputs": [],
   "source": [
    "race_data_new=race_data.drop(['Unnamed: 0','X','RNO','RACENAME','CLASS','STAKES','AGE','REST','T1','T2','T3','FDATE',\n",
    "'ADJ_JUMP','VCODE','MTYPE'],axis=1)"
   ]
  },
  {
   "cell_type": "code",
   "execution_count": 491,
   "metadata": {},
   "outputs": [
    {
     "data": {
      "text/plain": [
       "(20149, 18)"
      ]
     },
     "execution_count": 491,
     "metadata": {},
     "output_type": "execute_result"
    }
   ],
   "source": [
    "race_data_new.shape"
   ]
  },
  {
   "cell_type": "code",
   "execution_count": 492,
   "metadata": {},
   "outputs": [
    {
     "name": "stdout",
     "output_type": "stream",
     "text": [
      "<class 'pandas.core.frame.DataFrame'>\n",
      "RangeIndex: 20149 entries, 0 to 20148\n",
      "Data columns (total 18 columns):\n",
      " #   Column   Non-Null Count  Dtype  \n",
      "---  ------   --------------  -----  \n",
      " 0   DIST     20149 non-null  int64  \n",
      " 1   JUMP     20149 non-null  object \n",
      " 2   CLAIM    20149 non-null  object \n",
      " 3   WEIGHTS  20149 non-null  object \n",
      " 4   LIMIT    20149 non-null  float64\n",
      " 5   NREC     20149 non-null  int64  \n",
      " 6   GOING    20149 non-null  object \n",
      " 7   WN       20149 non-null  float64\n",
      " 8   QN       20149 non-null  float64\n",
      " 9   EX       20149 non-null  float64\n",
      " 10  TT       20149 non-null  float64\n",
      " 11  T4       20149 non-null  int64  \n",
      " 12  PD1      20149 non-null  float64\n",
      " 13  PD2      20149 non-null  float64\n",
      " 14  PD3      20149 non-null  float64\n",
      " 15  FF       20149 non-null  float64\n",
      " 16  SCRS     14809 non-null  object \n",
      " 17  RACEID   20149 non-null  object \n",
      "dtypes: float64(9), int64(3), object(6)\n",
      "memory usage: 2.8+ MB\n"
     ]
    }
   ],
   "source": [
    "race_data_new.info()"
   ]
  },
  {
   "cell_type": "code",
   "execution_count": 493,
   "metadata": {},
   "outputs": [
    {
     "data": {
      "text/html": [
       "<div>\n",
       "<style scoped>\n",
       "    .dataframe tbody tr th:only-of-type {\n",
       "        vertical-align: middle;\n",
       "    }\n",
       "\n",
       "    .dataframe tbody tr th {\n",
       "        vertical-align: top;\n",
       "    }\n",
       "\n",
       "    .dataframe thead th {\n",
       "        text-align: right;\n",
       "    }\n",
       "</style>\n",
       "<table border=\"1\" class=\"dataframe\">\n",
       "  <thead>\n",
       "    <tr style=\"text-align: right;\">\n",
       "      <th></th>\n",
       "      <th>DIST</th>\n",
       "      <th>JUMP</th>\n",
       "      <th>CLAIM</th>\n",
       "      <th>WEIGHTS</th>\n",
       "      <th>LIMIT</th>\n",
       "      <th>NREC</th>\n",
       "      <th>GOING</th>\n",
       "      <th>WN</th>\n",
       "      <th>QN</th>\n",
       "      <th>EX</th>\n",
       "      <th>TT</th>\n",
       "      <th>T4</th>\n",
       "      <th>PD1</th>\n",
       "      <th>PD2</th>\n",
       "      <th>PD3</th>\n",
       "      <th>FF</th>\n",
       "      <th>SCRS</th>\n",
       "      <th>RACEID</th>\n",
       "    </tr>\n",
       "  </thead>\n",
       "  <tbody>\n",
       "    <tr>\n",
       "      <th>0</th>\n",
       "      <td>1080</td>\n",
       "      <td>12:23</td>\n",
       "      <td>Can</td>\n",
       "      <td>Set Weight</td>\n",
       "      <td>0.0</td>\n",
       "      <td>12</td>\n",
       "      <td>GOOD</td>\n",
       "      <td>4.0</td>\n",
       "      <td>8.1</td>\n",
       "      <td>18.2</td>\n",
       "      <td>120.6</td>\n",
       "      <td>0</td>\n",
       "      <td>1.3</td>\n",
       "      <td>2.1</td>\n",
       "      <td>3.2</td>\n",
       "      <td>0.0</td>\n",
       "      <td>1 11</td>\n",
       "      <td>2013-08-02ACT1</td>\n",
       "    </tr>\n",
       "    <tr>\n",
       "      <th>1</th>\n",
       "      <td>1206</td>\n",
       "      <td>12:58</td>\n",
       "      <td>Can</td>\n",
       "      <td>Handicap</td>\n",
       "      <td>54.0</td>\n",
       "      <td>7</td>\n",
       "      <td>GOOD</td>\n",
       "      <td>3.0</td>\n",
       "      <td>4.3</td>\n",
       "      <td>12.2</td>\n",
       "      <td>24.0</td>\n",
       "      <td>0</td>\n",
       "      <td>1.4</td>\n",
       "      <td>1.8</td>\n",
       "      <td>0.0</td>\n",
       "      <td>0.0</td>\n",
       "      <td>6</td>\n",
       "      <td>2013-08-02ACT2</td>\n",
       "    </tr>\n",
       "    <tr>\n",
       "      <th>2</th>\n",
       "      <td>1080</td>\n",
       "      <td>13:33</td>\n",
       "      <td>Can</td>\n",
       "      <td>Handicap</td>\n",
       "      <td>54.0</td>\n",
       "      <td>7</td>\n",
       "      <td>GOOD</td>\n",
       "      <td>7.9</td>\n",
       "      <td>10.0</td>\n",
       "      <td>32.4</td>\n",
       "      <td>146.9</td>\n",
       "      <td>0</td>\n",
       "      <td>3.0</td>\n",
       "      <td>2.3</td>\n",
       "      <td>0.0</td>\n",
       "      <td>0.0</td>\n",
       "      <td>2</td>\n",
       "      <td>2013-08-02ACT3</td>\n",
       "    </tr>\n",
       "    <tr>\n",
       "      <th>3</th>\n",
       "      <td>1750</td>\n",
       "      <td>14:08</td>\n",
       "      <td>Can</td>\n",
       "      <td>Handicap</td>\n",
       "      <td>54.0</td>\n",
       "      <td>8</td>\n",
       "      <td>GOOD</td>\n",
       "      <td>5.2</td>\n",
       "      <td>57.7</td>\n",
       "      <td>47.8</td>\n",
       "      <td>388.5</td>\n",
       "      <td>0</td>\n",
       "      <td>2.6</td>\n",
       "      <td>10.2</td>\n",
       "      <td>0.0</td>\n",
       "      <td>0.0</td>\n",
       "      <td>7</td>\n",
       "      <td>2013-08-02ACT4</td>\n",
       "    </tr>\n",
       "    <tr>\n",
       "      <th>4</th>\n",
       "      <td>1080</td>\n",
       "      <td>14:43</td>\n",
       "      <td>Can</td>\n",
       "      <td>Handicap</td>\n",
       "      <td>54.0</td>\n",
       "      <td>8</td>\n",
       "      <td>GOOD</td>\n",
       "      <td>8.6</td>\n",
       "      <td>84.7</td>\n",
       "      <td>273.7</td>\n",
       "      <td>1443.3</td>\n",
       "      <td>5</td>\n",
       "      <td>2.1</td>\n",
       "      <td>7.4</td>\n",
       "      <td>2.8</td>\n",
       "      <td>3574.8</td>\n",
       "      <td>NaN</td>\n",
       "      <td>2013-08-02ACT5</td>\n",
       "    </tr>\n",
       "    <tr>\n",
       "      <th>...</th>\n",
       "      <td>...</td>\n",
       "      <td>...</td>\n",
       "      <td>...</td>\n",
       "      <td>...</td>\n",
       "      <td>...</td>\n",
       "      <td>...</td>\n",
       "      <td>...</td>\n",
       "      <td>...</td>\n",
       "      <td>...</td>\n",
       "      <td>...</td>\n",
       "      <td>...</td>\n",
       "      <td>...</td>\n",
       "      <td>...</td>\n",
       "      <td>...</td>\n",
       "      <td>...</td>\n",
       "      <td>...</td>\n",
       "      <td>...</td>\n",
       "      <td>...</td>\n",
       "    </tr>\n",
       "    <tr>\n",
       "      <th>20144</th>\n",
       "      <td>1200</td>\n",
       "      <td>13:55</td>\n",
       "      <td>Can</td>\n",
       "      <td>Handicap</td>\n",
       "      <td>54.0</td>\n",
       "      <td>7</td>\n",
       "      <td>GOOD3</td>\n",
       "      <td>4.6</td>\n",
       "      <td>5.2</td>\n",
       "      <td>19.2</td>\n",
       "      <td>38.4</td>\n",
       "      <td>2</td>\n",
       "      <td>1.5</td>\n",
       "      <td>1.6</td>\n",
       "      <td>0.0</td>\n",
       "      <td>79.0</td>\n",
       "      <td>1</td>\n",
       "      <td>2013-02-14YEP4</td>\n",
       "    </tr>\n",
       "    <tr>\n",
       "      <th>20145</th>\n",
       "      <td>1300</td>\n",
       "      <td>14:30</td>\n",
       "      <td>Can</td>\n",
       "      <td>Handicap</td>\n",
       "      <td>54.0</td>\n",
       "      <td>8</td>\n",
       "      <td>GOOD3</td>\n",
       "      <td>6.4</td>\n",
       "      <td>12.6</td>\n",
       "      <td>30.2</td>\n",
       "      <td>92.5</td>\n",
       "      <td>6</td>\n",
       "      <td>2.8</td>\n",
       "      <td>2.2</td>\n",
       "      <td>0.0</td>\n",
       "      <td>209.0</td>\n",
       "      <td>1 5</td>\n",
       "      <td>2013-02-14YEP5</td>\n",
       "    </tr>\n",
       "    <tr>\n",
       "      <th>20146</th>\n",
       "      <td>900</td>\n",
       "      <td>15:10</td>\n",
       "      <td>Can</td>\n",
       "      <td>Handicap</td>\n",
       "      <td>54.0</td>\n",
       "      <td>12</td>\n",
       "      <td>GOOD3</td>\n",
       "      <td>7.2</td>\n",
       "      <td>11.8</td>\n",
       "      <td>30.7</td>\n",
       "      <td>330.7</td>\n",
       "      <td>4</td>\n",
       "      <td>2.0</td>\n",
       "      <td>1.8</td>\n",
       "      <td>3.7</td>\n",
       "      <td>1584.2</td>\n",
       "      <td>5</td>\n",
       "      <td>2013-02-14YEP6</td>\n",
       "    </tr>\n",
       "    <tr>\n",
       "      <th>20147</th>\n",
       "      <td>1300</td>\n",
       "      <td>15:50</td>\n",
       "      <td>Can</td>\n",
       "      <td>Handicap</td>\n",
       "      <td>54.0</td>\n",
       "      <td>9</td>\n",
       "      <td>GOOD3</td>\n",
       "      <td>4.5</td>\n",
       "      <td>4.8</td>\n",
       "      <td>9.1</td>\n",
       "      <td>78.5</td>\n",
       "      <td>2</td>\n",
       "      <td>1.8</td>\n",
       "      <td>1.7</td>\n",
       "      <td>3.1</td>\n",
       "      <td>362.8</td>\n",
       "      <td>NaN</td>\n",
       "      <td>2013-02-14YEP7</td>\n",
       "    </tr>\n",
       "    <tr>\n",
       "      <th>20148</th>\n",
       "      <td>1100</td>\n",
       "      <td>16:30</td>\n",
       "      <td>Can</td>\n",
       "      <td>Handicap</td>\n",
       "      <td>54.0</td>\n",
       "      <td>14</td>\n",
       "      <td>GOOD3</td>\n",
       "      <td>14.7</td>\n",
       "      <td>58.1</td>\n",
       "      <td>149.7</td>\n",
       "      <td>856.4</td>\n",
       "      <td>2</td>\n",
       "      <td>4.0</td>\n",
       "      <td>3.3</td>\n",
       "      <td>1.6</td>\n",
       "      <td>6389.6</td>\n",
       "      <td>13 14</td>\n",
       "      <td>2013-02-14YEP8</td>\n",
       "    </tr>\n",
       "  </tbody>\n",
       "</table>\n",
       "<p>20149 rows × 18 columns</p>\n",
       "</div>"
      ],
      "text/plain": [
       "       DIST   JUMP CLAIM     WEIGHTS  LIMIT  NREC  GOING    WN    QN     EX  \\\n",
       "0      1080  12:23   Can  Set Weight    0.0    12   GOOD   4.0   8.1   18.2   \n",
       "1      1206  12:58   Can    Handicap   54.0     7   GOOD   3.0   4.3   12.2   \n",
       "2      1080  13:33   Can    Handicap   54.0     7   GOOD   7.9  10.0   32.4   \n",
       "3      1750  14:08   Can    Handicap   54.0     8   GOOD   5.2  57.7   47.8   \n",
       "4      1080  14:43   Can    Handicap   54.0     8   GOOD   8.6  84.7  273.7   \n",
       "...     ...    ...   ...         ...    ...   ...    ...   ...   ...    ...   \n",
       "20144  1200  13:55   Can    Handicap   54.0     7  GOOD3   4.6   5.2   19.2   \n",
       "20145  1300  14:30   Can    Handicap   54.0     8  GOOD3   6.4  12.6   30.2   \n",
       "20146   900  15:10   Can    Handicap   54.0    12  GOOD3   7.2  11.8   30.7   \n",
       "20147  1300  15:50   Can    Handicap   54.0     9  GOOD3   4.5   4.8    9.1   \n",
       "20148  1100  16:30   Can    Handicap   54.0    14  GOOD3  14.7  58.1  149.7   \n",
       "\n",
       "           TT  T4  PD1   PD2  PD3      FF   SCRS          RACEID  \n",
       "0       120.6   0  1.3   2.1  3.2     0.0   1 11  2013-08-02ACT1  \n",
       "1        24.0   0  1.4   1.8  0.0     0.0      6  2013-08-02ACT2  \n",
       "2       146.9   0  3.0   2.3  0.0     0.0      2  2013-08-02ACT3  \n",
       "3       388.5   0  2.6  10.2  0.0     0.0      7  2013-08-02ACT4  \n",
       "4      1443.3   5  2.1   7.4  2.8  3574.8    NaN  2013-08-02ACT5  \n",
       "...       ...  ..  ...   ...  ...     ...    ...             ...  \n",
       "20144    38.4   2  1.5   1.6  0.0    79.0      1  2013-02-14YEP4  \n",
       "20145    92.5   6  2.8   2.2  0.0   209.0    1 5  2013-02-14YEP5  \n",
       "20146   330.7   4  2.0   1.8  3.7  1584.2      5  2013-02-14YEP6  \n",
       "20147    78.5   2  1.8   1.7  3.1   362.8    NaN  2013-02-14YEP7  \n",
       "20148   856.4   2  4.0   3.3  1.6  6389.6  13 14  2013-02-14YEP8  \n",
       "\n",
       "[20149 rows x 18 columns]"
      ]
     },
     "execution_count": 493,
     "metadata": {},
     "output_type": "execute_result"
    }
   ],
   "source": [
    "race_data_new "
   ]
  },
  {
   "cell_type": "code",
   "execution_count": 494,
   "metadata": {},
   "outputs": [
    {
     "data": {
      "text/html": [
       "<div>\n",
       "<style scoped>\n",
       "    .dataframe tbody tr th:only-of-type {\n",
       "        vertical-align: middle;\n",
       "    }\n",
       "\n",
       "    .dataframe tbody tr th {\n",
       "        vertical-align: top;\n",
       "    }\n",
       "\n",
       "    .dataframe thead th {\n",
       "        text-align: right;\n",
       "    }\n",
       "</style>\n",
       "<table border=\"1\" class=\"dataframe\">\n",
       "  <thead>\n",
       "    <tr style=\"text-align: right;\">\n",
       "      <th></th>\n",
       "      <th>DIST</th>\n",
       "      <th>JUMP</th>\n",
       "      <th>CLAIM</th>\n",
       "      <th>WEIGHTS</th>\n",
       "      <th>LIMIT</th>\n",
       "      <th>NREC</th>\n",
       "      <th>GOING</th>\n",
       "      <th>WN</th>\n",
       "      <th>QN</th>\n",
       "      <th>EX</th>\n",
       "      <th>TT</th>\n",
       "      <th>T4</th>\n",
       "      <th>PD1</th>\n",
       "      <th>PD2</th>\n",
       "      <th>PD3</th>\n",
       "      <th>FF</th>\n",
       "      <th>SCRS</th>\n",
       "      <th>RACEID</th>\n",
       "    </tr>\n",
       "  </thead>\n",
       "  <tbody>\n",
       "    <tr>\n",
       "      <th>20147</th>\n",
       "      <td>1300</td>\n",
       "      <td>15:50</td>\n",
       "      <td>Can</td>\n",
       "      <td>Handicap</td>\n",
       "      <td>54.0</td>\n",
       "      <td>9</td>\n",
       "      <td>GOOD3</td>\n",
       "      <td>4.5</td>\n",
       "      <td>4.8</td>\n",
       "      <td>9.1</td>\n",
       "      <td>78.5</td>\n",
       "      <td>2</td>\n",
       "      <td>1.8</td>\n",
       "      <td>1.7</td>\n",
       "      <td>3.1</td>\n",
       "      <td>362.8</td>\n",
       "      <td>NaN</td>\n",
       "      <td>2013-02-14YEP7</td>\n",
       "    </tr>\n",
       "  </tbody>\n",
       "</table>\n",
       "</div>"
      ],
      "text/plain": [
       "       DIST   JUMP CLAIM   WEIGHTS  LIMIT  NREC  GOING   WN   QN   EX    TT  \\\n",
       "20147  1300  15:50   Can  Handicap   54.0     9  GOOD3  4.5  4.8  9.1  78.5   \n",
       "\n",
       "       T4  PD1  PD2  PD3     FF SCRS          RACEID  \n",
       "20147   2  1.8  1.7  3.1  362.8  NaN  2013-02-14YEP7  "
      ]
     },
     "execution_count": 494,
     "metadata": {},
     "output_type": "execute_result"
    }
   ],
   "source": [
    "race_data_new[race_data_new['RACEID']=='2013-02-14YEP7']"
   ]
  },
  {
   "cell_type": "code",
   "execution_count": 495,
   "metadata": {},
   "outputs": [
    {
     "data": {
      "text/plain": [
       "20149"
      ]
     },
     "execution_count": 495,
     "metadata": {},
     "output_type": "execute_result"
    }
   ],
   "source": [
    "race_data_new['RACEID'].nunique()"
   ]
  },
  {
   "cell_type": "code",
   "execution_count": 496,
   "metadata": {},
   "outputs": [],
   "source": [
    "horse_past_race=pd.merge(horse_past_merge,race_data_new,on='RACEID')"
   ]
  },
  {
   "cell_type": "code",
   "execution_count": 497,
   "metadata": {},
   "outputs": [
    {
     "data": {
      "text/plain": [
       "(194605, 47)"
      ]
     },
     "execution_count": 497,
     "metadata": {},
     "output_type": "execute_result"
    }
   ],
   "source": [
    "horse_past_race.shape"
   ]
  },
  {
   "cell_type": "code",
   "execution_count": 498,
   "metadata": {},
   "outputs": [],
   "source": [
    "# Merged all the Dataframes "
   ]
  },
  {
   "cell_type": "code",
   "execution_count": 499,
   "metadata": {},
   "outputs": [
    {
     "name": "stdout",
     "output_type": "stream",
     "text": [
      "<class 'pandas.core.frame.DataFrame'>\n",
      "Int64Index: 194605 entries, 0 to 194604\n",
      "Data columns (total 47 columns):\n",
      " #   Column       Non-Null Count   Dtype  \n",
      "---  ------       --------------   -----  \n",
      " 0   CTY          42939 non-null   object \n",
      " 1   JOCKEY       194551 non-null  object \n",
      " 2   ALL          194605 non-null  float64\n",
      " 3   WGT          194605 non-null  float64\n",
      " 4   AGE          194605 non-null  float64\n",
      " 5   SEX          194605 non-null  object \n",
      " 6   WINS         194605 non-null  float64\n",
      " 7   PL2          194605 non-null  float64\n",
      " 8   PL3          194605 non-null  float64\n",
      " 9   DAYS         194605 non-null  float64\n",
      " 10  TBASE        194605 non-null  float64\n",
      " 11  XPEAK        194605 non-null  float64\n",
      " 12  POS          194605 non-null  float64\n",
      " 13  JRT          194605 non-null  float64\n",
      " 14  RACEID       194605 non-null  object \n",
      " 15  HORSEID      194605 non-null  object \n",
      " 16  JockeyWinP   194605 non-null  float64\n",
      " 17  JockeyRATE   194605 non-null  float64\n",
      " 18  TrainerWinP  194605 non-null  float64\n",
      " 19  TrainerRATE  194605 non-null  float64\n",
      " 20  FIN          194605 non-null  float64\n",
      " 21  G            194605 non-null  object \n",
      " 22  TIME         194605 non-null  float64\n",
      " 23  TW           194605 non-null  float64\n",
      " 24  EI           194605 non-null  float64\n",
      " 25  FO           194605 non-null  float64\n",
      " 26  TRT          194605 non-null  float64\n",
      " 27  WRT          193405 non-null  float64\n",
      " 28  PC1          194605 non-null  float64\n",
      " 29  PC2          194605 non-null  float64\n",
      " 30  DIST         194605 non-null  int64  \n",
      " 31  JUMP         194605 non-null  object \n",
      " 32  CLAIM        194605 non-null  object \n",
      " 33  WEIGHTS      194605 non-null  object \n",
      " 34  LIMIT        194605 non-null  float64\n",
      " 35  NREC         194605 non-null  int64  \n",
      " 36  GOING        194605 non-null  object \n",
      " 37  WN           194605 non-null  float64\n",
      " 38  QN           194605 non-null  float64\n",
      " 39  EX           194605 non-null  float64\n",
      " 40  TT           194605 non-null  float64\n",
      " 41  T4           194605 non-null  int64  \n",
      " 42  PD1          194605 non-null  float64\n",
      " 43  PD2          194605 non-null  float64\n",
      " 44  PD3          194605 non-null  float64\n",
      " 45  FF           194605 non-null  float64\n",
      " 46  SCRS         144260 non-null  object \n",
      "dtypes: float64(33), int64(3), object(11)\n",
      "memory usage: 71.3+ MB\n"
     ]
    }
   ],
   "source": [
    "horse_past_race.info()"
   ]
  },
  {
   "cell_type": "code",
   "execution_count": 500,
   "metadata": {
    "scrolled": true
   },
   "outputs": [
    {
     "data": {
      "text/plain": [
       "CTY            151666\n",
       "JOCKEY             54\n",
       "ALL                 0\n",
       "WGT                 0\n",
       "AGE                 0\n",
       "SEX                 0\n",
       "WINS                0\n",
       "PL2                 0\n",
       "PL3                 0\n",
       "DAYS                0\n",
       "TBASE               0\n",
       "XPEAK               0\n",
       "POS                 0\n",
       "JRT                 0\n",
       "RACEID              0\n",
       "HORSEID             0\n",
       "JockeyWinP          0\n",
       "JockeyRATE          0\n",
       "TrainerWinP         0\n",
       "TrainerRATE         0\n",
       "FIN                 0\n",
       "G                   0\n",
       "TIME                0\n",
       "TW                  0\n",
       "EI                  0\n",
       "FO                  0\n",
       "TRT                 0\n",
       "WRT              1200\n",
       "PC1                 0\n",
       "PC2                 0\n",
       "DIST                0\n",
       "JUMP                0\n",
       "CLAIM               0\n",
       "WEIGHTS             0\n",
       "LIMIT               0\n",
       "NREC                0\n",
       "GOING               0\n",
       "WN                  0\n",
       "QN                  0\n",
       "EX                  0\n",
       "TT                  0\n",
       "T4                  0\n",
       "PD1                 0\n",
       "PD2                 0\n",
       "PD3                 0\n",
       "FF                  0\n",
       "SCRS            50345\n",
       "dtype: int64"
      ]
     },
     "execution_count": 500,
     "metadata": {},
     "output_type": "execute_result"
    }
   ],
   "source": [
    "horse_past_race.isnull().sum()"
   ]
  },
  {
   "cell_type": "code",
   "execution_count": 501,
   "metadata": {},
   "outputs": [
    {
     "data": {
      "text/html": [
       "<div>\n",
       "<style scoped>\n",
       "    .dataframe tbody tr th:only-of-type {\n",
       "        vertical-align: middle;\n",
       "    }\n",
       "\n",
       "    .dataframe tbody tr th {\n",
       "        vertical-align: top;\n",
       "    }\n",
       "\n",
       "    .dataframe thead th {\n",
       "        text-align: right;\n",
       "    }\n",
       "</style>\n",
       "<table border=\"1\" class=\"dataframe\">\n",
       "  <thead>\n",
       "    <tr style=\"text-align: right;\">\n",
       "      <th></th>\n",
       "      <th>0</th>\n",
       "      <th>1</th>\n",
       "      <th>2</th>\n",
       "      <th>3</th>\n",
       "      <th>4</th>\n",
       "    </tr>\n",
       "  </thead>\n",
       "  <tbody>\n",
       "    <tr>\n",
       "      <th>CTY</th>\n",
       "      <td>NaN</td>\n",
       "      <td>NaN</td>\n",
       "      <td>NaN</td>\n",
       "      <td>NaN</td>\n",
       "      <td>NaN</td>\n",
       "    </tr>\n",
       "    <tr>\n",
       "      <th>JOCKEY</th>\n",
       "      <td>K JENNINGS</td>\n",
       "      <td>W COSTIN</td>\n",
       "      <td>B CLARK</td>\n",
       "      <td>S POLLARD</td>\n",
       "      <td>J KISSICK</td>\n",
       "    </tr>\n",
       "    <tr>\n",
       "      <th>ALL</th>\n",
       "      <td>2</td>\n",
       "      <td>2</td>\n",
       "      <td>0</td>\n",
       "      <td>0</td>\n",
       "      <td>0</td>\n",
       "    </tr>\n",
       "    <tr>\n",
       "      <th>WGT</th>\n",
       "      <td>57</td>\n",
       "      <td>57</td>\n",
       "      <td>57</td>\n",
       "      <td>57</td>\n",
       "      <td>57</td>\n",
       "    </tr>\n",
       "    <tr>\n",
       "      <th>AGE</th>\n",
       "      <td>4</td>\n",
       "      <td>4</td>\n",
       "      <td>4</td>\n",
       "      <td>5</td>\n",
       "      <td>4</td>\n",
       "    </tr>\n",
       "    <tr>\n",
       "      <th>SEX</th>\n",
       "      <td>m</td>\n",
       "      <td>m</td>\n",
       "      <td>m</td>\n",
       "      <td>m</td>\n",
       "      <td>m</td>\n",
       "    </tr>\n",
       "    <tr>\n",
       "      <th>WINS</th>\n",
       "      <td>0</td>\n",
       "      <td>0</td>\n",
       "      <td>0</td>\n",
       "      <td>0</td>\n",
       "      <td>0</td>\n",
       "    </tr>\n",
       "    <tr>\n",
       "      <th>PL2</th>\n",
       "      <td>0</td>\n",
       "      <td>0</td>\n",
       "      <td>1</td>\n",
       "      <td>2</td>\n",
       "      <td>1</td>\n",
       "    </tr>\n",
       "    <tr>\n",
       "      <th>PL3</th>\n",
       "      <td>0</td>\n",
       "      <td>0</td>\n",
       "      <td>2</td>\n",
       "      <td>2</td>\n",
       "      <td>0</td>\n",
       "    </tr>\n",
       "    <tr>\n",
       "      <th>DAYS</th>\n",
       "      <td>999</td>\n",
       "      <td>124</td>\n",
       "      <td>14</td>\n",
       "      <td>134</td>\n",
       "      <td>160</td>\n",
       "    </tr>\n",
       "    <tr>\n",
       "      <th>TBASE</th>\n",
       "      <td>0</td>\n",
       "      <td>51.2</td>\n",
       "      <td>45.6</td>\n",
       "      <td>54.3</td>\n",
       "      <td>62.1</td>\n",
       "    </tr>\n",
       "    <tr>\n",
       "      <th>XPEAK</th>\n",
       "      <td>0</td>\n",
       "      <td>51.4</td>\n",
       "      <td>51.8</td>\n",
       "      <td>54.5</td>\n",
       "      <td>62.4</td>\n",
       "    </tr>\n",
       "    <tr>\n",
       "      <th>POS</th>\n",
       "      <td>9</td>\n",
       "      <td>4</td>\n",
       "      <td>2</td>\n",
       "      <td>5</td>\n",
       "      <td>1</td>\n",
       "    </tr>\n",
       "    <tr>\n",
       "      <th>JRT</th>\n",
       "      <td>5</td>\n",
       "      <td>5</td>\n",
       "      <td>5</td>\n",
       "      <td>5</td>\n",
       "      <td>5</td>\n",
       "    </tr>\n",
       "    <tr>\n",
       "      <th>RACEID</th>\n",
       "      <td>2013-08-02ACT1</td>\n",
       "      <td>2013-08-02ACT1</td>\n",
       "      <td>2013-08-02ACT1</td>\n",
       "      <td>2013-08-02ACT1</td>\n",
       "      <td>2013-08-02ACT1</td>\n",
       "    </tr>\n",
       "    <tr>\n",
       "      <th>HORSEID</th>\n",
       "      <td>2013-08-02Argentine Queen1</td>\n",
       "      <td>2013-08-02Capable Gal1</td>\n",
       "      <td>2013-08-02Diamond Player1</td>\n",
       "      <td>2013-08-02Milly De Vain1</td>\n",
       "      <td>2013-08-02Written Glory1</td>\n",
       "    </tr>\n",
       "    <tr>\n",
       "      <th>JockeyWinP</th>\n",
       "      <td>12.3</td>\n",
       "      <td>6.2</td>\n",
       "      <td>6.3</td>\n",
       "      <td>5.6</td>\n",
       "      <td>10.5</td>\n",
       "    </tr>\n",
       "    <tr>\n",
       "      <th>JockeyRATE</th>\n",
       "      <td>3.7</td>\n",
       "      <td>4.6</td>\n",
       "      <td>5.4</td>\n",
       "      <td>4.7</td>\n",
       "      <td>3.1</td>\n",
       "    </tr>\n",
       "    <tr>\n",
       "      <th>TrainerWinP</th>\n",
       "      <td>3.8</td>\n",
       "      <td>11.6</td>\n",
       "      <td>10.8</td>\n",
       "      <td>5.7</td>\n",
       "      <td>5.9</td>\n",
       "    </tr>\n",
       "    <tr>\n",
       "      <th>TrainerRATE</th>\n",
       "      <td>7.5</td>\n",
       "      <td>4.1</td>\n",
       "      <td>4.2</td>\n",
       "      <td>6.7</td>\n",
       "      <td>7.3</td>\n",
       "    </tr>\n",
       "    <tr>\n",
       "      <th>FIN</th>\n",
       "      <td>2</td>\n",
       "      <td>6</td>\n",
       "      <td>5</td>\n",
       "      <td>3</td>\n",
       "      <td>1</td>\n",
       "    </tr>\n",
       "    <tr>\n",
       "      <th>G</th>\n",
       "      <td>G</td>\n",
       "      <td>G</td>\n",
       "      <td>G</td>\n",
       "      <td>G</td>\n",
       "      <td>G</td>\n",
       "    </tr>\n",
       "    <tr>\n",
       "      <th>TIME</th>\n",
       "      <td>63.49</td>\n",
       "      <td>63.49</td>\n",
       "      <td>63.49</td>\n",
       "      <td>63.49</td>\n",
       "      <td>63.49</td>\n",
       "    </tr>\n",
       "    <tr>\n",
       "      <th>TW</th>\n",
       "      <td>0</td>\n",
       "      <td>0</td>\n",
       "      <td>0</td>\n",
       "      <td>0</td>\n",
       "      <td>0</td>\n",
       "    </tr>\n",
       "    <tr>\n",
       "      <th>EI</th>\n",
       "      <td>1</td>\n",
       "      <td>5</td>\n",
       "      <td>4</td>\n",
       "      <td>8</td>\n",
       "      <td>2</td>\n",
       "    </tr>\n",
       "    <tr>\n",
       "      <th>FO</th>\n",
       "      <td>1</td>\n",
       "      <td>4</td>\n",
       "      <td>3</td>\n",
       "      <td>6</td>\n",
       "      <td>2</td>\n",
       "    </tr>\n",
       "    <tr>\n",
       "      <th>TRT</th>\n",
       "      <td>45.9</td>\n",
       "      <td>42.1</td>\n",
       "      <td>43.5</td>\n",
       "      <td>45.9</td>\n",
       "      <td>52</td>\n",
       "    </tr>\n",
       "    <tr>\n",
       "      <th>WRT</th>\n",
       "      <td>1</td>\n",
       "      <td>0</td>\n",
       "      <td>0.2</td>\n",
       "      <td>1</td>\n",
       "      <td>2.2</td>\n",
       "    </tr>\n",
       "    <tr>\n",
       "      <th>PC1</th>\n",
       "      <td>-11.2184</td>\n",
       "      <td>-8.62099</td>\n",
       "      <td>-6.08834</td>\n",
       "      <td>-11.0371</td>\n",
       "      <td>4.04668</td>\n",
       "    </tr>\n",
       "    <tr>\n",
       "      <th>PC2</th>\n",
       "      <td>-2.33358</td>\n",
       "      <td>-1.47571</td>\n",
       "      <td>4.8135</td>\n",
       "      <td>-1.87204</td>\n",
       "      <td>-2.31456</td>\n",
       "    </tr>\n",
       "    <tr>\n",
       "      <th>DIST</th>\n",
       "      <td>1080</td>\n",
       "      <td>1080</td>\n",
       "      <td>1080</td>\n",
       "      <td>1080</td>\n",
       "      <td>1080</td>\n",
       "    </tr>\n",
       "    <tr>\n",
       "      <th>JUMP</th>\n",
       "      <td>12:23</td>\n",
       "      <td>12:23</td>\n",
       "      <td>12:23</td>\n",
       "      <td>12:23</td>\n",
       "      <td>12:23</td>\n",
       "    </tr>\n",
       "    <tr>\n",
       "      <th>CLAIM</th>\n",
       "      <td>Can</td>\n",
       "      <td>Can</td>\n",
       "      <td>Can</td>\n",
       "      <td>Can</td>\n",
       "      <td>Can</td>\n",
       "    </tr>\n",
       "    <tr>\n",
       "      <th>WEIGHTS</th>\n",
       "      <td>Set Weight</td>\n",
       "      <td>Set Weight</td>\n",
       "      <td>Set Weight</td>\n",
       "      <td>Set Weight</td>\n",
       "      <td>Set Weight</td>\n",
       "    </tr>\n",
       "    <tr>\n",
       "      <th>LIMIT</th>\n",
       "      <td>0</td>\n",
       "      <td>0</td>\n",
       "      <td>0</td>\n",
       "      <td>0</td>\n",
       "      <td>0</td>\n",
       "    </tr>\n",
       "    <tr>\n",
       "      <th>NREC</th>\n",
       "      <td>12</td>\n",
       "      <td>12</td>\n",
       "      <td>12</td>\n",
       "      <td>12</td>\n",
       "      <td>12</td>\n",
       "    </tr>\n",
       "    <tr>\n",
       "      <th>GOING</th>\n",
       "      <td>GOOD</td>\n",
       "      <td>GOOD</td>\n",
       "      <td>GOOD</td>\n",
       "      <td>GOOD</td>\n",
       "      <td>GOOD</td>\n",
       "    </tr>\n",
       "    <tr>\n",
       "      <th>WN</th>\n",
       "      <td>4</td>\n",
       "      <td>4</td>\n",
       "      <td>4</td>\n",
       "      <td>4</td>\n",
       "      <td>4</td>\n",
       "    </tr>\n",
       "    <tr>\n",
       "      <th>QN</th>\n",
       "      <td>8.1</td>\n",
       "      <td>8.1</td>\n",
       "      <td>8.1</td>\n",
       "      <td>8.1</td>\n",
       "      <td>8.1</td>\n",
       "    </tr>\n",
       "    <tr>\n",
       "      <th>EX</th>\n",
       "      <td>18.2</td>\n",
       "      <td>18.2</td>\n",
       "      <td>18.2</td>\n",
       "      <td>18.2</td>\n",
       "      <td>18.2</td>\n",
       "    </tr>\n",
       "    <tr>\n",
       "      <th>TT</th>\n",
       "      <td>120.6</td>\n",
       "      <td>120.6</td>\n",
       "      <td>120.6</td>\n",
       "      <td>120.6</td>\n",
       "      <td>120.6</td>\n",
       "    </tr>\n",
       "    <tr>\n",
       "      <th>T4</th>\n",
       "      <td>0</td>\n",
       "      <td>0</td>\n",
       "      <td>0</td>\n",
       "      <td>0</td>\n",
       "      <td>0</td>\n",
       "    </tr>\n",
       "    <tr>\n",
       "      <th>PD1</th>\n",
       "      <td>1.3</td>\n",
       "      <td>1.3</td>\n",
       "      <td>1.3</td>\n",
       "      <td>1.3</td>\n",
       "      <td>1.3</td>\n",
       "    </tr>\n",
       "    <tr>\n",
       "      <th>PD2</th>\n",
       "      <td>2.1</td>\n",
       "      <td>2.1</td>\n",
       "      <td>2.1</td>\n",
       "      <td>2.1</td>\n",
       "      <td>2.1</td>\n",
       "    </tr>\n",
       "    <tr>\n",
       "      <th>PD3</th>\n",
       "      <td>3.2</td>\n",
       "      <td>3.2</td>\n",
       "      <td>3.2</td>\n",
       "      <td>3.2</td>\n",
       "      <td>3.2</td>\n",
       "    </tr>\n",
       "    <tr>\n",
       "      <th>FF</th>\n",
       "      <td>0</td>\n",
       "      <td>0</td>\n",
       "      <td>0</td>\n",
       "      <td>0</td>\n",
       "      <td>0</td>\n",
       "    </tr>\n",
       "    <tr>\n",
       "      <th>SCRS</th>\n",
       "      <td>1 11</td>\n",
       "      <td>1 11</td>\n",
       "      <td>1 11</td>\n",
       "      <td>1 11</td>\n",
       "      <td>1 11</td>\n",
       "    </tr>\n",
       "  </tbody>\n",
       "</table>\n",
       "</div>"
      ],
      "text/plain": [
       "                                      0                       1  \\\n",
       "CTY                                 NaN                     NaN   \n",
       "JOCKEY                       K JENNINGS                W COSTIN   \n",
       "ALL                                   2                       2   \n",
       "WGT                                  57                      57   \n",
       "AGE                                   4                       4   \n",
       "SEX                                   m                       m   \n",
       "WINS                                  0                       0   \n",
       "PL2                                   0                       0   \n",
       "PL3                                   0                       0   \n",
       "DAYS                                999                     124   \n",
       "TBASE                                 0                    51.2   \n",
       "XPEAK                                 0                    51.4   \n",
       "POS                                   9                       4   \n",
       "JRT                                   5                       5   \n",
       "RACEID                   2013-08-02ACT1          2013-08-02ACT1   \n",
       "HORSEID      2013-08-02Argentine Queen1  2013-08-02Capable Gal1   \n",
       "JockeyWinP                         12.3                     6.2   \n",
       "JockeyRATE                          3.7                     4.6   \n",
       "TrainerWinP                         3.8                    11.6   \n",
       "TrainerRATE                         7.5                     4.1   \n",
       "FIN                                   2                       6   \n",
       "G                                     G                       G   \n",
       "TIME                              63.49                   63.49   \n",
       "TW                                    0                       0   \n",
       "EI                                    1                       5   \n",
       "FO                                    1                       4   \n",
       "TRT                                45.9                    42.1   \n",
       "WRT                                   1                       0   \n",
       "PC1                            -11.2184                -8.62099   \n",
       "PC2                            -2.33358                -1.47571   \n",
       "DIST                               1080                    1080   \n",
       "JUMP                              12:23                   12:23   \n",
       "CLAIM                               Can                     Can   \n",
       "WEIGHTS                      Set Weight              Set Weight   \n",
       "LIMIT                                 0                       0   \n",
       "NREC                                 12                      12   \n",
       "GOING                              GOOD                    GOOD   \n",
       "WN                                    4                       4   \n",
       "QN                                  8.1                     8.1   \n",
       "EX                                 18.2                    18.2   \n",
       "TT                                120.6                   120.6   \n",
       "T4                                    0                       0   \n",
       "PD1                                 1.3                     1.3   \n",
       "PD2                                 2.1                     2.1   \n",
       "PD3                                 3.2                     3.2   \n",
       "FF                                    0                       0   \n",
       "SCRS                               1 11                    1 11   \n",
       "\n",
       "                                     2                         3  \\\n",
       "CTY                                NaN                       NaN   \n",
       "JOCKEY                         B CLARK                 S POLLARD   \n",
       "ALL                                  0                         0   \n",
       "WGT                                 57                        57   \n",
       "AGE                                  4                         5   \n",
       "SEX                                  m                         m   \n",
       "WINS                                 0                         0   \n",
       "PL2                                  1                         2   \n",
       "PL3                                  2                         2   \n",
       "DAYS                                14                       134   \n",
       "TBASE                             45.6                      54.3   \n",
       "XPEAK                             51.8                      54.5   \n",
       "POS                                  2                         5   \n",
       "JRT                                  5                         5   \n",
       "RACEID                  2013-08-02ACT1            2013-08-02ACT1   \n",
       "HORSEID      2013-08-02Diamond Player1  2013-08-02Milly De Vain1   \n",
       "JockeyWinP                         6.3                       5.6   \n",
       "JockeyRATE                         5.4                       4.7   \n",
       "TrainerWinP                       10.8                       5.7   \n",
       "TrainerRATE                        4.2                       6.7   \n",
       "FIN                                  5                         3   \n",
       "G                                    G                         G   \n",
       "TIME                             63.49                     63.49   \n",
       "TW                                   0                         0   \n",
       "EI                                   4                         8   \n",
       "FO                                   3                         6   \n",
       "TRT                               43.5                      45.9   \n",
       "WRT                                0.2                         1   \n",
       "PC1                           -6.08834                  -11.0371   \n",
       "PC2                             4.8135                  -1.87204   \n",
       "DIST                              1080                      1080   \n",
       "JUMP                             12:23                     12:23   \n",
       "CLAIM                              Can                       Can   \n",
       "WEIGHTS                     Set Weight                Set Weight   \n",
       "LIMIT                                0                         0   \n",
       "NREC                                12                        12   \n",
       "GOING                             GOOD                      GOOD   \n",
       "WN                                   4                         4   \n",
       "QN                                 8.1                       8.1   \n",
       "EX                                18.2                      18.2   \n",
       "TT                               120.6                     120.6   \n",
       "T4                                   0                         0   \n",
       "PD1                                1.3                       1.3   \n",
       "PD2                                2.1                       2.1   \n",
       "PD3                                3.2                       3.2   \n",
       "FF                                   0                         0   \n",
       "SCRS                              1 11                      1 11   \n",
       "\n",
       "                                    4  \n",
       "CTY                               NaN  \n",
       "JOCKEY                      J KISSICK  \n",
       "ALL                                 0  \n",
       "WGT                                57  \n",
       "AGE                                 4  \n",
       "SEX                                 m  \n",
       "WINS                                0  \n",
       "PL2                                 1  \n",
       "PL3                                 0  \n",
       "DAYS                              160  \n",
       "TBASE                            62.1  \n",
       "XPEAK                            62.4  \n",
       "POS                                 1  \n",
       "JRT                                 5  \n",
       "RACEID                 2013-08-02ACT1  \n",
       "HORSEID      2013-08-02Written Glory1  \n",
       "JockeyWinP                       10.5  \n",
       "JockeyRATE                        3.1  \n",
       "TrainerWinP                       5.9  \n",
       "TrainerRATE                       7.3  \n",
       "FIN                                 1  \n",
       "G                                   G  \n",
       "TIME                            63.49  \n",
       "TW                                  0  \n",
       "EI                                  2  \n",
       "FO                                  2  \n",
       "TRT                                52  \n",
       "WRT                               2.2  \n",
       "PC1                           4.04668  \n",
       "PC2                          -2.31456  \n",
       "DIST                             1080  \n",
       "JUMP                            12:23  \n",
       "CLAIM                             Can  \n",
       "WEIGHTS                    Set Weight  \n",
       "LIMIT                               0  \n",
       "NREC                               12  \n",
       "GOING                            GOOD  \n",
       "WN                                  4  \n",
       "QN                                8.1  \n",
       "EX                               18.2  \n",
       "TT                              120.6  \n",
       "T4                                  0  \n",
       "PD1                               1.3  \n",
       "PD2                               2.1  \n",
       "PD3                               3.2  \n",
       "FF                                  0  \n",
       "SCRS                             1 11  "
      ]
     },
     "execution_count": 501,
     "metadata": {},
     "output_type": "execute_result"
    }
   ],
   "source": [
    "horse_past_race.head().T"
   ]
  },
  {
   "cell_type": "code",
   "execution_count": 502,
   "metadata": {},
   "outputs": [
    {
     "data": {
      "text/html": [
       "<div>\n",
       "<style scoped>\n",
       "    .dataframe tbody tr th:only-of-type {\n",
       "        vertical-align: middle;\n",
       "    }\n",
       "\n",
       "    .dataframe tbody tr th {\n",
       "        vertical-align: top;\n",
       "    }\n",
       "\n",
       "    .dataframe thead th {\n",
       "        text-align: right;\n",
       "    }\n",
       "</style>\n",
       "<table border=\"1\" class=\"dataframe\">\n",
       "  <thead>\n",
       "    <tr style=\"text-align: right;\">\n",
       "      <th></th>\n",
       "      <th>CTY</th>\n",
       "      <th>JOCKEY</th>\n",
       "      <th>ALL</th>\n",
       "      <th>WGT</th>\n",
       "      <th>AGE</th>\n",
       "      <th>SEX</th>\n",
       "      <th>WINS</th>\n",
       "      <th>PL2</th>\n",
       "      <th>PL3</th>\n",
       "      <th>DAYS</th>\n",
       "      <th>...</th>\n",
       "      <th>WN</th>\n",
       "      <th>QN</th>\n",
       "      <th>EX</th>\n",
       "      <th>TT</th>\n",
       "      <th>T4</th>\n",
       "      <th>PD1</th>\n",
       "      <th>PD2</th>\n",
       "      <th>PD3</th>\n",
       "      <th>FF</th>\n",
       "      <th>SCRS</th>\n",
       "    </tr>\n",
       "  </thead>\n",
       "  <tbody>\n",
       "    <tr>\n",
       "      <th>0</th>\n",
       "      <td>NaN</td>\n",
       "      <td>K JENNINGS</td>\n",
       "      <td>2.0</td>\n",
       "      <td>57.0</td>\n",
       "      <td>4.0</td>\n",
       "      <td>m</td>\n",
       "      <td>0.0</td>\n",
       "      <td>0.0</td>\n",
       "      <td>0.0</td>\n",
       "      <td>999.0</td>\n",
       "      <td>...</td>\n",
       "      <td>4.0</td>\n",
       "      <td>8.1</td>\n",
       "      <td>18.2</td>\n",
       "      <td>120.6</td>\n",
       "      <td>0</td>\n",
       "      <td>1.3</td>\n",
       "      <td>2.1</td>\n",
       "      <td>3.2</td>\n",
       "      <td>0.0</td>\n",
       "      <td>1 11</td>\n",
       "    </tr>\n",
       "    <tr>\n",
       "      <th>1</th>\n",
       "      <td>NaN</td>\n",
       "      <td>W COSTIN</td>\n",
       "      <td>2.0</td>\n",
       "      <td>57.0</td>\n",
       "      <td>4.0</td>\n",
       "      <td>m</td>\n",
       "      <td>0.0</td>\n",
       "      <td>0.0</td>\n",
       "      <td>0.0</td>\n",
       "      <td>124.0</td>\n",
       "      <td>...</td>\n",
       "      <td>4.0</td>\n",
       "      <td>8.1</td>\n",
       "      <td>18.2</td>\n",
       "      <td>120.6</td>\n",
       "      <td>0</td>\n",
       "      <td>1.3</td>\n",
       "      <td>2.1</td>\n",
       "      <td>3.2</td>\n",
       "      <td>0.0</td>\n",
       "      <td>1 11</td>\n",
       "    </tr>\n",
       "    <tr>\n",
       "      <th>2</th>\n",
       "      <td>NaN</td>\n",
       "      <td>B CLARK</td>\n",
       "      <td>0.0</td>\n",
       "      <td>57.0</td>\n",
       "      <td>4.0</td>\n",
       "      <td>m</td>\n",
       "      <td>0.0</td>\n",
       "      <td>1.0</td>\n",
       "      <td>2.0</td>\n",
       "      <td>14.0</td>\n",
       "      <td>...</td>\n",
       "      <td>4.0</td>\n",
       "      <td>8.1</td>\n",
       "      <td>18.2</td>\n",
       "      <td>120.6</td>\n",
       "      <td>0</td>\n",
       "      <td>1.3</td>\n",
       "      <td>2.1</td>\n",
       "      <td>3.2</td>\n",
       "      <td>0.0</td>\n",
       "      <td>1 11</td>\n",
       "    </tr>\n",
       "    <tr>\n",
       "      <th>3</th>\n",
       "      <td>NaN</td>\n",
       "      <td>S POLLARD</td>\n",
       "      <td>0.0</td>\n",
       "      <td>57.0</td>\n",
       "      <td>5.0</td>\n",
       "      <td>m</td>\n",
       "      <td>0.0</td>\n",
       "      <td>2.0</td>\n",
       "      <td>2.0</td>\n",
       "      <td>134.0</td>\n",
       "      <td>...</td>\n",
       "      <td>4.0</td>\n",
       "      <td>8.1</td>\n",
       "      <td>18.2</td>\n",
       "      <td>120.6</td>\n",
       "      <td>0</td>\n",
       "      <td>1.3</td>\n",
       "      <td>2.1</td>\n",
       "      <td>3.2</td>\n",
       "      <td>0.0</td>\n",
       "      <td>1 11</td>\n",
       "    </tr>\n",
       "    <tr>\n",
       "      <th>4</th>\n",
       "      <td>NaN</td>\n",
       "      <td>J KISSICK</td>\n",
       "      <td>0.0</td>\n",
       "      <td>57.0</td>\n",
       "      <td>4.0</td>\n",
       "      <td>m</td>\n",
       "      <td>0.0</td>\n",
       "      <td>1.0</td>\n",
       "      <td>0.0</td>\n",
       "      <td>160.0</td>\n",
       "      <td>...</td>\n",
       "      <td>4.0</td>\n",
       "      <td>8.1</td>\n",
       "      <td>18.2</td>\n",
       "      <td>120.6</td>\n",
       "      <td>0</td>\n",
       "      <td>1.3</td>\n",
       "      <td>2.1</td>\n",
       "      <td>3.2</td>\n",
       "      <td>0.0</td>\n",
       "      <td>1 11</td>\n",
       "    </tr>\n",
       "  </tbody>\n",
       "</table>\n",
       "<p>5 rows × 47 columns</p>\n",
       "</div>"
      ],
      "text/plain": [
       "   CTY      JOCKEY  ALL   WGT  AGE SEX  WINS  PL2  PL3   DAYS  ...   WN   QN  \\\n",
       "0  NaN  K JENNINGS  2.0  57.0  4.0   m   0.0  0.0  0.0  999.0  ...  4.0  8.1   \n",
       "1  NaN    W COSTIN  2.0  57.0  4.0   m   0.0  0.0  0.0  124.0  ...  4.0  8.1   \n",
       "2  NaN     B CLARK  0.0  57.0  4.0   m   0.0  1.0  2.0   14.0  ...  4.0  8.1   \n",
       "3  NaN   S POLLARD  0.0  57.0  5.0   m   0.0  2.0  2.0  134.0  ...  4.0  8.1   \n",
       "4  NaN   J KISSICK  0.0  57.0  4.0   m   0.0  1.0  0.0  160.0  ...  4.0  8.1   \n",
       "\n",
       "     EX     TT T4  PD1  PD2  PD3   FF  SCRS  \n",
       "0  18.2  120.6  0  1.3  2.1  3.2  0.0  1 11  \n",
       "1  18.2  120.6  0  1.3  2.1  3.2  0.0  1 11  \n",
       "2  18.2  120.6  0  1.3  2.1  3.2  0.0  1 11  \n",
       "3  18.2  120.6  0  1.3  2.1  3.2  0.0  1 11  \n",
       "4  18.2  120.6  0  1.3  2.1  3.2  0.0  1 11  \n",
       "\n",
       "[5 rows x 47 columns]"
      ]
     },
     "execution_count": 502,
     "metadata": {},
     "output_type": "execute_result"
    }
   ],
   "source": [
    "horse_past_race.head()"
   ]
  },
  {
   "cell_type": "code",
   "execution_count": 503,
   "metadata": {
    "scrolled": false
   },
   "outputs": [
    {
     "data": {
      "text/plain": [
       "4.0     54255\n",
       "3.0     45940\n",
       "5.0     40525\n",
       "6.0     24375\n",
       "7.0     12579\n",
       "2.0      8357\n",
       "8.0      5502\n",
       "9.0      2095\n",
       "10.0      643\n",
       "11.0      246\n",
       "12.0       68\n",
       "13.0       20\n",
       "Name: AGE, dtype: int64"
      ]
     },
     "execution_count": 503,
     "metadata": {},
     "output_type": "execute_result"
    }
   ],
   "source": [
    "horse_past_race.AGE.value_counts()"
   ]
  },
  {
   "cell_type": "code",
   "execution_count": 504,
   "metadata": {
    "scrolled": true
   },
   "outputs": [
    {
     "data": {
      "text/plain": [
       "0.0     69573\n",
       "1.0     39227\n",
       "2.0     26545\n",
       "3.0     19039\n",
       "4.0     13343\n",
       "5.0      9031\n",
       "6.0      6150\n",
       "7.0      4131\n",
       "8.0      2586\n",
       "9.0      1719\n",
       "10.0     1128\n",
       "11.0      749\n",
       "12.0      473\n",
       "13.0      358\n",
       "14.0      183\n",
       "15.0      120\n",
       "17.0       63\n",
       "18.0       60\n",
       "16.0       55\n",
       "19.0       21\n",
       "22.0       19\n",
       "20.0       17\n",
       "21.0       10\n",
       "23.0        5\n",
       "Name: PL2, dtype: int64"
      ]
     },
     "execution_count": 504,
     "metadata": {},
     "output_type": "execute_result"
    }
   ],
   "source": [
    "horse_past_race.PL2.value_counts()"
   ]
  },
  {
   "cell_type": "code",
   "execution_count": 505,
   "metadata": {
    "scrolled": true
   },
   "outputs": [
    {
     "data": {
      "text/plain": [
       "Handicap          137608\n",
       "Set Weight         46319\n",
       "Set Weight Wit      5977\n",
       "Set Weight+Pen      2952\n",
       "Weight For Age      1269\n",
       "Special Weight       480\n",
       "Name: WEIGHTS, dtype: int64"
      ]
     },
     "execution_count": 505,
     "metadata": {},
     "output_type": "execute_result"
    }
   ],
   "source": [
    "horse_past_race.WEIGHTS.value_counts()"
   ]
  },
  {
   "cell_type": "code",
   "execution_count": 506,
   "metadata": {
    "scrolled": true
   },
   "outputs": [
    {
     "data": {
      "text/plain": [
       "54.0    118066\n",
       "0.0      56997\n",
       "51.0      8771\n",
       "55.0      5902\n",
       "64.0      1341\n",
       "54.5      1019\n",
       "53.0       700\n",
       "56.0       551\n",
       "55.5       375\n",
       "52.0       179\n",
       "56.5       171\n",
       "62.0       167\n",
       "50.0       150\n",
       "57.0        93\n",
       "57.5        59\n",
       "53.5        22\n",
       "49.0        17\n",
       "65.0        15\n",
       "58.0        10\n",
       "Name: LIMIT, dtype: int64"
      ]
     },
     "execution_count": 506,
     "metadata": {},
     "output_type": "execute_result"
    }
   ],
   "source": [
    "horse_past_race.LIMIT.value_counts()"
   ]
  },
  {
   "cell_type": "code",
   "execution_count": 507,
   "metadata": {},
   "outputs": [
    {
     "data": {
      "text/plain": [
       "(19529, 47)"
      ]
     },
     "execution_count": 507,
     "metadata": {},
     "output_type": "execute_result"
    }
   ],
   "source": [
    "horse_past_race[horse_past_race['POS']==1].shape"
   ]
  },
  {
   "cell_type": "code",
   "execution_count": 508,
   "metadata": {
    "scrolled": true
   },
   "outputs": [
    {
     "data": {
      "text/plain": [
       "g    114934\n",
       "m     47426\n",
       "f     25161\n",
       "c      4732\n",
       "h      2277\n",
       "r        75\n",
       "Name: SEX, dtype: int64"
      ]
     },
     "execution_count": 508,
     "metadata": {},
     "output_type": "execute_result"
    }
   ],
   "source": [
    "horse_past_race.SEX.value_counts()\n",
    "#Stallion - A male horse 4 years or older\n",
    "#Mare - A female horse 4 years or older\n",
    "#Colt - A male horse 1–3 years old\n",
    "#Filly - A female horse 1 -3 years old\n",
    "#Gelding - A casterated male horse\n",
    "#Ridgeling - A male horse with undeveloped testicals"
   ]
  },
  {
   "cell_type": "code",
   "execution_count": 509,
   "metadata": {},
   "outputs": [],
   "source": [
    "# Merged Data "
   ]
  },
  {
   "cell_type": "code",
   "execution_count": 510,
   "metadata": {},
   "outputs": [],
   "source": [
    "merged_data=horse_past_race.drop(['CTY','DAYS','TBASE','RACEID','TRT','WRT','WEIGHTS','LIMIT','FF','SCRS'],axis=1)"
   ]
  },
  {
   "cell_type": "code",
   "execution_count": 511,
   "metadata": {},
   "outputs": [],
   "source": [
    "merged_data.drop(['WN','QN','EX','TT'],axis=1,inplace=True)"
   ]
  },
  {
   "cell_type": "code",
   "execution_count": 512,
   "metadata": {},
   "outputs": [
    {
     "data": {
      "text/plain": [
       "(194605, 33)"
      ]
     },
     "execution_count": 512,
     "metadata": {},
     "output_type": "execute_result"
    }
   ],
   "source": [
    "merged_data.shape"
   ]
  },
  {
   "cell_type": "code",
   "execution_count": 513,
   "metadata": {},
   "outputs": [
    {
     "data": {
      "text/plain": [
       "JOCKEY         54\n",
       "ALL             0\n",
       "WGT             0\n",
       "AGE             0\n",
       "SEX             0\n",
       "WINS            0\n",
       "PL2             0\n",
       "PL3             0\n",
       "XPEAK           0\n",
       "POS             0\n",
       "JRT             0\n",
       "HORSEID         0\n",
       "JockeyWinP      0\n",
       "JockeyRATE      0\n",
       "TrainerWinP     0\n",
       "TrainerRATE     0\n",
       "FIN             0\n",
       "G               0\n",
       "TIME            0\n",
       "TW              0\n",
       "EI              0\n",
       "FO              0\n",
       "PC1             0\n",
       "PC2             0\n",
       "DIST            0\n",
       "JUMP            0\n",
       "CLAIM           0\n",
       "NREC            0\n",
       "GOING           0\n",
       "T4              0\n",
       "PD1             0\n",
       "PD2             0\n",
       "PD3             0\n",
       "dtype: int64"
      ]
     },
     "execution_count": 513,
     "metadata": {},
     "output_type": "execute_result"
    }
   ],
   "source": [
    "merged_data.isnull().sum()"
   ]
  },
  {
   "cell_type": "code",
   "execution_count": 514,
   "metadata": {},
   "outputs": [],
   "source": [
    "merged_data.dropna(inplace=True)"
   ]
  },
  {
   "cell_type": "code",
   "execution_count": 515,
   "metadata": {},
   "outputs": [],
   "source": [
    "merged_data.drop('FIN',axis=1,inplace=True)"
   ]
  },
  {
   "cell_type": "code",
   "execution_count": 516,
   "metadata": {
    "scrolled": true
   },
   "outputs": [
    {
     "data": {
      "text/plain": [
       "G    98506\n",
       "D    47589\n",
       "S    19865\n",
       "H    18186\n",
       "3     5316\n",
       "4     1908\n",
       "5      825\n",
       "6      567\n",
       "X      444\n",
       "7      426\n",
       "8      341\n",
       "9      273\n",
       "2      154\n",
       "F      147\n",
       "1        4\n",
       "Name: G, dtype: int64"
      ]
     },
     "execution_count": 516,
     "metadata": {},
     "output_type": "execute_result"
    }
   ],
   "source": [
    "merged_data['G'].value_counts()"
   ]
  },
  {
   "cell_type": "code",
   "execution_count": 517,
   "metadata": {},
   "outputs": [],
   "source": [
    "merged_data.drop('G',axis=1,inplace=True)"
   ]
  },
  {
   "cell_type": "code",
   "execution_count": 518,
   "metadata": {},
   "outputs": [
    {
     "data": {
      "text/plain": [
       "(194551, 31)"
      ]
     },
     "execution_count": 518,
     "metadata": {},
     "output_type": "execute_result"
    }
   ],
   "source": [
    "merged_data.shape"
   ]
  },
  {
   "cell_type": "code",
   "execution_count": 519,
   "metadata": {},
   "outputs": [
    {
     "data": {
      "text/plain": [
       "421"
      ]
     },
     "execution_count": 519,
     "metadata": {},
     "output_type": "execute_result"
    }
   ],
   "source": [
    "merged_data.DIST.nunique()"
   ]
  },
  {
   "cell_type": "code",
   "execution_count": 520,
   "metadata": {},
   "outputs": [],
   "source": [
    "merged_data.drop('DIST',axis=1,inplace=True)"
   ]
  },
  {
   "cell_type": "code",
   "execution_count": 521,
   "metadata": {},
   "outputs": [
    {
     "name": "stdout",
     "output_type": "stream",
     "text": [
      "<class 'pandas.core.frame.DataFrame'>\n",
      "Int64Index: 194551 entries, 0 to 194604\n",
      "Data columns (total 30 columns):\n",
      " #   Column       Non-Null Count   Dtype  \n",
      "---  ------       --------------   -----  \n",
      " 0   JOCKEY       194551 non-null  object \n",
      " 1   ALL          194551 non-null  float64\n",
      " 2   WGT          194551 non-null  float64\n",
      " 3   AGE          194551 non-null  float64\n",
      " 4   SEX          194551 non-null  object \n",
      " 5   WINS         194551 non-null  float64\n",
      " 6   PL2          194551 non-null  float64\n",
      " 7   PL3          194551 non-null  float64\n",
      " 8   XPEAK        194551 non-null  float64\n",
      " 9   POS          194551 non-null  float64\n",
      " 10  JRT          194551 non-null  float64\n",
      " 11  HORSEID      194551 non-null  object \n",
      " 12  JockeyWinP   194551 non-null  float64\n",
      " 13  JockeyRATE   194551 non-null  float64\n",
      " 14  TrainerWinP  194551 non-null  float64\n",
      " 15  TrainerRATE  194551 non-null  float64\n",
      " 16  TIME         194551 non-null  float64\n",
      " 17  TW           194551 non-null  float64\n",
      " 18  EI           194551 non-null  float64\n",
      " 19  FO           194551 non-null  float64\n",
      " 20  PC1          194551 non-null  float64\n",
      " 21  PC2          194551 non-null  float64\n",
      " 22  JUMP         194551 non-null  object \n",
      " 23  CLAIM        194551 non-null  object \n",
      " 24  NREC         194551 non-null  int64  \n",
      " 25  GOING        194551 non-null  object \n",
      " 26  T4           194551 non-null  int64  \n",
      " 27  PD1          194551 non-null  float64\n",
      " 28  PD2          194551 non-null  float64\n",
      " 29  PD3          194551 non-null  float64\n",
      "dtypes: float64(22), int64(2), object(6)\n",
      "memory usage: 46.0+ MB\n"
     ]
    }
   ],
   "source": [
    "merged_data.info()"
   ]
  },
  {
   "cell_type": "code",
   "execution_count": 522,
   "metadata": {},
   "outputs": [
    {
     "data": {
      "text/plain": [
       "0.0     171862\n",
       "3.0       2396\n",
       "1.0       2379\n",
       "2.0       2379\n",
       "4.0       2371\n",
       "5.0       2369\n",
       "6.0       2278\n",
       "7.0       2096\n",
       "8.0       1823\n",
       "9.0       1480\n",
       "10.0      1126\n",
       "11.0       847\n",
       "12.0       565\n",
       "13.0       274\n",
       "14.0       180\n",
       "15.0        62\n",
       "16.0        39\n",
       "17.0        11\n",
       "18.0         7\n",
       "19.0         2\n",
       "20.0         2\n",
       "22.0         1\n",
       "23.0         1\n",
       "21.0         1\n",
       "Name: TW, dtype: int64"
      ]
     },
     "execution_count": 522,
     "metadata": {},
     "output_type": "execute_result"
    }
   ],
   "source": [
    "merged_data['TW'].value_counts()"
   ]
  },
  {
   "cell_type": "code",
   "execution_count": 523,
   "metadata": {
    "scrolled": true
   },
   "outputs": [
    {
     "data": {
      "text/plain": [
       "GOOD3    71478\n",
       "GOOD     30485\n",
       "DEAD4    29327\n",
       "DEAD5    13403\n",
       "SLOW6     9078\n",
       "DEAD      7608\n",
       "SLOW7     6689\n",
       "HEAVY     6410\n",
       "HVY8      5480\n",
       "SLOW      4809\n",
       "HVY9      4083\n",
       "HVY10     3074\n",
       "GOOD2     2374\n",
       "GOOD4       77\n",
       "FAST        68\n",
       "FAST1       50\n",
       "SLOW8       49\n",
       "HVY3         9\n",
       "Name: GOING, dtype: int64"
      ]
     },
     "execution_count": 523,
     "metadata": {},
     "output_type": "execute_result"
    }
   ],
   "source": [
    "merged_data['GOING'].value_counts()"
   ]
  },
  {
   "cell_type": "code",
   "execution_count": 524,
   "metadata": {},
   "outputs": [],
   "source": [
    "# Mapping similar trak conditions"
   ]
  },
  {
   "cell_type": "code",
   "execution_count": 525,
   "metadata": {},
   "outputs": [],
   "source": [
    "merged_data['GOING'].replace({'GOOD3':'GOOD','GOOD2':'GOOD','GOOD4':'GOOD','DEAD4':'DEAD','DEAD5':'DEAD',\n",
    "                                                  'SLOW6':'SLOW','SLOW7':'SLOW','SLOW8':'SLOW',\n",
    "                                                 'HVY':'HEAVY','HVY9':'HEAVY','HVY3':'HEAVY','HVY8':'HEAVY','HVY9':'HEAVY',\n",
    "                                                 'FAST1':'FAST'},inplace=True)"
   ]
  },
  {
   "cell_type": "code",
   "execution_count": 526,
   "metadata": {},
   "outputs": [],
   "source": [
    "merged_data['GOING'].replace({'HVY10':'HEAVY'},inplace=True)"
   ]
  },
  {
   "cell_type": "code",
   "execution_count": 527,
   "metadata": {
    "scrolled": true
   },
   "outputs": [
    {
     "data": {
      "text/plain": [
       "GOOD     104414\n",
       "DEAD      50338\n",
       "SLOW      20625\n",
       "HEAVY     19056\n",
       "FAST        118\n",
       "Name: GOING, dtype: int64"
      ]
     },
     "execution_count": 527,
     "metadata": {},
     "output_type": "execute_result"
    }
   ],
   "source": [
    "merged_data['GOING'].value_counts()"
   ]
  },
  {
   "cell_type": "code",
   "execution_count": 528,
   "metadata": {},
   "outputs": [],
   "source": [
    "# Applying get dummies to the track conditions"
   ]
  },
  {
   "cell_type": "code",
   "execution_count": 529,
   "metadata": {},
   "outputs": [
    {
     "data": {
      "text/html": [
       "<div>\n",
       "<style scoped>\n",
       "    .dataframe tbody tr th:only-of-type {\n",
       "        vertical-align: middle;\n",
       "    }\n",
       "\n",
       "    .dataframe tbody tr th {\n",
       "        vertical-align: top;\n",
       "    }\n",
       "\n",
       "    .dataframe thead th {\n",
       "        text-align: right;\n",
       "    }\n",
       "</style>\n",
       "<table border=\"1\" class=\"dataframe\">\n",
       "  <thead>\n",
       "    <tr style=\"text-align: right;\">\n",
       "      <th></th>\n",
       "      <th>DEAD</th>\n",
       "      <th>FAST</th>\n",
       "      <th>GOOD</th>\n",
       "      <th>HEAVY</th>\n",
       "      <th>SLOW</th>\n",
       "    </tr>\n",
       "  </thead>\n",
       "  <tbody>\n",
       "    <tr>\n",
       "      <th>0</th>\n",
       "      <td>0</td>\n",
       "      <td>0</td>\n",
       "      <td>1</td>\n",
       "      <td>0</td>\n",
       "      <td>0</td>\n",
       "    </tr>\n",
       "    <tr>\n",
       "      <th>1</th>\n",
       "      <td>0</td>\n",
       "      <td>0</td>\n",
       "      <td>1</td>\n",
       "      <td>0</td>\n",
       "      <td>0</td>\n",
       "    </tr>\n",
       "    <tr>\n",
       "      <th>2</th>\n",
       "      <td>0</td>\n",
       "      <td>0</td>\n",
       "      <td>1</td>\n",
       "      <td>0</td>\n",
       "      <td>0</td>\n",
       "    </tr>\n",
       "    <tr>\n",
       "      <th>3</th>\n",
       "      <td>0</td>\n",
       "      <td>0</td>\n",
       "      <td>1</td>\n",
       "      <td>0</td>\n",
       "      <td>0</td>\n",
       "    </tr>\n",
       "    <tr>\n",
       "      <th>4</th>\n",
       "      <td>0</td>\n",
       "      <td>0</td>\n",
       "      <td>1</td>\n",
       "      <td>0</td>\n",
       "      <td>0</td>\n",
       "    </tr>\n",
       "  </tbody>\n",
       "</table>\n",
       "</div>"
      ],
      "text/plain": [
       "   DEAD  FAST  GOOD  HEAVY  SLOW\n",
       "0     0     0     1      0     0\n",
       "1     0     0     1      0     0\n",
       "2     0     0     1      0     0\n",
       "3     0     0     1      0     0\n",
       "4     0     0     1      0     0"
      ]
     },
     "execution_count": 529,
     "metadata": {},
     "output_type": "execute_result"
    }
   ],
   "source": [
    "track=pd.get_dummies(merged_data['GOING'])\n",
    "track.head()"
   ]
  },
  {
   "cell_type": "code",
   "execution_count": 530,
   "metadata": {
    "scrolled": true
   },
   "outputs": [
    {
     "data": {
      "text/html": [
       "<div>\n",
       "<style scoped>\n",
       "    .dataframe tbody tr th:only-of-type {\n",
       "        vertical-align: middle;\n",
       "    }\n",
       "\n",
       "    .dataframe tbody tr th {\n",
       "        vertical-align: top;\n",
       "    }\n",
       "\n",
       "    .dataframe thead th {\n",
       "        text-align: right;\n",
       "    }\n",
       "</style>\n",
       "<table border=\"1\" class=\"dataframe\">\n",
       "  <thead>\n",
       "    <tr style=\"text-align: right;\">\n",
       "      <th></th>\n",
       "      <th>JOCKEY</th>\n",
       "      <th>ALL</th>\n",
       "      <th>WGT</th>\n",
       "      <th>AGE</th>\n",
       "      <th>SEX</th>\n",
       "      <th>WINS</th>\n",
       "      <th>PL2</th>\n",
       "      <th>PL3</th>\n",
       "      <th>XPEAK</th>\n",
       "      <th>POS</th>\n",
       "      <th>...</th>\n",
       "      <th>GOING</th>\n",
       "      <th>T4</th>\n",
       "      <th>PD1</th>\n",
       "      <th>PD2</th>\n",
       "      <th>PD3</th>\n",
       "      <th>DEAD</th>\n",
       "      <th>FAST</th>\n",
       "      <th>GOOD</th>\n",
       "      <th>HEAVY</th>\n",
       "      <th>SLOW</th>\n",
       "    </tr>\n",
       "  </thead>\n",
       "  <tbody>\n",
       "    <tr>\n",
       "      <th>0</th>\n",
       "      <td>K JENNINGS</td>\n",
       "      <td>2.0</td>\n",
       "      <td>57.0</td>\n",
       "      <td>4.0</td>\n",
       "      <td>m</td>\n",
       "      <td>0.0</td>\n",
       "      <td>0.0</td>\n",
       "      <td>0.0</td>\n",
       "      <td>0.0</td>\n",
       "      <td>9.0</td>\n",
       "      <td>...</td>\n",
       "      <td>GOOD</td>\n",
       "      <td>0</td>\n",
       "      <td>1.3</td>\n",
       "      <td>2.1</td>\n",
       "      <td>3.2</td>\n",
       "      <td>0</td>\n",
       "      <td>0</td>\n",
       "      <td>1</td>\n",
       "      <td>0</td>\n",
       "      <td>0</td>\n",
       "    </tr>\n",
       "    <tr>\n",
       "      <th>1</th>\n",
       "      <td>W COSTIN</td>\n",
       "      <td>2.0</td>\n",
       "      <td>57.0</td>\n",
       "      <td>4.0</td>\n",
       "      <td>m</td>\n",
       "      <td>0.0</td>\n",
       "      <td>0.0</td>\n",
       "      <td>0.0</td>\n",
       "      <td>51.4</td>\n",
       "      <td>4.0</td>\n",
       "      <td>...</td>\n",
       "      <td>GOOD</td>\n",
       "      <td>0</td>\n",
       "      <td>1.3</td>\n",
       "      <td>2.1</td>\n",
       "      <td>3.2</td>\n",
       "      <td>0</td>\n",
       "      <td>0</td>\n",
       "      <td>1</td>\n",
       "      <td>0</td>\n",
       "      <td>0</td>\n",
       "    </tr>\n",
       "    <tr>\n",
       "      <th>2</th>\n",
       "      <td>B CLARK</td>\n",
       "      <td>0.0</td>\n",
       "      <td>57.0</td>\n",
       "      <td>4.0</td>\n",
       "      <td>m</td>\n",
       "      <td>0.0</td>\n",
       "      <td>1.0</td>\n",
       "      <td>2.0</td>\n",
       "      <td>51.8</td>\n",
       "      <td>2.0</td>\n",
       "      <td>...</td>\n",
       "      <td>GOOD</td>\n",
       "      <td>0</td>\n",
       "      <td>1.3</td>\n",
       "      <td>2.1</td>\n",
       "      <td>3.2</td>\n",
       "      <td>0</td>\n",
       "      <td>0</td>\n",
       "      <td>1</td>\n",
       "      <td>0</td>\n",
       "      <td>0</td>\n",
       "    </tr>\n",
       "    <tr>\n",
       "      <th>3</th>\n",
       "      <td>S POLLARD</td>\n",
       "      <td>0.0</td>\n",
       "      <td>57.0</td>\n",
       "      <td>5.0</td>\n",
       "      <td>m</td>\n",
       "      <td>0.0</td>\n",
       "      <td>2.0</td>\n",
       "      <td>2.0</td>\n",
       "      <td>54.5</td>\n",
       "      <td>5.0</td>\n",
       "      <td>...</td>\n",
       "      <td>GOOD</td>\n",
       "      <td>0</td>\n",
       "      <td>1.3</td>\n",
       "      <td>2.1</td>\n",
       "      <td>3.2</td>\n",
       "      <td>0</td>\n",
       "      <td>0</td>\n",
       "      <td>1</td>\n",
       "      <td>0</td>\n",
       "      <td>0</td>\n",
       "    </tr>\n",
       "    <tr>\n",
       "      <th>4</th>\n",
       "      <td>J KISSICK</td>\n",
       "      <td>0.0</td>\n",
       "      <td>57.0</td>\n",
       "      <td>4.0</td>\n",
       "      <td>m</td>\n",
       "      <td>0.0</td>\n",
       "      <td>1.0</td>\n",
       "      <td>0.0</td>\n",
       "      <td>62.4</td>\n",
       "      <td>1.0</td>\n",
       "      <td>...</td>\n",
       "      <td>GOOD</td>\n",
       "      <td>0</td>\n",
       "      <td>1.3</td>\n",
       "      <td>2.1</td>\n",
       "      <td>3.2</td>\n",
       "      <td>0</td>\n",
       "      <td>0</td>\n",
       "      <td>1</td>\n",
       "      <td>0</td>\n",
       "      <td>0</td>\n",
       "    </tr>\n",
       "  </tbody>\n",
       "</table>\n",
       "<p>5 rows × 35 columns</p>\n",
       "</div>"
      ],
      "text/plain": [
       "       JOCKEY  ALL   WGT  AGE SEX  WINS  PL2  PL3  XPEAK  POS  ...  GOING T4  \\\n",
       "0  K JENNINGS  2.0  57.0  4.0   m   0.0  0.0  0.0    0.0  9.0  ...   GOOD  0   \n",
       "1    W COSTIN  2.0  57.0  4.0   m   0.0  0.0  0.0   51.4  4.0  ...   GOOD  0   \n",
       "2     B CLARK  0.0  57.0  4.0   m   0.0  1.0  2.0   51.8  2.0  ...   GOOD  0   \n",
       "3   S POLLARD  0.0  57.0  5.0   m   0.0  2.0  2.0   54.5  5.0  ...   GOOD  0   \n",
       "4   J KISSICK  0.0  57.0  4.0   m   0.0  1.0  0.0   62.4  1.0  ...   GOOD  0   \n",
       "\n",
       "   PD1  PD2  PD3  DEAD  FAST  GOOD  HEAVY  SLOW  \n",
       "0  1.3  2.1  3.2     0     0     1      0     0  \n",
       "1  1.3  2.1  3.2     0     0     1      0     0  \n",
       "2  1.3  2.1  3.2     0     0     1      0     0  \n",
       "3  1.3  2.1  3.2     0     0     1      0     0  \n",
       "4  1.3  2.1  3.2     0     0     1      0     0  \n",
       "\n",
       "[5 rows x 35 columns]"
      ]
     },
     "execution_count": 530,
     "metadata": {},
     "output_type": "execute_result"
    }
   ],
   "source": [
    "merged_data=pd.concat([merged_data,track],axis=1)\n",
    "merged_data.head()"
   ]
  },
  {
   "cell_type": "code",
   "execution_count": 531,
   "metadata": {},
   "outputs": [],
   "source": [
    "merged_data.drop('GOING',axis=1,inplace=True)"
   ]
  },
  {
   "cell_type": "code",
   "execution_count": 532,
   "metadata": {},
   "outputs": [],
   "source": [
    "merged_data.drop('JRT',axis=1,inplace=True)"
   ]
  },
  {
   "cell_type": "code",
   "execution_count": 533,
   "metadata": {},
   "outputs": [],
   "source": [
    "merged_data.drop('T4',axis=1,inplace=True)"
   ]
  },
  {
   "cell_type": "code",
   "execution_count": 534,
   "metadata": {},
   "outputs": [
    {
     "data": {
      "text/plain": [
       "Can       178237\n",
       "Cannot     16314\n",
       "Name: CLAIM, dtype: int64"
      ]
     },
     "execution_count": 534,
     "metadata": {},
     "output_type": "execute_result"
    }
   ],
   "source": [
    "merged_data['CLAIM'].value_counts()"
   ]
  },
  {
   "cell_type": "code",
   "execution_count": 535,
   "metadata": {},
   "outputs": [],
   "source": [
    "merged_data['CLAIM'].replace({'Can':1,'Cannot':0},inplace=True)"
   ]
  },
  {
   "cell_type": "code",
   "execution_count": 536,
   "metadata": {
    "scrolled": true
   },
   "outputs": [
    {
     "name": "stdout",
     "output_type": "stream",
     "text": [
      "<class 'pandas.core.frame.DataFrame'>\n",
      "Int64Index: 194551 entries, 0 to 194604\n",
      "Data columns (total 32 columns):\n",
      " #   Column       Non-Null Count   Dtype  \n",
      "---  ------       --------------   -----  \n",
      " 0   JOCKEY       194551 non-null  object \n",
      " 1   ALL          194551 non-null  float64\n",
      " 2   WGT          194551 non-null  float64\n",
      " 3   AGE          194551 non-null  float64\n",
      " 4   SEX          194551 non-null  object \n",
      " 5   WINS         194551 non-null  float64\n",
      " 6   PL2          194551 non-null  float64\n",
      " 7   PL3          194551 non-null  float64\n",
      " 8   XPEAK        194551 non-null  float64\n",
      " 9   POS          194551 non-null  float64\n",
      " 10  HORSEID      194551 non-null  object \n",
      " 11  JockeyWinP   194551 non-null  float64\n",
      " 12  JockeyRATE   194551 non-null  float64\n",
      " 13  TrainerWinP  194551 non-null  float64\n",
      " 14  TrainerRATE  194551 non-null  float64\n",
      " 15  TIME         194551 non-null  float64\n",
      " 16  TW           194551 non-null  float64\n",
      " 17  EI           194551 non-null  float64\n",
      " 18  FO           194551 non-null  float64\n",
      " 19  PC1          194551 non-null  float64\n",
      " 20  PC2          194551 non-null  float64\n",
      " 21  JUMP         194551 non-null  object \n",
      " 22  CLAIM        194551 non-null  int64  \n",
      " 23  NREC         194551 non-null  int64  \n",
      " 24  PD1          194551 non-null  float64\n",
      " 25  PD2          194551 non-null  float64\n",
      " 26  PD3          194551 non-null  float64\n",
      " 27  DEAD         194551 non-null  uint8  \n",
      " 28  FAST         194551 non-null  uint8  \n",
      " 29  GOOD         194551 non-null  uint8  \n",
      " 30  HEAVY        194551 non-null  uint8  \n",
      " 31  SLOW         194551 non-null  uint8  \n",
      "dtypes: float64(21), int64(2), object(4), uint8(5)\n",
      "memory usage: 42.5+ MB\n"
     ]
    }
   ],
   "source": [
    "merged_data.info()"
   ]
  },
  {
   "cell_type": "code",
   "execution_count": 537,
   "metadata": {
    "scrolled": true
   },
   "outputs": [
    {
     "data": {
      "text/plain": [
       "ALL             1.657445\n",
       "WGT             1.310990\n",
       "AGE             0.844922\n",
       "WINS            1.867417\n",
       "PL2             1.904525\n",
       "PL3             1.884501\n",
       "XPEAK          -2.764475\n",
       "POS             0.425629\n",
       "JockeyWinP      1.315624\n",
       "JockeyRATE      0.196007\n",
       "TrainerWinP     0.841808\n",
       "TrainerRATE     0.690240\n",
       "TIME            2.756448\n",
       "TW              3.655029\n",
       "EI              0.680524\n",
       "FO              0.385956\n",
       "PC1             2.019970\n",
       "PC2             1.010765\n",
       "CLAIM          -3.002844\n",
       "NREC            0.232797\n",
       "PD1             4.688490\n",
       "PD2             3.569300\n",
       "PD3             2.766420\n",
       "DEAD            1.101801\n",
       "FAST           40.568008\n",
       "GOOD           -0.147167\n",
       "HEAVY           2.705205\n",
       "SLOW            2.559582\n",
       "dtype: float64"
      ]
     },
     "execution_count": 537,
     "metadata": {},
     "output_type": "execute_result"
    }
   ],
   "source": [
    "merged_data.skew()"
   ]
  },
  {
   "cell_type": "code",
   "execution_count": 538,
   "metadata": {},
   "outputs": [],
   "source": [
    "merged_data.to_csv('Final.csv')"
   ]
  },
  {
   "cell_type": "code",
   "execution_count": 562,
   "metadata": {
    "scrolled": true
   },
   "outputs": [
    {
     "data": {
      "text/html": [
       "<div>\n",
       "<style scoped>\n",
       "    .dataframe tbody tr th:only-of-type {\n",
       "        vertical-align: middle;\n",
       "    }\n",
       "\n",
       "    .dataframe tbody tr th {\n",
       "        vertical-align: top;\n",
       "    }\n",
       "\n",
       "    .dataframe thead th {\n",
       "        text-align: right;\n",
       "    }\n",
       "</style>\n",
       "<table border=\"1\" class=\"dataframe\">\n",
       "  <thead>\n",
       "    <tr style=\"text-align: right;\">\n",
       "      <th></th>\n",
       "      <th>JOCKEY</th>\n",
       "      <th>ALL</th>\n",
       "      <th>WGT</th>\n",
       "      <th>AGE</th>\n",
       "      <th>SEX</th>\n",
       "      <th>WINS</th>\n",
       "      <th>PL2</th>\n",
       "      <th>PL3</th>\n",
       "      <th>XPEAK</th>\n",
       "      <th>POS</th>\n",
       "      <th>...</th>\n",
       "      <th>CLAIM</th>\n",
       "      <th>NREC</th>\n",
       "      <th>PD1</th>\n",
       "      <th>PD2</th>\n",
       "      <th>PD3</th>\n",
       "      <th>DEAD</th>\n",
       "      <th>FAST</th>\n",
       "      <th>GOOD</th>\n",
       "      <th>HEAVY</th>\n",
       "      <th>SLOW</th>\n",
       "    </tr>\n",
       "  </thead>\n",
       "  <tbody>\n",
       "    <tr>\n",
       "      <th>4</th>\n",
       "      <td>J KISSICK</td>\n",
       "      <td>0.0</td>\n",
       "      <td>57.0</td>\n",
       "      <td>4.0</td>\n",
       "      <td>m</td>\n",
       "      <td>0.0</td>\n",
       "      <td>1.0</td>\n",
       "      <td>0.0</td>\n",
       "      <td>62.4</td>\n",
       "      <td>1.0</td>\n",
       "      <td>...</td>\n",
       "      <td>1</td>\n",
       "      <td>12</td>\n",
       "      <td>1.3</td>\n",
       "      <td>2.1</td>\n",
       "      <td>3.2</td>\n",
       "      <td>0</td>\n",
       "      <td>0</td>\n",
       "      <td>1</td>\n",
       "      <td>0</td>\n",
       "      <td>0</td>\n",
       "    </tr>\n",
       "    <tr>\n",
       "      <th>9</th>\n",
       "      <td>R BENSLEY</td>\n",
       "      <td>0.0</td>\n",
       "      <td>58.0</td>\n",
       "      <td>4.0</td>\n",
       "      <td>g</td>\n",
       "      <td>1.0</td>\n",
       "      <td>2.0</td>\n",
       "      <td>1.0</td>\n",
       "      <td>59.6</td>\n",
       "      <td>1.0</td>\n",
       "      <td>...</td>\n",
       "      <td>1</td>\n",
       "      <td>7</td>\n",
       "      <td>1.4</td>\n",
       "      <td>1.8</td>\n",
       "      <td>0.0</td>\n",
       "      <td>0</td>\n",
       "      <td>0</td>\n",
       "      <td>1</td>\n",
       "      <td>0</td>\n",
       "      <td>0</td>\n",
       "    </tr>\n",
       "    <tr>\n",
       "      <th>14</th>\n",
       "      <td>G BUCKLEY</td>\n",
       "      <td>0.0</td>\n",
       "      <td>59.0</td>\n",
       "      <td>5.0</td>\n",
       "      <td>g</td>\n",
       "      <td>4.0</td>\n",
       "      <td>0.0</td>\n",
       "      <td>0.0</td>\n",
       "      <td>61.4</td>\n",
       "      <td>1.0</td>\n",
       "      <td>...</td>\n",
       "      <td>1</td>\n",
       "      <td>7</td>\n",
       "      <td>3.0</td>\n",
       "      <td>2.3</td>\n",
       "      <td>0.0</td>\n",
       "      <td>0</td>\n",
       "      <td>0</td>\n",
       "      <td>1</td>\n",
       "      <td>0</td>\n",
       "      <td>0</td>\n",
       "    </tr>\n",
       "    <tr>\n",
       "      <th>22</th>\n",
       "      <td>K SWEENEY</td>\n",
       "      <td>0.0</td>\n",
       "      <td>54.5</td>\n",
       "      <td>4.0</td>\n",
       "      <td>g</td>\n",
       "      <td>2.0</td>\n",
       "      <td>1.0</td>\n",
       "      <td>2.0</td>\n",
       "      <td>61.1</td>\n",
       "      <td>1.0</td>\n",
       "      <td>...</td>\n",
       "      <td>1</td>\n",
       "      <td>8</td>\n",
       "      <td>2.6</td>\n",
       "      <td>10.2</td>\n",
       "      <td>0.0</td>\n",
       "      <td>0</td>\n",
       "      <td>0</td>\n",
       "      <td>1</td>\n",
       "      <td>0</td>\n",
       "      <td>0</td>\n",
       "    </tr>\n",
       "    <tr>\n",
       "      <th>28</th>\n",
       "      <td>M TRAVERS</td>\n",
       "      <td>0.0</td>\n",
       "      <td>56.0</td>\n",
       "      <td>6.0</td>\n",
       "      <td>g</td>\n",
       "      <td>2.0</td>\n",
       "      <td>2.0</td>\n",
       "      <td>2.0</td>\n",
       "      <td>55.6</td>\n",
       "      <td>1.0</td>\n",
       "      <td>...</td>\n",
       "      <td>1</td>\n",
       "      <td>8</td>\n",
       "      <td>2.1</td>\n",
       "      <td>7.4</td>\n",
       "      <td>2.8</td>\n",
       "      <td>0</td>\n",
       "      <td>0</td>\n",
       "      <td>1</td>\n",
       "      <td>0</td>\n",
       "      <td>0</td>\n",
       "    </tr>\n",
       "    <tr>\n",
       "      <th>...</th>\n",
       "      <td>...</td>\n",
       "      <td>...</td>\n",
       "      <td>...</td>\n",
       "      <td>...</td>\n",
       "      <td>...</td>\n",
       "      <td>...</td>\n",
       "      <td>...</td>\n",
       "      <td>...</td>\n",
       "      <td>...</td>\n",
       "      <td>...</td>\n",
       "      <td>...</td>\n",
       "      <td>...</td>\n",
       "      <td>...</td>\n",
       "      <td>...</td>\n",
       "      <td>...</td>\n",
       "      <td>...</td>\n",
       "      <td>...</td>\n",
       "      <td>...</td>\n",
       "      <td>...</td>\n",
       "      <td>...</td>\n",
       "      <td>...</td>\n",
       "    </tr>\n",
       "    <tr>\n",
       "      <th>194564</th>\n",
       "      <td>S SHEARGOLD</td>\n",
       "      <td>0.0</td>\n",
       "      <td>58.5</td>\n",
       "      <td>3.0</td>\n",
       "      <td>g</td>\n",
       "      <td>4.0</td>\n",
       "      <td>2.0</td>\n",
       "      <td>1.0</td>\n",
       "      <td>57.0</td>\n",
       "      <td>1.0</td>\n",
       "      <td>...</td>\n",
       "      <td>1</td>\n",
       "      <td>7</td>\n",
       "      <td>1.5</td>\n",
       "      <td>1.6</td>\n",
       "      <td>0.0</td>\n",
       "      <td>0</td>\n",
       "      <td>0</td>\n",
       "      <td>1</td>\n",
       "      <td>0</td>\n",
       "      <td>0</td>\n",
       "    </tr>\n",
       "    <tr>\n",
       "      <th>194570</th>\n",
       "      <td>A PATTILLO</td>\n",
       "      <td>0.0</td>\n",
       "      <td>55.5</td>\n",
       "      <td>4.0</td>\n",
       "      <td>g</td>\n",
       "      <td>3.0</td>\n",
       "      <td>0.0</td>\n",
       "      <td>0.0</td>\n",
       "      <td>59.0</td>\n",
       "      <td>1.0</td>\n",
       "      <td>...</td>\n",
       "      <td>1</td>\n",
       "      <td>8</td>\n",
       "      <td>2.8</td>\n",
       "      <td>2.2</td>\n",
       "      <td>0.0</td>\n",
       "      <td>0</td>\n",
       "      <td>0</td>\n",
       "      <td>1</td>\n",
       "      <td>0</td>\n",
       "      <td>0</td>\n",
       "    </tr>\n",
       "    <tr>\n",
       "      <th>194575</th>\n",
       "      <td>A PATTILLO</td>\n",
       "      <td>0.0</td>\n",
       "      <td>59.0</td>\n",
       "      <td>4.0</td>\n",
       "      <td>m</td>\n",
       "      <td>1.0</td>\n",
       "      <td>3.0</td>\n",
       "      <td>3.0</td>\n",
       "      <td>60.2</td>\n",
       "      <td>1.0</td>\n",
       "      <td>...</td>\n",
       "      <td>1</td>\n",
       "      <td>12</td>\n",
       "      <td>2.0</td>\n",
       "      <td>1.8</td>\n",
       "      <td>3.7</td>\n",
       "      <td>0</td>\n",
       "      <td>0</td>\n",
       "      <td>1</td>\n",
       "      <td>0</td>\n",
       "      <td>0</td>\n",
       "    </tr>\n",
       "    <tr>\n",
       "      <th>194592</th>\n",
       "      <td>A PATTILLO</td>\n",
       "      <td>0.0</td>\n",
       "      <td>54.0</td>\n",
       "      <td>6.0</td>\n",
       "      <td>g</td>\n",
       "      <td>4.0</td>\n",
       "      <td>2.0</td>\n",
       "      <td>2.0</td>\n",
       "      <td>59.2</td>\n",
       "      <td>1.0</td>\n",
       "      <td>...</td>\n",
       "      <td>1</td>\n",
       "      <td>9</td>\n",
       "      <td>1.8</td>\n",
       "      <td>1.7</td>\n",
       "      <td>3.1</td>\n",
       "      <td>0</td>\n",
       "      <td>0</td>\n",
       "      <td>1</td>\n",
       "      <td>0</td>\n",
       "      <td>0</td>\n",
       "    </tr>\n",
       "    <tr>\n",
       "      <th>194601</th>\n",
       "      <td>C MCIVER</td>\n",
       "      <td>0.0</td>\n",
       "      <td>57.5</td>\n",
       "      <td>4.0</td>\n",
       "      <td>g</td>\n",
       "      <td>3.0</td>\n",
       "      <td>2.0</td>\n",
       "      <td>2.0</td>\n",
       "      <td>58.2</td>\n",
       "      <td>1.0</td>\n",
       "      <td>...</td>\n",
       "      <td>1</td>\n",
       "      <td>14</td>\n",
       "      <td>4.0</td>\n",
       "      <td>3.3</td>\n",
       "      <td>1.6</td>\n",
       "      <td>0</td>\n",
       "      <td>0</td>\n",
       "      <td>1</td>\n",
       "      <td>0</td>\n",
       "      <td>0</td>\n",
       "    </tr>\n",
       "  </tbody>\n",
       "</table>\n",
       "<p>19524 rows × 32 columns</p>\n",
       "</div>"
      ],
      "text/plain": [
       "             JOCKEY  ALL   WGT  AGE SEX  WINS  PL2  PL3  XPEAK  POS  ...  \\\n",
       "4         J KISSICK  0.0  57.0  4.0   m   0.0  1.0  0.0   62.4  1.0  ...   \n",
       "9         R BENSLEY  0.0  58.0  4.0   g   1.0  2.0  1.0   59.6  1.0  ...   \n",
       "14        G BUCKLEY  0.0  59.0  5.0   g   4.0  0.0  0.0   61.4  1.0  ...   \n",
       "22        K SWEENEY  0.0  54.5  4.0   g   2.0  1.0  2.0   61.1  1.0  ...   \n",
       "28        M TRAVERS  0.0  56.0  6.0   g   2.0  2.0  2.0   55.6  1.0  ...   \n",
       "...             ...  ...   ...  ...  ..   ...  ...  ...    ...  ...  ...   \n",
       "194564  S SHEARGOLD  0.0  58.5  3.0   g   4.0  2.0  1.0   57.0  1.0  ...   \n",
       "194570   A PATTILLO  0.0  55.5  4.0   g   3.0  0.0  0.0   59.0  1.0  ...   \n",
       "194575   A PATTILLO  0.0  59.0  4.0   m   1.0  3.0  3.0   60.2  1.0  ...   \n",
       "194592   A PATTILLO  0.0  54.0  6.0   g   4.0  2.0  2.0   59.2  1.0  ...   \n",
       "194601     C MCIVER  0.0  57.5  4.0   g   3.0  2.0  2.0   58.2  1.0  ...   \n",
       "\n",
       "       CLAIM  NREC  PD1   PD2  PD3  DEAD  FAST  GOOD  HEAVY  SLOW  \n",
       "4          1    12  1.3   2.1  3.2     0     0     1      0     0  \n",
       "9          1     7  1.4   1.8  0.0     0     0     1      0     0  \n",
       "14         1     7  3.0   2.3  0.0     0     0     1      0     0  \n",
       "22         1     8  2.6  10.2  0.0     0     0     1      0     0  \n",
       "28         1     8  2.1   7.4  2.8     0     0     1      0     0  \n",
       "...      ...   ...  ...   ...  ...   ...   ...   ...    ...   ...  \n",
       "194564     1     7  1.5   1.6  0.0     0     0     1      0     0  \n",
       "194570     1     8  2.8   2.2  0.0     0     0     1      0     0  \n",
       "194575     1    12  2.0   1.8  3.7     0     0     1      0     0  \n",
       "194592     1     9  1.8   1.7  3.1     0     0     1      0     0  \n",
       "194601     1    14  4.0   3.3  1.6     0     0     1      0     0  \n",
       "\n",
       "[19524 rows x 32 columns]"
      ]
     },
     "execution_count": 562,
     "metadata": {},
     "output_type": "execute_result"
    }
   ],
   "source": [
    "merged_data[merged_data['POS']==1]"
   ]
  },
  {
   "cell_type": "markdown",
   "metadata": {},
   "source": [
    "# Model"
   ]
  },
  {
   "cell_type": "code",
   "execution_count": 540,
   "metadata": {},
   "outputs": [],
   "source": [
    "X=merged_data.drop(['POS','JOCKEY','HORSEID','JUMP','SEX'],axis=1)\n",
    "y=merged_data['POS'].values"
   ]
  },
  {
   "cell_type": "code",
   "execution_count": 541,
   "metadata": {},
   "outputs": [],
   "source": [
    "from sklearn.model_selection import train_test_split"
   ]
  },
  {
   "cell_type": "code",
   "execution_count": 542,
   "metadata": {},
   "outputs": [],
   "source": [
    "X_train, X_test, y_train, y_test = train_test_split(X, y, test_size=0.3, random_state=0)"
   ]
  },
  {
   "cell_type": "code",
   "execution_count": 543,
   "metadata": {},
   "outputs": [],
   "source": [
    "# Scaling the data"
   ]
  },
  {
   "cell_type": "code",
   "execution_count": 544,
   "metadata": {},
   "outputs": [],
   "source": [
    "from sklearn.preprocessing import StandardScaler"
   ]
  },
  {
   "cell_type": "code",
   "execution_count": 545,
   "metadata": {},
   "outputs": [],
   "source": [
    "ss=StandardScaler()"
   ]
  },
  {
   "cell_type": "code",
   "execution_count": 546,
   "metadata": {
    "scrolled": true
   },
   "outputs": [
    {
     "data": {
      "text/plain": [
       "array([[ 1.3711204 ,  0.12831717, -0.34567251, ...,  0.9291208 ,\n",
       "        -0.3295213 , -0.34436161],\n",
       "       [ 1.3711204 ,  0.12831717, -0.34567251, ...,  0.9291208 ,\n",
       "        -0.3295213 , -0.34436161],\n",
       "       [-0.52317543,  0.12831717, -0.34567251, ...,  0.9291208 ,\n",
       "        -0.3295213 , -0.34436161],\n",
       "       ...,\n",
       "       [-0.52317543,  0.12831717,  1.61088901, ...,  0.9291208 ,\n",
       "        -0.3295213 , -0.34436161],\n",
       "       [-0.52317543, -0.78509476,  0.95870184, ...,  0.9291208 ,\n",
       "        -0.3295213 , -0.34436161],\n",
       "       [-0.52317543, -1.24180072,  1.61088901, ...,  0.9291208 ,\n",
       "        -0.3295213 , -0.34436161]])"
      ]
     },
     "execution_count": 546,
     "metadata": {},
     "output_type": "execute_result"
    }
   ],
   "source": [
    "ss.fit_transform(X)"
   ]
  },
  {
   "cell_type": "code",
   "execution_count": 547,
   "metadata": {},
   "outputs": [],
   "source": [
    "from sklearn.metrics import accuracy_score,confusion_matrix,classification_report,roc_auc_score"
   ]
  },
  {
   "cell_type": "markdown",
   "metadata": {},
   "source": [
    "# Applying LDA"
   ]
  },
  {
   "cell_type": "code",
   "execution_count": 548,
   "metadata": {},
   "outputs": [],
   "source": [
    "from sklearn.discriminant_analysis import LinearDiscriminantAnalysis"
   ]
  },
  {
   "cell_type": "code",
   "execution_count": 549,
   "metadata": {},
   "outputs": [],
   "source": [
    "LDA=LinearDiscriminantAnalysis(n_components=20)"
   ]
  },
  {
   "cell_type": "code",
   "execution_count": 550,
   "metadata": {},
   "outputs": [
    {
     "data": {
      "text/plain": [
       "LinearDiscriminantAnalysis(n_components=20, priors=None, shrinkage=None,\n",
       "                           solver='svd', store_covariance=False, tol=0.0001)"
      ]
     },
     "execution_count": 550,
     "metadata": {},
     "output_type": "execute_result"
    }
   ],
   "source": [
    "LDA.fit(X_train,y_train)"
   ]
  },
  {
   "cell_type": "code",
   "execution_count": 551,
   "metadata": {},
   "outputs": [],
   "source": [
    "ytrain_pred=LDA.predict(X_train)\n",
    "ytrain_prob=LDA.predict_proba(X_train)\n",
    "ytest_pred=LDA.predict(X_test)\n",
    "ytest_prob=LDA.predict_proba(X_test)"
   ]
  },
  {
   "cell_type": "code",
   "execution_count": 552,
   "metadata": {},
   "outputs": [
    {
     "name": "stdout",
     "output_type": "stream",
     "text": [
      "AUC of Train:  0.8049332266762224\n",
      "AUC score of test:  0.8015663240638699\n"
     ]
    }
   ],
   "source": [
    "print(\"AUC of Train: \", roc_auc_score(y_train,ytrain_prob,multi_class='ovr'))\n",
    "print(\"AUC score of test: \", roc_auc_score(y_test,ytest_prob,multi_class='ovr'))"
   ]
  },
  {
   "cell_type": "code",
   "execution_count": 553,
   "metadata": {},
   "outputs": [
    {
     "name": "stdout",
     "output_type": "stream",
     "text": [
      "              precision    recall  f1-score   support\n",
      "\n",
      "         1.0       0.22      0.59      0.32      5889\n",
      "         2.0       0.15      0.11      0.13      5832\n",
      "         3.0       0.13      0.10      0.12      5687\n",
      "         4.0       0.12      0.08      0.10      5765\n",
      "         5.0       0.13      0.12      0.12      5655\n",
      "         6.0       0.13      0.12      0.12      5578\n",
      "         7.0       0.13      0.11      0.12      5259\n",
      "         8.0       0.13      0.13      0.13      4786\n",
      "         9.0       0.12      0.08      0.09      4184\n",
      "        10.0       0.12      0.15      0.14      3330\n",
      "        11.0       0.11      0.07      0.09      2569\n",
      "        12.0       0.16      0.11      0.13      1825\n",
      "        13.0       0.10      0.02      0.04      1033\n",
      "        14.0       0.11      0.02      0.03       638\n",
      "        15.0       0.06      0.08      0.07       206\n",
      "        16.0       0.02      0.01      0.01       109\n",
      "        17.0       0.01      0.08      0.01        12\n",
      "        18.0       0.00      0.00      0.00         4\n",
      "        19.0       0.00      0.00      0.00         2\n",
      "        20.0       0.00      0.00      0.00         1\n",
      "        21.0       0.00      0.00      0.00         1\n",
      "        22.0       0.00      0.00      0.00         0\n",
      "        23.0       0.00      0.00      0.00         1\n",
      "        24.0       0.00      0.00      0.00         0\n",
      "\n",
      "    accuracy                           0.15     58366\n",
      "   macro avg       0.08      0.08      0.07     58366\n",
      "weighted avg       0.14      0.15      0.13     58366\n",
      "\n"
     ]
    },
    {
     "name": "stderr",
     "output_type": "stream",
     "text": [
      "C:\\Users\\sidko\\Anaconda3\\lib\\site-packages\\sklearn\\metrics\\_classification.py:1272: UndefinedMetricWarning: Precision and F-score are ill-defined and being set to 0.0 in labels with no predicted samples. Use `zero_division` parameter to control this behavior.\n",
      "  _warn_prf(average, modifier, msg_start, len(result))\n",
      "C:\\Users\\sidko\\Anaconda3\\lib\\site-packages\\sklearn\\metrics\\_classification.py:1272: UndefinedMetricWarning: Recall and F-score are ill-defined and being set to 0.0 in labels with no true samples. Use `zero_division` parameter to control this behavior.\n",
      "  _warn_prf(average, modifier, msg_start, len(result))\n"
     ]
    }
   ],
   "source": [
    "print(classification_report(y_test,ytest_pred))"
   ]
  },
  {
   "cell_type": "markdown",
   "metadata": {},
   "source": [
    "# Random Forest"
   ]
  },
  {
   "cell_type": "code",
   "execution_count": 554,
   "metadata": {},
   "outputs": [],
   "source": [
    "from sklearn.ensemble import RandomForestClassifier"
   ]
  },
  {
   "cell_type": "code",
   "execution_count": 555,
   "metadata": {},
   "outputs": [],
   "source": [
    "rf=RandomForestClassifier(random_state=0,n_estimators=200,max_depth=8)"
   ]
  },
  {
   "cell_type": "code",
   "execution_count": 556,
   "metadata": {},
   "outputs": [
    {
     "data": {
      "text/plain": [
       "RandomForestClassifier(bootstrap=True, ccp_alpha=0.0, class_weight=None,\n",
       "                       criterion='gini', max_depth=8, max_features='auto',\n",
       "                       max_leaf_nodes=None, max_samples=None,\n",
       "                       min_impurity_decrease=0.0, min_impurity_split=None,\n",
       "                       min_samples_leaf=1, min_samples_split=2,\n",
       "                       min_weight_fraction_leaf=0.0, n_estimators=200,\n",
       "                       n_jobs=None, oob_score=False, random_state=0, verbose=0,\n",
       "                       warm_start=False)"
      ]
     },
     "execution_count": 556,
     "metadata": {},
     "output_type": "execute_result"
    }
   ],
   "source": [
    "rf.fit(X_train,y_train)"
   ]
  },
  {
   "cell_type": "code",
   "execution_count": 557,
   "metadata": {},
   "outputs": [],
   "source": [
    "ytrain_pred=rf.predict(X_train)\n",
    "ytrain_prob=rf.predict_proba(X_train)\n",
    "ytest_pred=rf.predict(X_test)\n",
    "ytest_prob=rf.predict_proba(X_test)"
   ]
  },
  {
   "cell_type": "code",
   "execution_count": 558,
   "metadata": {},
   "outputs": [
    {
     "name": "stdout",
     "output_type": "stream",
     "text": [
      "AUC of Train:  0.8343902267284146\n",
      "AUC score of test:  0.7909404526907543\n"
     ]
    }
   ],
   "source": [
    "print(\"AUC of Train: \", roc_auc_score(y_train,ytrain_prob,multi_class='ovr'))\n",
    "print(\"AUC score of test: \", roc_auc_score(y_test,ytest_prob,multi_class='ovr'))"
   ]
  },
  {
   "cell_type": "code",
   "execution_count": 559,
   "metadata": {},
   "outputs": [
    {
     "name": "stdout",
     "output_type": "stream",
     "text": [
      "              precision    recall  f1-score   support\n",
      "\n",
      "         1.0       0.22      0.71      0.33      5889\n",
      "         2.0       0.13      0.09      0.11      5832\n",
      "         3.0       0.12      0.06      0.08      5687\n",
      "         4.0       0.14      0.09      0.11      5765\n",
      "         5.0       0.15      0.10      0.12      5655\n",
      "         6.0       0.14      0.09      0.11      5578\n",
      "         7.0       0.13      0.14      0.13      5259\n",
      "         8.0       0.15      0.22      0.18      4786\n",
      "         9.0       0.14      0.09      0.11      4184\n",
      "        10.0       0.14      0.15      0.15      3330\n",
      "        11.0       0.18      0.07      0.10      2569\n",
      "        12.0       0.17      0.06      0.09      1825\n",
      "        13.0       0.17      0.01      0.02      1033\n",
      "        14.0       0.36      0.02      0.04       638\n",
      "        15.0       0.00      0.00      0.00       206\n",
      "        16.0       0.00      0.00      0.00       109\n",
      "        17.0       0.00      0.00      0.00        12\n",
      "        18.0       0.00      0.00      0.00         4\n",
      "        19.0       0.00      0.00      0.00         2\n",
      "        20.0       0.00      0.00      0.00         1\n",
      "        21.0       0.00      0.00      0.00         1\n",
      "        23.0       0.00      0.00      0.00         1\n",
      "\n",
      "    accuracy                           0.17     58366\n",
      "   macro avg       0.11      0.09      0.08     58366\n",
      "weighted avg       0.15      0.17      0.14     58366\n",
      "\n"
     ]
    },
    {
     "name": "stderr",
     "output_type": "stream",
     "text": [
      "C:\\Users\\sidko\\Anaconda3\\lib\\site-packages\\sklearn\\metrics\\_classification.py:1272: UndefinedMetricWarning: Precision and F-score are ill-defined and being set to 0.0 in labels with no predicted samples. Use `zero_division` parameter to control this behavior.\n",
      "  _warn_prf(average, modifier, msg_start, len(result))\n"
     ]
    }
   ],
   "source": [
    "print(classification_report(y_test,ytest_pred))"
   ]
  },
  {
   "cell_type": "code",
   "execution_count": 560,
   "metadata": {},
   "outputs": [],
   "source": [
    "merged_data.to_csv('Horse_final.csv')"
   ]
  },
  {
   "cell_type": "code",
   "execution_count": null,
   "metadata": {},
   "outputs": [],
   "source": []
  },
  {
   "cell_type": "code",
   "execution_count": null,
   "metadata": {},
   "outputs": [],
   "source": []
  }
 ],
 "metadata": {
  "kernelspec": {
   "display_name": "Python 3",
   "language": "python",
   "name": "python3"
  },
  "language_info": {
   "codemirror_mode": {
    "name": "ipython",
    "version": 3
   },
   "file_extension": ".py",
   "mimetype": "text/x-python",
   "name": "python",
   "nbconvert_exporter": "python",
   "pygments_lexer": "ipython3",
   "version": "3.7.6"
  }
 },
 "nbformat": 4,
 "nbformat_minor": 4
}
